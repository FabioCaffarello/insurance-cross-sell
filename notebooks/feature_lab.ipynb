{
 "cells": [
  {
   "cell_type": "markdown",
   "metadata": {},
   "source": [
    "# 0.0 Imports"
   ]
  },
  {
   "cell_type": "markdown",
   "metadata": {},
   "source": [
    "## 0.1 Libraries"
   ]
  },
  {
   "cell_type": "code",
   "execution_count": 1,
   "metadata": {
    "ExecuteTime": {
     "end_time": "2021-01-30T23:20:17.841220Z",
     "start_time": "2021-01-30T23:20:14.410219Z"
    }
   },
   "outputs": [],
   "source": [
    "import shap\n",
    "import random\n",
    "import bisect\n",
    "import warnings\n",
    "\n",
    "import numpy             as np\n",
    "import joblib            as jb\n",
    "import pandas            as pd\n",
    "import scipy.stats       as ss\n",
    "\n",
    "import seaborn           as sns\n",
    "import matplotlib.pyplot as plt\n",
    "\n",
    "from matplotlib.gridspec     import GridSpec\n",
    "\n",
    "from IPython.display         import Image\n",
    "from IPython.core.display    import HTML\n",
    "\n",
    "from imblearn.combine        import SMOTETomek\n",
    "\n",
    "from pandas_profiling        import ProfileReport\n",
    "\n",
    "from sklearn.metrics         import (accuracy_score, roc_auc_score, average_precision_score, precision_score,\n",
    "                                    recall_score, f1_score, cohen_kappa_score, balanced_accuracy_score, classification_report)\n",
    "from sklearn.ensemble        import RandomForestClassifier, ExtraTreesClassifier\n",
    "from sklearn.neighbors       import KNeighborsClassifier\n",
    "from sklearn.linear_model    import LogisticRegression\n",
    "from sklearn.preprocessing   import OneHotEncoder, LabelEncoder\n",
    "from sklearn.model_selection import StratifiedShuffleSplit, train_test_split, StratifiedKFold\n",
    "\n",
    "from xgboost                 import XGBClassifier\n",
    "from lightgbm                import LGBMClassifier\n",
    "from catboost                import CatBoostClassifier\n",
    "\n",
    "from skopt                   import forest_minimize\n",
    "from skopt.plots             import plot_convergence\n",
    "\n",
    "from boruta                  import BorutaPy\n",
    "\n",
    "from scikitplot.metrics      import plot_confusion_matrix, plot_cumulative_gain, plot_lift_curve\n",
    "\n",
    "# costomized packages\n",
    "import sys\n",
    "sys.path.append('../')\n",
    "\n",
    "from src.data.make_dataset   import Dataset"
   ]
  },
  {
   "cell_type": "markdown",
   "metadata": {},
   "source": [
    "## 0.2 Helper Functions"
   ]
  },
  {
   "cell_type": "markdown",
   "metadata": {},
   "source": [
    "### 0.2.1 Notebook config"
   ]
  },
  {
   "cell_type": "code",
   "execution_count": 2,
   "metadata": {
    "ExecuteTime": {
     "end_time": "2021-01-30T23:21:34.162095Z",
     "start_time": "2021-01-30T23:21:34.148092Z"
    }
   },
   "outputs": [],
   "source": [
    "def jupyter_settings():\n",
    "    %matplotlib inline\n",
    "    \n",
    "    plt.style.use('bmh')\n",
    "    plt.rcParams['figure.figsize'] = [25, 12]\n",
    "    plt.rcParams['font.size'] = 24\n",
    "    \n",
    "    display( HTML('<style>.container { width:85% !important; }</style>'))\n",
    "    pd.options.display.max_columns = None\n",
    "    pd.options.display.max_rows = None\n",
    "    pd.set_option('display.expand_frame_repr', False)\n",
    "    \n",
    "    warnings.filterwarnings(\"ignore\")\n",
    "    \n",
    "    sns.set()"
   ]
  },
  {
   "cell_type": "code",
   "execution_count": 3,
   "metadata": {
    "ExecuteTime": {
     "end_time": "2021-01-30T23:21:42.612093Z",
     "start_time": "2021-01-30T23:21:42.594094Z"
    }
   },
   "outputs": [
    {
     "data": {
      "text/html": [
       "<style>.container { width:85% !important; }</style>"
      ],
      "text/plain": [
       "<IPython.core.display.HTML object>"
      ]
     },
     "metadata": {},
     "output_type": "display_data"
    }
   ],
   "source": [
    "jupyter_settings()"
   ]
  },
  {
   "cell_type": "markdown",
   "metadata": {},
   "source": [
    "### 0.2.2 Functions"
   ]
  },
  {
   "cell_type": "code",
   "execution_count": 10,
   "metadata": {
    "ExecuteTime": {
     "end_time": "2021-01-30T23:29:59.335490Z",
     "start_time": "2021-01-30T23:29:59.323491Z"
    }
   },
   "outputs": [],
   "source": [
    "#========================================= Group Age by an Age Stage =========================================#\n",
    "def age_stage(num, breakpoints=[10, 20, 30, 45, 60, 70, 80, 120], result='01234567'):\n",
    "    i = bisect.bisect(breakpoints, num-1)\n",
    "    age_mapping = {\n",
    "        0: 'Child',\n",
    "        1: 'Teenager',\n",
    "        2: 'Young',\n",
    "        3: 'Adult',\n",
    "        4: 'Midlife',\n",
    "        5: 'Senior',\n",
    "        6: 'Mature Adulthood',\n",
    "        7: 'Late Adulthood'\n",
    "    }\n",
    "    return age_mapping[i]"
   ]
  },
  {
   "cell_type": "markdown",
   "metadata": {},
   "source": [
    "## 0.3 Loading data"
   ]
  },
  {
   "cell_type": "code",
   "execution_count": 4,
   "metadata": {
    "ExecuteTime": {
     "end_time": "2021-01-30T23:22:16.787094Z",
     "start_time": "2021-01-30T23:22:16.775092Z"
    }
   },
   "outputs": [],
   "source": [
    "dataset = Dataset()"
   ]
  },
  {
   "cell_type": "markdown",
   "metadata": {
    "ExecuteTime": {
     "end_time": "2021-01-30T23:22:38.455098Z",
     "start_time": "2021-01-30T23:22:38.447098Z"
    }
   },
   "source": [
    "### 0.3.1 Query Train Dataset"
   ]
  },
  {
   "cell_type": "code",
   "execution_count": 6,
   "metadata": {
    "ExecuteTime": {
     "end_time": "2021-01-30T23:23:09.238092Z",
     "start_time": "2021-01-30T23:23:00.482097Z"
    }
   },
   "outputs": [],
   "source": [
    "df_raw = dataset.get_train_data(\"../query/raw_data.sql\")"
   ]
  },
  {
   "cell_type": "markdown",
   "metadata": {},
   "source": [
    "# 1.0 Feature Engineering"
   ]
  },
  {
   "cell_type": "code",
   "execution_count": 157,
   "metadata": {
    "ExecuteTime": {
     "end_time": "2021-01-31T04:12:51.592679Z",
     "start_time": "2021-01-31T04:12:51.525620Z"
    }
   },
   "outputs": [],
   "source": [
    "df02 = df_raw.copy()"
   ]
  },
  {
   "cell_type": "code",
   "execution_count": 158,
   "metadata": {
    "ExecuteTime": {
     "end_time": "2021-01-31T04:13:32.442961Z",
     "start_time": "2021-01-31T04:12:52.146523Z"
    }
   },
   "outputs": [],
   "source": [
    "# Age Stage\n",
    "df02['age_stage'] = df02['age'].apply(lambda row: age_stage(row))\n",
    "\n",
    "\n",
    "# vehicle age\n",
    "vehicle_age_mapping = {'< 1 Year':0,\n",
    "                       '1-2 Year':1,\n",
    "                       '> 2 Years':2}\n",
    "df02['vehicle_age'] = df02['vehicle_age'].map(vehicle_age_mapping)\n",
    "\n",
    "\n",
    "# Vehicle Damage\n",
    "vehicle_damage_mapping = {'No':0,\n",
    "                          'Yes':1}\n",
    "df02['vehicle_damage'] = df02['vehicle_damage'].map(vehicle_damage_mapping)\n",
    "\n",
    "\n",
    "# Vehicle Damage Licence\n",
    "df02['vehicle_damage_license'] = df02.apply(lambda row: -(row['vehicle_damage'] + row['driving_license'])**2\\\n",
    "    \n",
    "                                            if row['driving_license'] == 0 else (row['vehicle_damage'] + row['driving_license'])**2, axis=1)\n",
    "\n",
    "# vehicle_damage vs vehicle_age\n",
    "df02['vehicle_damage_vehicle_age'] = df02.apply(lambda row: -(row['vehicle_damage'] + row['vehicle_age'])**2\\\n",
    "                                                if row['vehicle_damage'] == 1 else (row['vehicle_damage'] + row['vehicle_age'])**2, axis=1)\n",
    "\n",
    "\n",
    "# ratio of age to average age by region\n",
    "region_code_mean_age = pd.DataFrame(df02.groupby('region_code')['age'].mean()).reset_index().rename(columns={'age':'mean_age_by_region_code'})\n",
    "df02 = pd.merge(df02, region_code_mean_age, how='left', on='region_code')\n",
    "\n",
    "df02['age_mean_age_by_region_code'] = df02['age'] / df02['mean_age_by_region_code']\n",
    "del region_code_mean_age\n",
    "\n",
    "\n",
    "# ratio of age to average age by policy sales channel\n",
    "policy_sales_channel_mean_age = pd.DataFrame(df02.groupby('policy_sales_channel')['age'].mean()).reset_index().rename(columns={'age':'mean_age_by_policy_sales_channel'})\n",
    "df02 = pd.merge(df02, policy_sales_channel_mean_age, how='left', on='policy_sales_channel')\n",
    "\n",
    "df02['age_mean_age_by_policy_sales_channel'] = df02['age'] / df02['mean_age_by_policy_sales_channel']\n",
    "del policy_sales_channel_mean_age\n",
    "\n",
    "\n",
    "# ratio of annual premmium to average annual premmium by redion\n",
    "region_code_mean_annual_premium = pd.DataFrame(df02.groupby('region_code')['annual_premium'].mean()).reset_index().rename(columns={'annual_premium':'mean_annual_premium_by_region_code'})\n",
    "df02 = pd.merge(df02, region_code_mean_annual_premium, how='left', on='region_code')\n",
    "\n",
    "df02['annual_premium_mean_annual_premium_by_region_code'] = df02['annual_premium'] / df02['mean_annual_premium_by_region_code']\n",
    "del region_code_mean_annual_premium\n",
    "\n",
    "\n",
    "# ratio of annual premmium to average annual premmium by policy sales channel\n",
    "policy_sales_channel_mean_annual_premium = pd.DataFrame(df02.groupby('policy_sales_channel')['annual_premium'].mean()).reset_index().rename(columns={'annual_premium':'mean_annual_premium_by_policy_sales_channel'})\n",
    "df02 = pd.merge(df02, policy_sales_channel_mean_annual_premium, how='left', on='policy_sales_channel')\n",
    "\n",
    "df02['annual_premium_mean_annual_premium_by_policy_sales_channel'] = df02['annual_premium'] / df02['mean_annual_premium_by_policy_sales_channel']\n",
    "del policy_sales_channel_mean_annual_premium\n",
    "\n",
    "\n",
    "\n",
    "# ratio of age (converted for days) to the vintage\n",
    "df02['age_vintage'] = (df02['age']*365) / df02['vintage']"
   ]
  },
  {
   "cell_type": "code",
   "execution_count": 159,
   "metadata": {
    "ExecuteTime": {
     "end_time": "2021-01-31T04:13:32.474202Z",
     "start_time": "2021-01-31T04:13:32.449029Z"
    }
   },
   "outputs": [
    {
     "data": {
      "text/plain": [
       "id                                                              int64\n",
       "gender                                                         object\n",
       "age                                                             int64\n",
       "region_code                                                   float64\n",
       "policy_sales_channel                                          float64\n",
       "driving_license                                                 int64\n",
       "vehicle_age                                                     int64\n",
       "vehicle_damage                                                  int64\n",
       "previously_insured                                              int64\n",
       "annual_premium                                                float64\n",
       "vintage                                                         int64\n",
       "response                                                        int64\n",
       "age_stage                                                      object\n",
       "vehicle_damage_license                                          int64\n",
       "vehicle_damage_vehicle_age                                      int64\n",
       "mean_age_by_region_code                                       float64\n",
       "age_mean_age_by_region_code                                   float64\n",
       "mean_age_by_policy_sales_channel                              float64\n",
       "age_mean_age_by_policy_sales_channel                          float64\n",
       "mean_annual_premium_by_region_code                            float64\n",
       "annual_premium_mean_annual_premium_by_region_code             float64\n",
       "mean_annual_premium_by_policy_sales_channel                   float64\n",
       "annual_premium_mean_annual_premium_by_policy_sales_channel    float64\n",
       "age_vintage                                                   float64\n",
       "dtype: object"
      ]
     },
     "execution_count": 159,
     "metadata": {},
     "output_type": "execute_result"
    }
   ],
   "source": [
    "df02.dtypes"
   ]
  },
  {
   "cell_type": "code",
   "execution_count": 160,
   "metadata": {
    "ExecuteTime": {
     "end_time": "2021-01-31T04:14:01.223544Z",
     "start_time": "2021-01-31T04:13:32.481662Z"
    }
   },
   "outputs": [],
   "source": [
    "########\n",
    "df02['gender'] = df02['gender'].apply(lambda row: 0 if row == 'Male' else 1)\n",
    "\n",
    "\n",
    "\n",
    "#customer_term_year\n",
    "df02['customer_term_year'] = df02['vintage']/365\n",
    "\n",
    "#insured_gender\n",
    "df02['insured_gender'] = (100 + 10*df02['previously_insured'] + df02['gender'])/100\n",
    "\n",
    "#license_insured\n",
    "df02['license_insured'] = (100 + 10*df02['driving_license'] + df02['previously_insured'])/100\n",
    "\n",
    "# # oportunity_by_policy_sales_channel (previously_insured)\n",
    "oportunity_by_policy_sales_channel = pd.DataFrame(df02.groupby('policy_sales_channel')['previously_insured'].mean()).reset_index().rename(columns={'previously_insured': 'oportunity_by_policy_sales_channel'})\n",
    "oportunity_by_policy_sales_channel['oportunity_by_policy_sales_channel'] = 1 - oportunity_by_policy_sales_channel['oportunity_by_policy_sales_channel']\n",
    "df02 = pd.merge(df02, oportunity_by_policy_sales_channel, how='left', on='policy_sales_channel')\n",
    "df02['oportunity_by_policy_sales_channel'] = df02.apply(lambda row: 0.0 if row['previously_insured'] == 1 else row['oportunity_by_policy_sales_channel'], axis=1)\n",
    "del oportunity_by_policy_sales_channel\n",
    "\n",
    "\n",
    "# oportunity_by_policy_sales_channel (previously_insured)\n",
    "oportunity_by_region_code = pd.DataFrame(df02.groupby('region_code')['previously_insured'].mean()).reset_index().rename(columns={'previously_insured': 'oportunity_by_region_code'})\n",
    "oportunity_by_region_code['oportunity_by_region_code'] = 1 - oportunity_by_region_code['oportunity_by_region_code']\n",
    "df02 = pd.merge(df02, oportunity_by_region_code, how='left', on='region_code')\n",
    "df02['oportunity_by_region_code'] = df02.apply(lambda row: 0.0 if row['previously_insured'] == 1 else row['oportunity_by_region_code'], axis=1)\n",
    "del oportunity_by_region_code\n",
    "\n",
    "\n",
    "age_stage_vehicle_damage_annual_premium = df02.groupby(['age_stage','vehicle_damage'])['annual_premium'].agg(['mean','std'])\n",
    "age_stage_vehicle_damage_annual_premium.columns = [x +'_age_damage_premium' for x in age_stage_vehicle_damage_annual_premium.columns.ravel()]\n",
    "df02 = pd.merge(df02, age_stage_vehicle_damage_annual_premium, on=['age_stage','vehicle_damage'], how='left')\n",
    "\n"
   ]
  },
  {
   "cell_type": "code",
   "execution_count": 163,
   "metadata": {
    "ExecuteTime": {
     "end_time": "2021-01-31T04:19:50.288807Z",
     "start_time": "2021-01-31T04:19:50.235892Z"
    }
   },
   "outputs": [
    {
     "data": {
      "text/html": [
       "<div>\n",
       "<style scoped>\n",
       "    .dataframe tbody tr th:only-of-type {\n",
       "        vertical-align: middle;\n",
       "    }\n",
       "\n",
       "    .dataframe tbody tr th {\n",
       "        vertical-align: top;\n",
       "    }\n",
       "\n",
       "    .dataframe thead th {\n",
       "        text-align: right;\n",
       "    }\n",
       "</style>\n",
       "<table border=\"1\" class=\"dataframe\">\n",
       "  <thead>\n",
       "    <tr style=\"text-align: right;\">\n",
       "      <th></th>\n",
       "      <th>id</th>\n",
       "      <th>gender</th>\n",
       "      <th>age</th>\n",
       "      <th>region_code</th>\n",
       "      <th>policy_sales_channel</th>\n",
       "      <th>driving_license</th>\n",
       "      <th>vehicle_age</th>\n",
       "      <th>vehicle_damage</th>\n",
       "      <th>previously_insured</th>\n",
       "      <th>annual_premium</th>\n",
       "      <th>vintage</th>\n",
       "      <th>response</th>\n",
       "      <th>age_stage</th>\n",
       "      <th>vehicle_damage_license</th>\n",
       "      <th>vehicle_damage_vehicle_age</th>\n",
       "      <th>mean_age_by_region_code</th>\n",
       "      <th>age_mean_age_by_region_code</th>\n",
       "      <th>mean_age_by_policy_sales_channel</th>\n",
       "      <th>age_mean_age_by_policy_sales_channel</th>\n",
       "      <th>mean_annual_premium_by_region_code</th>\n",
       "      <th>annual_premium_mean_annual_premium_by_region_code</th>\n",
       "      <th>mean_annual_premium_by_policy_sales_channel</th>\n",
       "      <th>annual_premium_mean_annual_premium_by_policy_sales_channel</th>\n",
       "      <th>age_vintage</th>\n",
       "      <th>customer_term_year</th>\n",
       "      <th>insured_gender</th>\n",
       "      <th>license_insured</th>\n",
       "      <th>oportunity_by_policy_sales_channel</th>\n",
       "      <th>oportunity_by_region_code</th>\n",
       "      <th>mean_age_damage_premium</th>\n",
       "      <th>std_age_damage_premium</th>\n",
       "    </tr>\n",
       "  </thead>\n",
       "  <tbody>\n",
       "    <tr>\n",
       "      <th>0</th>\n",
       "      <td>7</td>\n",
       "      <td>0</td>\n",
       "      <td>23</td>\n",
       "      <td>11.0</td>\n",
       "      <td>152.0</td>\n",
       "      <td>1</td>\n",
       "      <td>0</td>\n",
       "      <td>1</td>\n",
       "      <td>0</td>\n",
       "      <td>23367.0</td>\n",
       "      <td>249</td>\n",
       "      <td>0</td>\n",
       "      <td>Young</td>\n",
       "      <td>4</td>\n",
       "      <td>-1</td>\n",
       "      <td>34.374567</td>\n",
       "      <td>0.669099</td>\n",
       "      <td>26.214825</td>\n",
       "      <td>0.877366</td>\n",
       "      <td>27607.283146</td>\n",
       "      <td>0.846407</td>\n",
       "      <td>30889.192493</td>\n",
       "      <td>0.756478</td>\n",
       "      <td>33.714859</td>\n",
       "      <td>0.682192</td>\n",
       "      <td>1.00</td>\n",
       "      <td>1.10</td>\n",
       "      <td>0.270418</td>\n",
       "      <td>0.380633</td>\n",
       "      <td>28901.718554</td>\n",
       "      <td>16640.308279</td>\n",
       "    </tr>\n",
       "    <tr>\n",
       "      <th>1</th>\n",
       "      <td>13</td>\n",
       "      <td>1</td>\n",
       "      <td>41</td>\n",
       "      <td>15.0</td>\n",
       "      <td>14.0</td>\n",
       "      <td>1</td>\n",
       "      <td>1</td>\n",
       "      <td>0</td>\n",
       "      <td>1</td>\n",
       "      <td>31409.0</td>\n",
       "      <td>221</td>\n",
       "      <td>0</td>\n",
       "      <td>Adult</td>\n",
       "      <td>1</td>\n",
       "      <td>1</td>\n",
       "      <td>32.605876</td>\n",
       "      <td>1.257442</td>\n",
       "      <td>53.372990</td>\n",
       "      <td>0.768179</td>\n",
       "      <td>29624.520815</td>\n",
       "      <td>1.060237</td>\n",
       "      <td>33877.260450</td>\n",
       "      <td>0.927141</td>\n",
       "      <td>67.714932</td>\n",
       "      <td>0.605479</td>\n",
       "      <td>1.11</td>\n",
       "      <td>1.11</td>\n",
       "      <td>0.000000</td>\n",
       "      <td>0.000000</td>\n",
       "      <td>28315.221766</td>\n",
       "      <td>17130.780169</td>\n",
       "    </tr>\n",
       "    <tr>\n",
       "      <th>2</th>\n",
       "      <td>18</td>\n",
       "      <td>1</td>\n",
       "      <td>25</td>\n",
       "      <td>35.0</td>\n",
       "      <td>152.0</td>\n",
       "      <td>1</td>\n",
       "      <td>0</td>\n",
       "      <td>0</td>\n",
       "      <td>1</td>\n",
       "      <td>46622.0</td>\n",
       "      <td>299</td>\n",
       "      <td>0</td>\n",
       "      <td>Young</td>\n",
       "      <td>1</td>\n",
       "      <td>0</td>\n",
       "      <td>36.135264</td>\n",
       "      <td>0.691845</td>\n",
       "      <td>26.214825</td>\n",
       "      <td>0.953659</td>\n",
       "      <td>26832.931144</td>\n",
       "      <td>1.737492</td>\n",
       "      <td>30889.192493</td>\n",
       "      <td>1.509330</td>\n",
       "      <td>30.518395</td>\n",
       "      <td>0.819178</td>\n",
       "      <td>1.11</td>\n",
       "      <td>1.11</td>\n",
       "      <td>0.000000</td>\n",
       "      <td>0.000000</td>\n",
       "      <td>30757.596017</td>\n",
       "      <td>14271.672103</td>\n",
       "    </tr>\n",
       "    <tr>\n",
       "      <th>3</th>\n",
       "      <td>31</td>\n",
       "      <td>1</td>\n",
       "      <td>26</td>\n",
       "      <td>8.0</td>\n",
       "      <td>160.0</td>\n",
       "      <td>1</td>\n",
       "      <td>0</td>\n",
       "      <td>0</td>\n",
       "      <td>0</td>\n",
       "      <td>2630.0</td>\n",
       "      <td>136</td>\n",
       "      <td>0</td>\n",
       "      <td>Young</td>\n",
       "      <td>1</td>\n",
       "      <td>0</td>\n",
       "      <td>38.579567</td>\n",
       "      <td>0.673932</td>\n",
       "      <td>23.435006</td>\n",
       "      <td>1.109451</td>\n",
       "      <td>36467.985241</td>\n",
       "      <td>0.072118</td>\n",
       "      <td>25575.744938</td>\n",
       "      <td>0.102832</td>\n",
       "      <td>69.779412</td>\n",
       "      <td>0.372603</td>\n",
       "      <td>1.01</td>\n",
       "      <td>1.10</td>\n",
       "      <td>0.464255</td>\n",
       "      <td>0.495026</td>\n",
       "      <td>30757.596017</td>\n",
       "      <td>14271.672103</td>\n",
       "    </tr>\n",
       "    <tr>\n",
       "      <th>4</th>\n",
       "      <td>39</td>\n",
       "      <td>0</td>\n",
       "      <td>45</td>\n",
       "      <td>8.0</td>\n",
       "      <td>124.0</td>\n",
       "      <td>1</td>\n",
       "      <td>1</td>\n",
       "      <td>1</td>\n",
       "      <td>0</td>\n",
       "      <td>42297.0</td>\n",
       "      <td>264</td>\n",
       "      <td>0</td>\n",
       "      <td>Adult</td>\n",
       "      <td>4</td>\n",
       "      <td>-4</td>\n",
       "      <td>38.579567</td>\n",
       "      <td>1.166421</td>\n",
       "      <td>46.923589</td>\n",
       "      <td>0.959006</td>\n",
       "      <td>36467.985241</td>\n",
       "      <td>1.159839</td>\n",
       "      <td>31710.191162</td>\n",
       "      <td>1.333861</td>\n",
       "      <td>62.215909</td>\n",
       "      <td>0.723288</td>\n",
       "      <td>1.00</td>\n",
       "      <td>1.10</td>\n",
       "      <td>0.714981</td>\n",
       "      <td>0.495026</td>\n",
       "      <td>29480.663310</td>\n",
       "      <td>17915.680540</td>\n",
       "    </tr>\n",
       "  </tbody>\n",
       "</table>\n",
       "</div>"
      ],
      "text/plain": [
       "   id  gender  age  region_code  policy_sales_channel  driving_license  vehicle_age  vehicle_damage  previously_insured  annual_premium  vintage  response age_stage  vehicle_damage_license  vehicle_damage_vehicle_age  mean_age_by_region_code  age_mean_age_by_region_code  mean_age_by_policy_sales_channel  age_mean_age_by_policy_sales_channel  mean_annual_premium_by_region_code  annual_premium_mean_annual_premium_by_region_code  mean_annual_premium_by_policy_sales_channel  annual_premium_mean_annual_premium_by_policy_sales_channel  age_vintage  customer_term_year  insured_gender  license_insured  oportunity_by_policy_sales_channel  oportunity_by_region_code  mean_age_damage_premium  std_age_damage_premium\n",
       "0   7       0   23         11.0                 152.0                1            0               1                   0         23367.0      249         0     Young                       4                          -1                34.374567                     0.669099                         26.214825                              0.877366                        27607.283146                                           0.846407                                 30889.192493                                           0.756478             33.714859            0.682192            1.00             1.10                            0.270418                   0.380633             28901.718554            16640.308279\n",
       "1  13       1   41         15.0                  14.0                1            1               0                   1         31409.0      221         0     Adult                       1                           1                32.605876                     1.257442                         53.372990                              0.768179                        29624.520815                                           1.060237                                 33877.260450                                           0.927141             67.714932            0.605479            1.11             1.11                            0.000000                   0.000000             28315.221766            17130.780169\n",
       "2  18       1   25         35.0                 152.0                1            0               0                   1         46622.0      299         0     Young                       1                           0                36.135264                     0.691845                         26.214825                              0.953659                        26832.931144                                           1.737492                                 30889.192493                                           1.509330             30.518395            0.819178            1.11             1.11                            0.000000                   0.000000             30757.596017            14271.672103\n",
       "3  31       1   26          8.0                 160.0                1            0               0                   0          2630.0      136         0     Young                       1                           0                38.579567                     0.673932                         23.435006                              1.109451                        36467.985241                                           0.072118                                 25575.744938                                           0.102832             69.779412            0.372603            1.01             1.10                            0.464255                   0.495026             30757.596017            14271.672103\n",
       "4  39       0   45          8.0                 124.0                1            1               1                   0         42297.0      264         0     Adult                       4                          -4                38.579567                     1.166421                         46.923589                              0.959006                        36467.985241                                           1.159839                                 31710.191162                                           1.333861             62.215909            0.723288            1.00             1.10                            0.714981                   0.495026             29480.663310            17915.680540"
      ]
     },
     "execution_count": 163,
     "metadata": {},
     "output_type": "execute_result"
    }
   ],
   "source": [
    "df02.head()"
   ]
  },
  {
   "cell_type": "code",
   "execution_count": 162,
   "metadata": {
    "ExecuteTime": {
     "end_time": "2021-01-31T04:19:47.814839Z",
     "start_time": "2021-01-31T04:19:47.119105Z"
    }
   },
   "outputs": [],
   "source": [
    "age_stage_vehicle_damage_annual_premium = df02.groupby(['age_stage','vehicle_damage'])['annual_premium'].agg(['mean','std'])\n",
    "age_stage_vehicle_damage_annual_premium.columns = [x +'_age_damage_premium' for x in age_stage_vehicle_damage_annual_premium.columns.ravel()]\n",
    "df02 = pd.merge(df02, age_stage_vehicle_damage_annual_premium, on=['age_stage','vehicle_damage'], how='left')"
   ]
  },
  {
   "cell_type": "code",
   "execution_count": null,
   "metadata": {},
   "outputs": [],
   "source": []
  },
  {
   "cell_type": "code",
   "execution_count": null,
   "metadata": {},
   "outputs": [],
   "source": [
    "###########################################"
   ]
  },
  {
   "cell_type": "code",
   "execution_count": 14,
   "metadata": {
    "ExecuteTime": {
     "end_time": "2021-01-30T23:45:05.450348Z",
     "start_time": "2021-01-30T23:45:05.271349Z"
    }
   },
   "outputs": [],
   "source": [
    "df3 = df02.copy()\n",
    "\n",
    "aux1 = df3[df3['response'] == 1 ][['response', 'age']].groupby(['age']).sum().reset_index()\n",
    "\n",
    "bins = list( np.arange( 20, 90, 5) )\n",
    "aux2 = aux1\n",
    "aux2['age_bin'] = pd.cut(aux1['age'], bins=bins)\n",
    "aux3 = aux2[['response', 'age_bin']].groupby(['age_bin']).sum().reset_index()"
   ]
  },
  {
   "cell_type": "code",
   "execution_count": 48,
   "metadata": {
    "ExecuteTime": {
     "end_time": "2021-01-31T00:02:46.914395Z",
     "start_time": "2021-01-31T00:02:46.702397Z"
    },
    "cell_style": "center"
   },
   "outputs": [
    {
     "data": {
      "image/png": "[encoded data removed]",
      "text/plain": [
       "<Figure size 1600x640 with 1 Axes>"
      ]
     },
     "metadata": {},
     "output_type": "display_data"
    }
   ],
   "source": [
    "plt.style.use( 'seaborn-bright' );\n",
    "plt.figure(figsize=(20,8));\n",
    "plt.subplot(121);\n",
    "sns.barplot(x='age_bin', y='response', data=aux3, palette='mako');\n",
    "sns.despine(bottom=True, left=True);\n",
    "#sns.set_style('whitegrid');\n",
    "plt.title('Age by Response', size=20);\n",
    "plt.xlabel('Age', color='grey', size=15);\n",
    "plt.ylabel('Response', color='grey', size=15);\n",
    "plt.xticks(rotation=75);"
   ]
  }
 ],
 "metadata": {
  "kernelspec": {
   "display_name": "Python 3",
   "language": "python",
   "name": "python3"
  },
  "language_info": {
   "codemirror_mode": {
    "name": "ipython",
    "version": 3
   },
   "file_extension": ".py",
   "mimetype": "text/x-python",
   "name": "python",
   "nbconvert_exporter": "python",
   "pygments_lexer": "ipython3",
   "version": "3.8.5"
  },
  "toc": {
   "base_numbering": 1,
   "nav_menu": {},
   "number_sections": true,
   "sideBar": true,
   "skip_h1_title": false,
   "title_cell": "Table of Contents",
   "title_sidebar": "Contents",
   "toc_cell": false,
   "toc_position": {},
   "toc_section_display": true,
   "toc_window_display": false
  }
 },
 "nbformat": 4,
 "nbformat_minor": 4
}
