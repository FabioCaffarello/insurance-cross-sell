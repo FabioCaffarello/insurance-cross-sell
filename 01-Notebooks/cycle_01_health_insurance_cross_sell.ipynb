{
 "cells": [
  {
   "cell_type": "markdown",
   "metadata": {},
   "source": [
    "# Understanding the Situation"
   ]
  },
  {
   "cell_type": "markdown",
   "metadata": {},
   "source": [
    "# 0.0 IMPORTS"
   ]
  },
  {
   "cell_type": "markdown",
   "metadata": {},
   "source": [
    "## 0.1 Libraries"
   ]
  },
  {
   "cell_type": "code",
   "execution_count": null,
   "metadata": {},
   "outputs": [],
   "source": [
    "#!pip install psycopg2"
   ]
  },
  {
   "cell_type": "code",
   "execution_count": 1,
   "metadata": {
    "ExecuteTime": {
     "end_time": "2021-01-10T13:11:55.331753Z",
     "start_time": "2021-01-10T13:11:43.227927Z"
    }
   },
   "outputs": [],
   "source": [
    "import random\n",
    "import bisect\n",
    "import warnings\n",
    "\n",
    "import numpy        as np\n",
    "import pandas       as pd\n",
    "import scipy.stats  as ss\n",
    "\n",
    "import seaborn           as sns\n",
    "import matplotlib.pyplot as plt\n",
    "\n",
    "from IPython.display         import Image\n",
    "from IPython.core.display    import HTML\n",
    "\n",
    "from imblearn                import combine        as c\n",
    "\n",
    "from pandas_profiling        import ProfileReport\n",
    "\n",
    "from sklearn.metrics         import (accuracy_score, roc_auc_score, average_precision_score, precision_score,\n",
    "                                    recall_score, f1_score, cohen_kappa_score, balanced_accuracy_score, classification_report)\n",
    "from sklearn.ensemble        import RandomForestClassifier\n",
    "from sklearn.preprocessing   import OneHotEncoder\n",
    "from sklearn.model_selection import StratifiedShuffleSplit, train_test_split, StratifiedKFold\n",
    "\n",
    "from boruta                  import BorutaPy\n",
    "\n",
    "from scikitplot.metrics      import plot_confusion_matrix\n",
    "\n",
    "\n",
    "import sys\n",
    "sys.path.append('../')\n",
    "## My Functions\n",
    "from modules.postgres import Postgres"
   ]
  },
  {
   "cell_type": "markdown",
   "metadata": {},
   "source": [
    "## 0.2 Helper Functions"
   ]
  },
  {
   "cell_type": "markdown",
   "metadata": {
    "heading_collapsed": true
   },
   "source": [
    "### 0.2.1 Notebook Config"
   ]
  },
  {
   "cell_type": "code",
   "execution_count": 2,
   "metadata": {
    "ExecuteTime": {
     "end_time": "2021-01-10T13:11:55.364141Z",
     "start_time": "2021-01-10T13:11:55.334077Z"
    },
    "hidden": true
   },
   "outputs": [],
   "source": [
    "def jupyter_settings():\n",
    "    %matplotlib inline\n",
    "    \n",
    "    plt.style.use('bmh')\n",
    "    plt.rcParams['figure.figsize'] = [25, 12]\n",
    "    plt.rcParams['font.size'] = 24\n",
    "    \n",
    "    display( HTML('<style>.container { width:85% !important; }</style>'))\n",
    "    pd.options.display.max_columns = None\n",
    "    pd.options.display.max_rows = None\n",
    "    pd.set_option('display.expand_frame_repr', False)\n",
    "    \n",
    "    warnings.filterwarnings(\"ignore\")\n",
    "    \n",
    "    sns.set()"
   ]
  },
  {
   "cell_type": "code",
   "execution_count": 3,
   "metadata": {
    "ExecuteTime": {
     "end_time": "2021-01-10T13:11:55.395691Z",
     "start_time": "2021-01-10T13:11:55.370142Z"
    },
    "hidden": true
   },
   "outputs": [
    {
     "data": {
      "text/html": [
       "<style>.container { width:85% !important; }</style>"
      ],
      "text/plain": [
       "<IPython.core.display.HTML object>"
      ]
     },
     "metadata": {},
     "output_type": "display_data"
    }
   ],
   "source": [
    "jupyter_settings()"
   ]
  },
  {
   "cell_type": "markdown",
   "metadata": {},
   "source": [
    "### 0.2.2 Functions"
   ]
  },
  {
   "cell_type": "code",
   "execution_count": 66,
   "metadata": {
    "ExecuteTime": {
     "end_time": "2021-01-10T13:46:38.881809Z",
     "start_time": "2021-01-10T13:46:38.825492Z"
    }
   },
   "outputs": [],
   "source": [
    "def statistical_summary(num_attributes):\n",
    "    ### Central Tendency -> Mean, Median, Mode\n",
    "    ct1 = pd.DataFrame(num_attributes.apply(np.mean)).T\n",
    "    ct2 = pd.DataFrame(num_attributes.apply(np.median)).T\n",
    "    ct3 = pd.DataFrame(ss.mode(num_attributes)[0])\n",
    "    ct3.columns = ct1.columns\n",
    "\n",
    "    ### Dispersion -> std, min, max, range, skew, kurtosis, rsd\n",
    "    d1 = pd.DataFrame(num_attributes.apply(np.std)).T\n",
    "    d2 = pd.DataFrame(num_attributes.apply(min)).T\n",
    "    d3 = pd.DataFrame(num_attributes.apply(max)).T\n",
    "    d4 = pd.DataFrame(num_attributes.apply(lambda x: x.max() - x.min())).T\n",
    "    d5 = pd.DataFrame(num_attributes.apply(lambda x: x.skew())).T\n",
    "    d6 = pd.DataFrame(num_attributes.apply(lambda x: x.kurtosis())).T\n",
    "    d7 = d1 / ct1\n",
    "    \n",
    "    # Quantile\n",
    "    q05 = pd.DataFrame(num_attributes.quantile(0.05)).T\n",
    "    q10 = pd.DataFrame(num_attributes.quantile(0.10)).T\n",
    "    q25 = pd.DataFrame(num_attributes.quantile(0.25)).T\n",
    "    q75 = pd.DataFrame(num_attributes.quantile(0.75)).T\n",
    "    q90 = pd.DataFrame(num_attributes.quantile(0.90)).T\n",
    "    q95 = pd.DataFrame(num_attributes.quantile(0.95)).T\n",
    "\n",
    "    # Concatenate\n",
    "    m = pd.concat([d2, d3, d4, ct3, ct1, ct2, q05, q10, q25, q75, q90, q95, d1, d7, d5, d6]).T.reset_index()\n",
    "    m.columns = ['Attributes', 'Min', 'Max', 'Range', 'Mode', 'Mean', 'Median', '5%', '10%', '25%', '75%', '90%', '95%', 'Std','Relative Std', 'Skew', 'Kurtosis']\n",
    "    \n",
    "    return m\n",
    "\n",
    "\n",
    "\n",
    "\n",
    "def cramer_v(x, y):\n",
    "    cm = pd.crosstab(x, y).to_numpy()\n",
    "    n = cm.sum()\n",
    "    r, k = cm.shape\n",
    "    \n",
    "    chi2 = ss.chi2_contingency(cm)[0]\n",
    "    chi2corr = max(0, chi2 - (k-1)*(r-1)/(n-1))\n",
    "    \n",
    "    kcorr = k - (k-1)**2/(n-1)\n",
    "    rcorr = r - (r-1)**2/(n-1)\n",
    "    \n",
    "    return np.sqrt((chi2corr/n)/(min(kcorr-1,rcorr-1)))\n",
    "\n",
    "\n",
    "\n",
    "\n",
    "def age_stage(num, breakpoints=[10, 20, 30, 45, 60, 70, 80, 120], result='01234567'):\n",
    "    i = bisect.bisect(breakpoints, num-1)\n",
    "    age_mapping = {\n",
    "        0: 'Child',\n",
    "        1: 'Teenager',\n",
    "        2: 'Young',\n",
    "        3: 'Adult',\n",
    "        4: 'Midlife',\n",
    "        5: 'Senior',\n",
    "        6: 'Mature Adulthood',\n",
    "        7: 'Late Adulthood'\n",
    "    }\n",
    "    return age_mapping[i]\n",
    "\n",
    "\n",
    "\n",
    "def ml_scores(model_name, y, yhat, yhat_proba):\n",
    "    precision = precision_score(y, yhat)\n",
    "    recall = recall_score(y, yhat)\n",
    "    f1 = f1_score(y, yhat)\n",
    "    kappa = cohen_kappa_score(y, yhat)\n",
    "    balanced_accuracy = balanced_accuracy_score(y, yhat)\n",
    "    ap = average_precision_score(y, yhat_proba)\n",
    "    roc_auc = roc_auc_score(y, yhat_proba)\n",
    "    \n",
    "    return pd.DataFrame({ 'Model Name': model_name, \n",
    "                       'Precision': precision, \n",
    "                       'Recall': recall,\n",
    "                       'F1 Score': f1,\n",
    "                       'Kappa': kappa,\n",
    "                       'Balanced Accuracy': balanced_accuracy,\n",
    "                       'Average Precision Score': ap,\n",
    "                       'ROC AUC': roc_auc}, index=[0])\n",
    "    \n",
    "\n",
    "    \n",
    "def cross_validation(X_train, y_train, model_name, model, num_folds=5, verbose=True):\n",
    "    # k-fold generate\n",
    "    num_folds = num_folds\n",
    "    kfold = StratifiedKFold(n_splits=num_folds, shuffle=True, random_state=42)\n",
    "    \n",
    "    precision_acc_list = []\n",
    "    recall_acc_list = []\n",
    "    f1_acc_list = []\n",
    "    kappa_acc_list = []\n",
    "    balanced_acc_list = []\n",
    "    ap_acc_list = []\n",
    "    roc_auc_acc_list = []\n",
    "\n",
    "    i = 1\n",
    "    for train_ix, val_ix in kfold.split(X_train, y_train):\n",
    "        if verbose:\n",
    "            print('Fold Number: {}/{}'.format(i, num_folds))\n",
    "        # get fold\n",
    "        X_train_fold = X_train.iloc[train_ix]\n",
    "        y_train_fold = y_train.iloc[train_ix]\n",
    "\n",
    "        X_val_fold = X_train.iloc[val_ix]\n",
    "        y_val_fold = y_train.iloc[val_ix]\n",
    "\n",
    "        # training model\n",
    "        model.fit(X_train_fold, y_train_fold)\n",
    "\n",
    "        # prediction\n",
    "        yhat = model.predict(X_val_fold)\n",
    "        yhat_proba = model.predict_proba(X_val_fold)[:,1]\n",
    "\n",
    "        # metrics\n",
    "        model_result = ml_scores(model_name, y_val_fold, yhat, yhat_proba)\n",
    "        \n",
    "        #Store Performance of each KFold iteration\n",
    "        precision_acc_list.append(model_result['Precision'].tolist())\n",
    "        recall_acc_list.append(model_result['Recall'].tolist())\n",
    "        f1_acc_list.append(model_result['F1 Score'].tolist())\n",
    "        kappa_acc_list.append(model_result['Kappa'].tolist())\n",
    "        balanced_acc_list.append(model_result['Balanced Accuracy'].tolist())\n",
    "        ap_acc_list.append(model_result['Average Precision Score'].tolist())\n",
    "        roc_auc_acc_list.append(model_result['ROC AUC'].tolist())\n",
    "        \n",
    "        i += 1\n",
    "        \n",
    "    dict_result = {\n",
    "                    'Model Name': [model_name],\n",
    "                    'Precision CV': [np.round(np.mean(precision_acc_list),4).astype(str) + ' +/- ' + np.round(np.std(precision_acc_list),4).astype(str)],\n",
    "                    'Recall CV': [np.round(np.mean(recall_acc_list),4).astype(str) + ' +/- ' + np.round(np.std(recall_acc_list),4).astype(str)],\n",
    "                    'F1 Score CV': [np.round(np.mean(f1_acc_list),4).astype(str) + ' +/- ' + np.round(np.std(f1_acc_list),4).astype(str)],\n",
    "                    'Kappa CV': [np.round(np.mean(kappa_acc_list),4).astype(str) + ' +/- ' + np.round(np.std(kappa_acc_list),4).astype(str)],\n",
    "                    'Balanced Accuracy': [np.round(np.mean(balanced_acc_list),4).astype(str) + ' +/- ' + np.round(np.std(balanced_acc_list),4).astype(str)],\n",
    "                    'Average Precision Score CV': [np.round(np.mean(ap_acc_list),4).astype(str) + ' +/- ' + np.round(np.std(ap_acc_list),4).astype(str)],\n",
    "                    'ROC AUC CV': [np.round(np.mean(roc_auc_acc_list),4).astype(str) + ' +/- ' + np.round(np.std(roc_auc_acc_list),4).astype(str)]\n",
    "                }\n",
    "\n",
    "    return pd.DataFrame(dict_result)"
   ]
  },
  {
   "cell_type": "markdown",
   "metadata": {
    "heading_collapsed": true
   },
   "source": [
    "## 0.3 Loading data"
   ]
  },
  {
   "cell_type": "code",
   "execution_count": 5,
   "metadata": {
    "ExecuteTime": {
     "end_time": "2021-01-10T13:12:14.533611Z",
     "start_time": "2021-01-10T13:12:10.556028Z"
    },
    "cell_style": "center",
    "hidden": true
   },
   "outputs": [
    {
     "data": {
      "text/plain": [
       "{'pa004': ['users', 'vehicle', 'insurance']}"
      ]
     },
     "execution_count": 5,
     "metadata": {},
     "output_type": "execute_result"
    }
   ],
   "source": [
    "# class instantiation\n",
    "pg = Postgres()\n",
    "\n",
    "# schemas and tables\n",
    "schema = pg.inspect_schema()\n",
    "schema"
   ]
  },
  {
   "cell_type": "code",
   "execution_count": 6,
   "metadata": {
    "ExecuteTime": {
     "end_time": "2021-01-10T13:13:37.504690Z",
     "start_time": "2021-01-10T13:12:14.539424Z"
    },
    "cell_style": "center",
    "hidden": true
   },
   "outputs": [],
   "source": [
    "# query table\n",
    "dict_tables = pg.get_data()"
   ]
  },
  {
   "cell_type": "markdown",
   "metadata": {
    "heading_collapsed": true,
    "hidden": true
   },
   "source": [
    "### 0.3.1 Table Users"
   ]
  },
  {
   "cell_type": "code",
   "execution_count": 7,
   "metadata": {
    "ExecuteTime": {
     "end_time": "2021-01-10T13:13:37.568668Z",
     "start_time": "2021-01-10T13:13:37.516631Z"
    },
    "hidden": true
   },
   "outputs": [
    {
     "data": {
      "text/html": [
       "<div>\n",
       "<style scoped>\n",
       "    .dataframe tbody tr th:only-of-type {\n",
       "        vertical-align: middle;\n",
       "    }\n",
       "\n",
       "    .dataframe tbody tr th {\n",
       "        vertical-align: top;\n",
       "    }\n",
       "\n",
       "    .dataframe thead th {\n",
       "        text-align: right;\n",
       "    }\n",
       "</style>\n",
       "<table border=\"1\" class=\"dataframe\">\n",
       "  <thead>\n",
       "    <tr style=\"text-align: right;\">\n",
       "      <th></th>\n",
       "      <th>id</th>\n",
       "      <th>gender</th>\n",
       "      <th>age</th>\n",
       "      <th>region_code</th>\n",
       "      <th>policy_sales_channel</th>\n",
       "    </tr>\n",
       "  </thead>\n",
       "  <tbody>\n",
       "    <tr>\n",
       "      <th>0</th>\n",
       "      <td>1</td>\n",
       "      <td>Male</td>\n",
       "      <td>44</td>\n",
       "      <td>28.0</td>\n",
       "      <td>26.0</td>\n",
       "    </tr>\n",
       "    <tr>\n",
       "      <th>1</th>\n",
       "      <td>2</td>\n",
       "      <td>Male</td>\n",
       "      <td>76</td>\n",
       "      <td>3.0</td>\n",
       "      <td>26.0</td>\n",
       "    </tr>\n",
       "    <tr>\n",
       "      <th>2</th>\n",
       "      <td>3</td>\n",
       "      <td>Male</td>\n",
       "      <td>47</td>\n",
       "      <td>28.0</td>\n",
       "      <td>26.0</td>\n",
       "    </tr>\n",
       "    <tr>\n",
       "      <th>3</th>\n",
       "      <td>4</td>\n",
       "      <td>Male</td>\n",
       "      <td>21</td>\n",
       "      <td>11.0</td>\n",
       "      <td>152.0</td>\n",
       "    </tr>\n",
       "    <tr>\n",
       "      <th>4</th>\n",
       "      <td>5</td>\n",
       "      <td>Female</td>\n",
       "      <td>29</td>\n",
       "      <td>41.0</td>\n",
       "      <td>152.0</td>\n",
       "    </tr>\n",
       "  </tbody>\n",
       "</table>\n",
       "</div>"
      ],
      "text/plain": [
       "   id  gender  age  region_code  policy_sales_channel\n",
       "0   1    Male   44         28.0                  26.0\n",
       "1   2    Male   76          3.0                  26.0\n",
       "2   3    Male   47         28.0                  26.0\n",
       "3   4    Male   21         11.0                 152.0\n",
       "4   5  Female   29         41.0                 152.0"
      ]
     },
     "execution_count": 7,
     "metadata": {},
     "output_type": "execute_result"
    }
   ],
   "source": [
    "users = dict_tables['users']\n",
    "users.head()"
   ]
  },
  {
   "cell_type": "markdown",
   "metadata": {
    "heading_collapsed": true,
    "hidden": true
   },
   "source": [
    "### 0.3.2 Table Vehicle"
   ]
  },
  {
   "cell_type": "code",
   "execution_count": 8,
   "metadata": {
    "ExecuteTime": {
     "end_time": "2021-01-10T13:13:37.600666Z",
     "start_time": "2021-01-10T13:13:37.576630Z"
    },
    "hidden": true
   },
   "outputs": [
    {
     "data": {
      "text/html": [
       "<div>\n",
       "<style scoped>\n",
       "    .dataframe tbody tr th:only-of-type {\n",
       "        vertical-align: middle;\n",
       "    }\n",
       "\n",
       "    .dataframe tbody tr th {\n",
       "        vertical-align: top;\n",
       "    }\n",
       "\n",
       "    .dataframe thead th {\n",
       "        text-align: right;\n",
       "    }\n",
       "</style>\n",
       "<table border=\"1\" class=\"dataframe\">\n",
       "  <thead>\n",
       "    <tr style=\"text-align: right;\">\n",
       "      <th></th>\n",
       "      <th>id</th>\n",
       "      <th>driving_license</th>\n",
       "      <th>vehicle_age</th>\n",
       "      <th>vehicle_damage</th>\n",
       "    </tr>\n",
       "  </thead>\n",
       "  <tbody>\n",
       "    <tr>\n",
       "      <th>0</th>\n",
       "      <td>1</td>\n",
       "      <td>1</td>\n",
       "      <td>&gt; 2 Years</td>\n",
       "      <td>Yes</td>\n",
       "    </tr>\n",
       "    <tr>\n",
       "      <th>1</th>\n",
       "      <td>2</td>\n",
       "      <td>1</td>\n",
       "      <td>1-2 Year</td>\n",
       "      <td>No</td>\n",
       "    </tr>\n",
       "    <tr>\n",
       "      <th>2</th>\n",
       "      <td>3</td>\n",
       "      <td>1</td>\n",
       "      <td>&gt; 2 Years</td>\n",
       "      <td>Yes</td>\n",
       "    </tr>\n",
       "    <tr>\n",
       "      <th>3</th>\n",
       "      <td>4</td>\n",
       "      <td>1</td>\n",
       "      <td>&lt; 1 Year</td>\n",
       "      <td>No</td>\n",
       "    </tr>\n",
       "    <tr>\n",
       "      <th>4</th>\n",
       "      <td>5</td>\n",
       "      <td>1</td>\n",
       "      <td>&lt; 1 Year</td>\n",
       "      <td>No</td>\n",
       "    </tr>\n",
       "  </tbody>\n",
       "</table>\n",
       "</div>"
      ],
      "text/plain": [
       "   id  driving_license vehicle_age vehicle_damage\n",
       "0   1                1   > 2 Years            Yes\n",
       "1   2                1    1-2 Year             No\n",
       "2   3                1   > 2 Years            Yes\n",
       "3   4                1    < 1 Year             No\n",
       "4   5                1    < 1 Year             No"
      ]
     },
     "execution_count": 8,
     "metadata": {},
     "output_type": "execute_result"
    }
   ],
   "source": [
    "vehicle = dict_tables['vehicle']\n",
    "vehicle.head()"
   ]
  },
  {
   "cell_type": "markdown",
   "metadata": {
    "heading_collapsed": true,
    "hidden": true
   },
   "source": [
    "### 0.3.3 Table Insurance"
   ]
  },
  {
   "cell_type": "code",
   "execution_count": 9,
   "metadata": {
    "ExecuteTime": {
     "end_time": "2021-01-10T13:13:37.646720Z",
     "start_time": "2021-01-10T13:13:37.606631Z"
    },
    "hidden": true
   },
   "outputs": [
    {
     "data": {
      "text/html": [
       "<div>\n",
       "<style scoped>\n",
       "    .dataframe tbody tr th:only-of-type {\n",
       "        vertical-align: middle;\n",
       "    }\n",
       "\n",
       "    .dataframe tbody tr th {\n",
       "        vertical-align: top;\n",
       "    }\n",
       "\n",
       "    .dataframe thead th {\n",
       "        text-align: right;\n",
       "    }\n",
       "</style>\n",
       "<table border=\"1\" class=\"dataframe\">\n",
       "  <thead>\n",
       "    <tr style=\"text-align: right;\">\n",
       "      <th></th>\n",
       "      <th>id</th>\n",
       "      <th>previously_insured</th>\n",
       "      <th>annual_premium</th>\n",
       "      <th>vintage</th>\n",
       "      <th>response</th>\n",
       "    </tr>\n",
       "  </thead>\n",
       "  <tbody>\n",
       "    <tr>\n",
       "      <th>0</th>\n",
       "      <td>1</td>\n",
       "      <td>0</td>\n",
       "      <td>40454.0</td>\n",
       "      <td>217</td>\n",
       "      <td>1</td>\n",
       "    </tr>\n",
       "    <tr>\n",
       "      <th>1</th>\n",
       "      <td>2</td>\n",
       "      <td>0</td>\n",
       "      <td>33536.0</td>\n",
       "      <td>183</td>\n",
       "      <td>0</td>\n",
       "    </tr>\n",
       "    <tr>\n",
       "      <th>2</th>\n",
       "      <td>3</td>\n",
       "      <td>0</td>\n",
       "      <td>38294.0</td>\n",
       "      <td>27</td>\n",
       "      <td>1</td>\n",
       "    </tr>\n",
       "    <tr>\n",
       "      <th>3</th>\n",
       "      <td>4</td>\n",
       "      <td>1</td>\n",
       "      <td>28619.0</td>\n",
       "      <td>203</td>\n",
       "      <td>0</td>\n",
       "    </tr>\n",
       "    <tr>\n",
       "      <th>4</th>\n",
       "      <td>5</td>\n",
       "      <td>1</td>\n",
       "      <td>27496.0</td>\n",
       "      <td>39</td>\n",
       "      <td>0</td>\n",
       "    </tr>\n",
       "  </tbody>\n",
       "</table>\n",
       "</div>"
      ],
      "text/plain": [
       "   id  previously_insured  annual_premium  vintage  response\n",
       "0   1                   0         40454.0      217         1\n",
       "1   2                   0         33536.0      183         0\n",
       "2   3                   0         38294.0       27         1\n",
       "3   4                   1         28619.0      203         0\n",
       "4   5                   1         27496.0       39         0"
      ]
     },
     "execution_count": 9,
     "metadata": {},
     "output_type": "execute_result"
    }
   ],
   "source": [
    "insurance = dict_tables['insurance']\n",
    "insurance.head()"
   ]
  },
  {
   "cell_type": "markdown",
   "metadata": {
    "heading_collapsed": true,
    "hidden": true
   },
   "source": [
    "### 0.3.4 Merge Dataset"
   ]
  },
  {
   "cell_type": "code",
   "execution_count": 10,
   "metadata": {
    "ExecuteTime": {
     "end_time": "2021-01-10T13:13:38.259887Z",
     "start_time": "2021-01-10T13:13:37.651757Z"
    },
    "hidden": true
   },
   "outputs": [],
   "source": [
    "df_raw = pd.merge(users, vehicle, how=\"inner\", on=\"id\")\n",
    "df_raw = pd.merge(df_raw, insurance, how=\"inner\", on=\"id\")"
   ]
  },
  {
   "cell_type": "code",
   "execution_count": 11,
   "metadata": {
    "ExecuteTime": {
     "end_time": "2021-01-10T13:13:38.291055Z",
     "start_time": "2021-01-10T13:13:38.262309Z"
    },
    "hidden": true
   },
   "outputs": [
    {
     "data": {
      "text/plain": [
       "Index(['id', 'gender', 'age', 'region_code', 'policy_sales_channel',\n",
       "       'driving_license', 'vehicle_age', 'vehicle_damage',\n",
       "       'previously_insured', 'annual_premium', 'vintage', 'response'],\n",
       "      dtype='object')"
      ]
     },
     "execution_count": 11,
     "metadata": {},
     "output_type": "execute_result"
    }
   ],
   "source": [
    "df_raw.columns"
   ]
  },
  {
   "cell_type": "markdown",
   "metadata": {
    "heading_collapsed": true,
    "hidden": true
   },
   "source": [
    "### 0.3.5 Saving Test Data"
   ]
  },
  {
   "cell_type": "code",
   "execution_count": 12,
   "metadata": {
    "ExecuteTime": {
     "end_time": "2021-01-10T13:13:39.197275Z",
     "start_time": "2021-01-10T13:13:38.296924Z"
    },
    "hidden": true
   },
   "outputs": [],
   "source": [
    "# Apply stratified sampling in order to keep target variable proportion in the train and test datasets\n",
    "split = StratifiedShuffleSplit(n_splits=1, test_size=0.2, random_state=42)\n",
    "for train_index, test_index in split.split(df_raw, df_raw['response']):\n",
    "    train_dataset = df_raw.loc[train_index].reset_index(drop=True)\n",
    "    test_dataset = df_raw.loc[test_index].reset_index(drop=True)\n",
    "    \n",
    "# Convert to .Feather Data\n",
    "#train_dataset.to_feather('../00-Data/train_dataset.feather')\n",
    "#test_dataset.to_feather('../00-Data/test_dataset.feather')"
   ]
  },
  {
   "cell_type": "markdown",
   "metadata": {
    "heading_collapsed": true,
    "hidden": true
   },
   "source": [
    "### 0.3.6 Read Training Dataset"
   ]
  },
  {
   "cell_type": "code",
   "execution_count": 13,
   "metadata": {
    "ExecuteTime": {
     "end_time": "2021-01-10T13:13:39.850184Z",
     "start_time": "2021-01-10T13:13:39.204388Z"
    },
    "hidden": true
   },
   "outputs": [],
   "source": [
    "df_train = pd.read_feather('../00-Data/train_dataset.feather')"
   ]
  },
  {
   "cell_type": "markdown",
   "metadata": {},
   "source": [
    "# 1.0 DATA DESCRIPTION"
   ]
  },
  {
   "cell_type": "code",
   "execution_count": 55,
   "metadata": {
    "ExecuteTime": {
     "end_time": "2021-01-10T13:41:50.309080Z",
     "start_time": "2021-01-10T13:41:50.256598Z"
    }
   },
   "outputs": [
    {
     "data": {
      "text/html": [
       "<div>\n",
       "<style scoped>\n",
       "    .dataframe tbody tr th:only-of-type {\n",
       "        vertical-align: middle;\n",
       "    }\n",
       "\n",
       "    .dataframe tbody tr th {\n",
       "        vertical-align: top;\n",
       "    }\n",
       "\n",
       "    .dataframe thead th {\n",
       "        text-align: right;\n",
       "    }\n",
       "</style>\n",
       "<table border=\"1\" class=\"dataframe\">\n",
       "  <thead>\n",
       "    <tr style=\"text-align: right;\">\n",
       "      <th></th>\n",
       "      <th>id</th>\n",
       "      <th>gender</th>\n",
       "      <th>age</th>\n",
       "      <th>region_code</th>\n",
       "      <th>policy_sales_channel</th>\n",
       "      <th>driving_license</th>\n",
       "      <th>vehicle_age</th>\n",
       "      <th>vehicle_damage</th>\n",
       "      <th>previously_insured</th>\n",
       "      <th>annual_premium</th>\n",
       "      <th>vintage</th>\n",
       "      <th>response</th>\n",
       "    </tr>\n",
       "  </thead>\n",
       "  <tbody>\n",
       "    <tr>\n",
       "      <th>0</th>\n",
       "      <td>274711</td>\n",
       "      <td>Male</td>\n",
       "      <td>22</td>\n",
       "      <td>40.0</td>\n",
       "      <td>152.0</td>\n",
       "      <td>1</td>\n",
       "      <td>&lt; 1 Year</td>\n",
       "      <td>Yes</td>\n",
       "      <td>0</td>\n",
       "      <td>25455.0</td>\n",
       "      <td>203</td>\n",
       "      <td>0</td>\n",
       "    </tr>\n",
       "    <tr>\n",
       "      <th>1</th>\n",
       "      <td>216540</td>\n",
       "      <td>Female</td>\n",
       "      <td>26</td>\n",
       "      <td>8.0</td>\n",
       "      <td>26.0</td>\n",
       "      <td>1</td>\n",
       "      <td>&lt; 1 Year</td>\n",
       "      <td>No</td>\n",
       "      <td>1</td>\n",
       "      <td>38393.0</td>\n",
       "      <td>45</td>\n",
       "      <td>0</td>\n",
       "    </tr>\n",
       "    <tr>\n",
       "      <th>2</th>\n",
       "      <td>78984</td>\n",
       "      <td>Female</td>\n",
       "      <td>32</td>\n",
       "      <td>28.0</td>\n",
       "      <td>122.0</td>\n",
       "      <td>1</td>\n",
       "      <td>&lt; 1 Year</td>\n",
       "      <td>Yes</td>\n",
       "      <td>0</td>\n",
       "      <td>32118.0</td>\n",
       "      <td>35</td>\n",
       "      <td>1</td>\n",
       "    </tr>\n",
       "    <tr>\n",
       "      <th>3</th>\n",
       "      <td>218369</td>\n",
       "      <td>Male</td>\n",
       "      <td>32</td>\n",
       "      <td>37.0</td>\n",
       "      <td>152.0</td>\n",
       "      <td>1</td>\n",
       "      <td>&lt; 1 Year</td>\n",
       "      <td>Yes</td>\n",
       "      <td>0</td>\n",
       "      <td>37711.0</td>\n",
       "      <td>215</td>\n",
       "      <td>0</td>\n",
       "    </tr>\n",
       "    <tr>\n",
       "      <th>4</th>\n",
       "      <td>307216</td>\n",
       "      <td>Female</td>\n",
       "      <td>24</td>\n",
       "      <td>28.0</td>\n",
       "      <td>156.0</td>\n",
       "      <td>1</td>\n",
       "      <td>&lt; 1 Year</td>\n",
       "      <td>Yes</td>\n",
       "      <td>0</td>\n",
       "      <td>48706.0</td>\n",
       "      <td>222</td>\n",
       "      <td>0</td>\n",
       "    </tr>\n",
       "  </tbody>\n",
       "</table>\n",
       "</div>"
      ],
      "text/plain": [
       "       id  gender  age  region_code  policy_sales_channel  driving_license vehicle_age vehicle_damage  previously_insured  annual_premium  vintage  response\n",
       "0  274711    Male   22         40.0                 152.0                1    < 1 Year            Yes                   0         25455.0      203         0\n",
       "1  216540  Female   26          8.0                  26.0                1    < 1 Year             No                   1         38393.0       45         0\n",
       "2   78984  Female   32         28.0                 122.0                1    < 1 Year            Yes                   0         32118.0       35         1\n",
       "3  218369    Male   32         37.0                 152.0                1    < 1 Year            Yes                   0         37711.0      215         0\n",
       "4  307216  Female   24         28.0                 156.0                1    < 1 Year            Yes                   0         48706.0      222         0"
      ]
     },
     "execution_count": 55,
     "metadata": {},
     "output_type": "execute_result"
    }
   ],
   "source": [
    "df01 = df_train.copy()\n",
    "df01.head()"
   ]
  },
  {
   "cell_type": "markdown",
   "metadata": {
    "heading_collapsed": true
   },
   "source": [
    "## 1.1 Data Dimensions"
   ]
  },
  {
   "cell_type": "code",
   "execution_count": 56,
   "metadata": {
    "ExecuteTime": {
     "end_time": "2021-01-10T13:41:51.135009Z",
     "start_time": "2021-01-10T13:41:51.115504Z"
    },
    "hidden": true
   },
   "outputs": [
    {
     "name": "stdout",
     "output_type": "stream",
     "text": [
      "Number of Rows: 304887\n",
      "Number of Columns: 12\n"
     ]
    }
   ],
   "source": [
    "print(f'Number of Rows: {df01.shape[0]}')\n",
    "print(f'Number of Columns: {df01.shape[1]}')"
   ]
  },
  {
   "cell_type": "markdown",
   "metadata": {
    "heading_collapsed": true
   },
   "source": [
    "## 1.2 Data Type"
   ]
  },
  {
   "cell_type": "code",
   "execution_count": 57,
   "metadata": {
    "ExecuteTime": {
     "end_time": "2021-01-10T13:41:51.532838Z",
     "start_time": "2021-01-10T13:41:51.509439Z"
    },
    "hidden": true
   },
   "outputs": [
    {
     "data": {
      "text/plain": [
       "id                        int64\n",
       "gender                   object\n",
       "age                       int64\n",
       "region_code             float64\n",
       "policy_sales_channel    float64\n",
       "driving_license           int64\n",
       "vehicle_age              object\n",
       "vehicle_damage           object\n",
       "previously_insured        int64\n",
       "annual_premium          float64\n",
       "vintage                   int64\n",
       "response                  int64\n",
       "dtype: object"
      ]
     },
     "execution_count": 57,
     "metadata": {},
     "output_type": "execute_result"
    }
   ],
   "source": [
    "df01.dtypes"
   ]
  },
  {
   "cell_type": "markdown",
   "metadata": {
    "heading_collapsed": true
   },
   "source": [
    "## 1.3 NA Check"
   ]
  },
  {
   "cell_type": "code",
   "execution_count": 58,
   "metadata": {
    "ExecuteTime": {
     "end_time": "2021-01-10T13:41:52.028063Z",
     "start_time": "2021-01-10T13:41:51.926751Z"
    },
    "hidden": true
   },
   "outputs": [
    {
     "data": {
      "text/plain": [
       "id                      0\n",
       "gender                  0\n",
       "age                     0\n",
       "region_code             0\n",
       "policy_sales_channel    0\n",
       "driving_license         0\n",
       "vehicle_age             0\n",
       "vehicle_damage          0\n",
       "previously_insured      0\n",
       "annual_premium          0\n",
       "vintage                 0\n",
       "response                0\n",
       "dtype: int64"
      ]
     },
     "execution_count": 58,
     "metadata": {},
     "output_type": "execute_result"
    }
   ],
   "source": [
    "df01.isnull().sum()"
   ]
  },
  {
   "cell_type": "markdown",
   "metadata": {
    "heading_collapsed": true
   },
   "source": [
    "## ~~1.4 Change Data type~~"
   ]
  },
  {
   "cell_type": "markdown",
   "metadata": {
    "heading_collapsed": true
   },
   "source": [
    "## 1.5 Check Balanced Data"
   ]
  },
  {
   "cell_type": "code",
   "execution_count": 59,
   "metadata": {
    "ExecuteTime": {
     "end_time": "2021-01-10T13:41:52.630539Z",
     "start_time": "2021-01-10T13:41:52.610368Z"
    },
    "hidden": true
   },
   "outputs": [
    {
     "data": {
      "text/plain": [
       "0    0.877437\n",
       "1    0.122563\n",
       "Name: response, dtype: float64"
      ]
     },
     "execution_count": 59,
     "metadata": {},
     "output_type": "execute_result"
    }
   ],
   "source": [
    "df01['response'].value_counts(normalize=True)"
   ]
  },
  {
   "cell_type": "markdown",
   "metadata": {
    "heading_collapsed": true
   },
   "source": [
    "## 1.6 Descriptive Analysis"
   ]
  },
  {
   "cell_type": "code",
   "execution_count": 60,
   "metadata": {
    "ExecuteTime": {
     "end_time": "2021-01-10T13:41:53.184914Z",
     "start_time": "2021-01-10T13:41:53.128539Z"
    },
    "hidden": true
   },
   "outputs": [],
   "source": [
    "# numerical\n",
    "num_attributes = df01.select_dtypes(include=['int64', 'float64'])\n",
    "# categorical\n",
    "cat_attributes = df01.select_dtypes(exclude=['int64', 'float64'])"
   ]
  },
  {
   "cell_type": "markdown",
   "metadata": {
    "ExecuteTime": {
     "end_time": "2021-01-07T01:04:44.255388Z",
     "start_time": "2021-01-07T01:04:44.237388Z"
    },
    "heading_collapsed": true,
    "hidden": true
   },
   "source": [
    "### 1.6.1 Numerical Attributes"
   ]
  },
  {
   "cell_type": "code",
   "execution_count": 67,
   "metadata": {
    "ExecuteTime": {
     "end_time": "2021-01-10T13:46:46.148975Z",
     "start_time": "2021-01-10T13:46:43.943724Z"
    },
    "hidden": true
   },
   "outputs": [
    {
     "data": {
      "text/html": [
       "<div>\n",
       "<style scoped>\n",
       "    .dataframe tbody tr th:only-of-type {\n",
       "        vertical-align: middle;\n",
       "    }\n",
       "\n",
       "    .dataframe tbody tr th {\n",
       "        vertical-align: top;\n",
       "    }\n",
       "\n",
       "    .dataframe thead th {\n",
       "        text-align: right;\n",
       "    }\n",
       "</style>\n",
       "<table border=\"1\" class=\"dataframe\">\n",
       "  <thead>\n",
       "    <tr style=\"text-align: right;\">\n",
       "      <th></th>\n",
       "      <th>Attributes</th>\n",
       "      <th>Min</th>\n",
       "      <th>Max</th>\n",
       "      <th>Range</th>\n",
       "      <th>Mode</th>\n",
       "      <th>Mean</th>\n",
       "      <th>Median</th>\n",
       "      <th>5%</th>\n",
       "      <th>10%</th>\n",
       "      <th>25%</th>\n",
       "      <th>75%</th>\n",
       "      <th>90%</th>\n",
       "      <th>95%</th>\n",
       "      <th>Std</th>\n",
       "      <th>Relative Std</th>\n",
       "      <th>Skew</th>\n",
       "      <th>Kurtosis</th>\n",
       "    </tr>\n",
       "  </thead>\n",
       "  <tbody>\n",
       "    <tr>\n",
       "      <th>0</th>\n",
       "      <td>age</td>\n",
       "      <td>20.0</td>\n",
       "      <td>85.0</td>\n",
       "      <td>65.0</td>\n",
       "      <td>24.0</td>\n",
       "      <td>38.826897</td>\n",
       "      <td>36.0</td>\n",
       "      <td>21.0</td>\n",
       "      <td>22.0</td>\n",
       "      <td>25.0</td>\n",
       "      <td>49.0</td>\n",
       "      <td>62.0</td>\n",
       "      <td>69.0</td>\n",
       "      <td>15.515274</td>\n",
       "      <td>0.399601</td>\n",
       "      <td>0.671710</td>\n",
       "      <td>-0.568526</td>\n",
       "    </tr>\n",
       "    <tr>\n",
       "      <th>1</th>\n",
       "      <td>region_code</td>\n",
       "      <td>0.0</td>\n",
       "      <td>52.0</td>\n",
       "      <td>52.0</td>\n",
       "      <td>28.0</td>\n",
       "      <td>26.396239</td>\n",
       "      <td>28.0</td>\n",
       "      <td>5.0</td>\n",
       "      <td>8.0</td>\n",
       "      <td>15.0</td>\n",
       "      <td>35.0</td>\n",
       "      <td>46.0</td>\n",
       "      <td>47.0</td>\n",
       "      <td>13.228728</td>\n",
       "      <td>0.501160</td>\n",
       "      <td>-0.115538</td>\n",
       "      <td>-0.866961</td>\n",
       "    </tr>\n",
       "    <tr>\n",
       "      <th>2</th>\n",
       "      <td>policy_sales_channel</td>\n",
       "      <td>1.0</td>\n",
       "      <td>163.0</td>\n",
       "      <td>162.0</td>\n",
       "      <td>152.0</td>\n",
       "      <td>112.053859</td>\n",
       "      <td>134.0</td>\n",
       "      <td>26.0</td>\n",
       "      <td>26.0</td>\n",
       "      <td>29.0</td>\n",
       "      <td>152.0</td>\n",
       "      <td>156.0</td>\n",
       "      <td>160.0</td>\n",
       "      <td>54.189199</td>\n",
       "      <td>0.483600</td>\n",
       "      <td>-0.900677</td>\n",
       "      <td>-0.969360</td>\n",
       "    </tr>\n",
       "    <tr>\n",
       "      <th>3</th>\n",
       "      <td>driving_license</td>\n",
       "      <td>0.0</td>\n",
       "      <td>1.0</td>\n",
       "      <td>1.0</td>\n",
       "      <td>1.0</td>\n",
       "      <td>0.997855</td>\n",
       "      <td>1.0</td>\n",
       "      <td>1.0</td>\n",
       "      <td>1.0</td>\n",
       "      <td>1.0</td>\n",
       "      <td>1.0</td>\n",
       "      <td>1.0</td>\n",
       "      <td>1.0</td>\n",
       "      <td>0.046265</td>\n",
       "      <td>0.046365</td>\n",
       "      <td>-21.521960</td>\n",
       "      <td>461.197806</td>\n",
       "    </tr>\n",
       "    <tr>\n",
       "      <th>4</th>\n",
       "      <td>previously_insured</td>\n",
       "      <td>0.0</td>\n",
       "      <td>1.0</td>\n",
       "      <td>1.0</td>\n",
       "      <td>0.0</td>\n",
       "      <td>0.458127</td>\n",
       "      <td>0.0</td>\n",
       "      <td>0.0</td>\n",
       "      <td>0.0</td>\n",
       "      <td>0.0</td>\n",
       "      <td>1.0</td>\n",
       "      <td>1.0</td>\n",
       "      <td>1.0</td>\n",
       "      <td>0.498244</td>\n",
       "      <td>1.087566</td>\n",
       "      <td>0.168083</td>\n",
       "      <td>-1.971761</td>\n",
       "    </tr>\n",
       "    <tr>\n",
       "      <th>5</th>\n",
       "      <td>annual_premium</td>\n",
       "      <td>2630.0</td>\n",
       "      <td>540165.0</td>\n",
       "      <td>537535.0</td>\n",
       "      <td>2630.0</td>\n",
       "      <td>30591.308311</td>\n",
       "      <td>31697.0</td>\n",
       "      <td>2630.0</td>\n",
       "      <td>2630.0</td>\n",
       "      <td>24403.0</td>\n",
       "      <td>39443.0</td>\n",
       "      <td>48483.0</td>\n",
       "      <td>55292.0</td>\n",
       "      <td>17239.257418</td>\n",
       "      <td>0.563534</td>\n",
       "      <td>1.721299</td>\n",
       "      <td>32.191697</td>\n",
       "    </tr>\n",
       "    <tr>\n",
       "      <th>6</th>\n",
       "      <td>vintage</td>\n",
       "      <td>10.0</td>\n",
       "      <td>299.0</td>\n",
       "      <td>289.0</td>\n",
       "      <td>73.0</td>\n",
       "      <td>154.392214</td>\n",
       "      <td>154.0</td>\n",
       "      <td>24.0</td>\n",
       "      <td>38.0</td>\n",
       "      <td>82.0</td>\n",
       "      <td>227.0</td>\n",
       "      <td>270.0</td>\n",
       "      <td>285.0</td>\n",
       "      <td>83.670175</td>\n",
       "      <td>0.541933</td>\n",
       "      <td>0.002134</td>\n",
       "      <td>-1.200642</td>\n",
       "    </tr>\n",
       "    <tr>\n",
       "      <th>7</th>\n",
       "      <td>response</td>\n",
       "      <td>0.0</td>\n",
       "      <td>1.0</td>\n",
       "      <td>1.0</td>\n",
       "      <td>0.0</td>\n",
       "      <td>0.122563</td>\n",
       "      <td>0.0</td>\n",
       "      <td>0.0</td>\n",
       "      <td>0.0</td>\n",
       "      <td>0.0</td>\n",
       "      <td>0.0</td>\n",
       "      <td>1.0</td>\n",
       "      <td>1.0</td>\n",
       "      <td>0.327935</td>\n",
       "      <td>2.675638</td>\n",
       "      <td>2.301907</td>\n",
       "      <td>3.298797</td>\n",
       "    </tr>\n",
       "  </tbody>\n",
       "</table>\n",
       "</div>"
      ],
      "text/plain": [
       "             Attributes     Min       Max     Range    Mode          Mean   Median      5%     10%      25%      75%      90%      95%           Std  Relative Std       Skew    Kurtosis\n",
       "0                   age    20.0      85.0      65.0    24.0     38.826897     36.0    21.0    22.0     25.0     49.0     62.0     69.0     15.515274      0.399601   0.671710   -0.568526\n",
       "1           region_code     0.0      52.0      52.0    28.0     26.396239     28.0     5.0     8.0     15.0     35.0     46.0     47.0     13.228728      0.501160  -0.115538   -0.866961\n",
       "2  policy_sales_channel     1.0     163.0     162.0   152.0    112.053859    134.0    26.0    26.0     29.0    152.0    156.0    160.0     54.189199      0.483600  -0.900677   -0.969360\n",
       "3       driving_license     0.0       1.0       1.0     1.0      0.997855      1.0     1.0     1.0      1.0      1.0      1.0      1.0      0.046265      0.046365 -21.521960  461.197806\n",
       "4    previously_insured     0.0       1.0       1.0     0.0      0.458127      0.0     0.0     0.0      0.0      1.0      1.0      1.0      0.498244      1.087566   0.168083   -1.971761\n",
       "5        annual_premium  2630.0  540165.0  537535.0  2630.0  30591.308311  31697.0  2630.0  2630.0  24403.0  39443.0  48483.0  55292.0  17239.257418      0.563534   1.721299   32.191697\n",
       "6               vintage    10.0     299.0     289.0    73.0    154.392214    154.0    24.0    38.0     82.0    227.0    270.0    285.0     83.670175      0.541933   0.002134   -1.200642\n",
       "7              response     0.0       1.0       1.0     0.0      0.122563      0.0     0.0     0.0      0.0      0.0      1.0      1.0      0.327935      2.675638   2.301907    3.298797"
      ]
     },
     "execution_count": 67,
     "metadata": {},
     "output_type": "execute_result"
    }
   ],
   "source": [
    "statistical_summary(num_attributes.drop('id', axis=1))"
   ]
  },
  {
   "cell_type": "code",
   "execution_count": 62,
   "metadata": {
    "ExecuteTime": {
     "end_time": "2021-01-10T13:42:01.313454Z",
     "start_time": "2021-01-10T13:41:56.781740Z"
    },
    "hidden": true
   },
   "outputs": [
    {
     "data": {
      "image/png": "[encoded data removed]",
      "text/plain": [
       "<Figure size 1800x864 with 9 Axes>"
      ]
     },
     "metadata": {},
     "output_type": "display_data"
    }
   ],
   "source": [
    "num_attributes.hist();"
   ]
  },
  {
   "cell_type": "markdown",
   "metadata": {
    "heading_collapsed": true,
    "hidden": true
   },
   "source": [
    "### 1.6.2 Categorical Attributes"
   ]
  },
  {
   "cell_type": "code",
   "execution_count": 21,
   "metadata": {
    "ExecuteTime": {
     "end_time": "2021-01-10T13:13:42.312842Z",
     "start_time": "2021-01-10T13:13:42.082006Z"
    },
    "hidden": true
   },
   "outputs": [
    {
     "data": {
      "text/html": [
       "<div>\n",
       "<style scoped>\n",
       "    .dataframe tbody tr th:only-of-type {\n",
       "        vertical-align: middle;\n",
       "    }\n",
       "\n",
       "    .dataframe tbody tr th {\n",
       "        vertical-align: top;\n",
       "    }\n",
       "\n",
       "    .dataframe thead th {\n",
       "        text-align: right;\n",
       "    }\n",
       "</style>\n",
       "<table border=\"1\" class=\"dataframe\">\n",
       "  <thead>\n",
       "    <tr style=\"text-align: right;\">\n",
       "      <th></th>\n",
       "      <th>gender</th>\n",
       "      <th>vehicle_age</th>\n",
       "      <th>vehicle_damage</th>\n",
       "    </tr>\n",
       "  </thead>\n",
       "  <tbody>\n",
       "    <tr>\n",
       "      <th>count</th>\n",
       "      <td>304887</td>\n",
       "      <td>304887</td>\n",
       "      <td>304887</td>\n",
       "    </tr>\n",
       "    <tr>\n",
       "      <th>unique</th>\n",
       "      <td>2</td>\n",
       "      <td>3</td>\n",
       "      <td>2</td>\n",
       "    </tr>\n",
       "    <tr>\n",
       "      <th>top</th>\n",
       "      <td>Male</td>\n",
       "      <td>1-2 Year</td>\n",
       "      <td>Yes</td>\n",
       "    </tr>\n",
       "    <tr>\n",
       "      <th>freq</th>\n",
       "      <td>164780</td>\n",
       "      <td>160195</td>\n",
       "      <td>153959</td>\n",
       "    </tr>\n",
       "  </tbody>\n",
       "</table>\n",
       "</div>"
      ],
      "text/plain": [
       "        gender vehicle_age vehicle_damage\n",
       "count   304887      304887         304887\n",
       "unique       2           3              2\n",
       "top       Male    1-2 Year            Yes\n",
       "freq    164780      160195         153959"
      ]
     },
     "execution_count": 21,
     "metadata": {},
     "output_type": "execute_result"
    }
   ],
   "source": [
    "cat_attributes.describe()"
   ]
  },
  {
   "cell_type": "markdown",
   "metadata": {
    "heading_collapsed": true,
    "hidden": true
   },
   "source": [
    "### 1.6.3 Some Conclusions"
   ]
  },
  {
   "cell_type": "markdown",
   "metadata": {
    "hidden": true
   },
   "source": [
    "Significant portion of customers (54,2%) don't have vehicle insurance\n",
    " \n",
    "Most 95% of customer have license\n",
    "\n",
    "All customers have less than one year of insurance and have a constant distribution \n",
    "\n",
    "Most customers are under 50 years old, 25% are up to 25 years old \n",
    "\n",
    "Most 95% of annual premmium cost until 55.292 and the range is 537535.0\n",
    "\n",
    "Most customer are Male\n",
    "\n",
    "Most customers vehicles age is less 2 years\n",
    "\n",
    "Customers who have had the vehicle damaged in the past are evenly distributed to customers who have not had the vehicle damaged\n",
    "\n",
    "Most 75% of customers don't have interest to buy a vehicle insurance"
   ]
  },
  {
   "cell_type": "markdown",
   "metadata": {
    "heading_collapsed": true
   },
   "source": [
    "# 2.0 Feature Engineering"
   ]
  },
  {
   "cell_type": "code",
   "execution_count": 22,
   "metadata": {
    "ExecuteTime": {
     "end_time": "2021-01-10T13:13:42.344129Z",
     "start_time": "2021-01-10T13:13:42.313843Z"
    },
    "hidden": true
   },
   "outputs": [],
   "source": [
    "df02 = df01.copy()"
   ]
  },
  {
   "cell_type": "code",
   "execution_count": 23,
   "metadata": {
    "ExecuteTime": {
     "end_time": "2021-01-10T13:14:05.941359Z",
     "start_time": "2021-01-10T13:13:42.349549Z"
    },
    "hidden": true
   },
   "outputs": [],
   "source": [
    "# Age Stage\n",
    "df02['age_stage'] = df02['age'].apply(lambda row: age_stage(row))\n",
    "\n",
    "# vehicle age\n",
    "vehicle_age_mapping = {'< 1 Year':0,\n",
    "                       '1-2 Year':1,\n",
    "                       '> 2 Years':2}\n",
    "\n",
    "df02['vehicle_age'] = df02['vehicle_age'].map(vehicle_age_mapping)\n",
    "\n",
    "# vehicle demage versus license\n",
    "vehicle_damage_mapping = {'No':0,\n",
    "                          'Yes':1}\n",
    "\n",
    "df02['vehicle_damage'] = df02['vehicle_damage'].map(vehicle_damage_mapping)\n",
    "df02['vehicle_damage_license'] = df02.apply(lambda row: -(row['vehicle_damage'] + row['driving_license'])**2 if row['driving_license'] == 0 else (row['vehicle_damage'] + row['driving_license'])**2, axis=1)\n",
    "\n",
    "\n",
    "# vehicle_damage_vehicle_age\n",
    "df02['vehicle_damage_vehicle_age'] = df02.apply(lambda row: -(row['vehicle_damage'] + row['vehicle_age'])**2 if row['vehicle_damage'] == 1 else (row['vehicle_damage'] + row['vehicle_age'])**2, axis=1)\n",
    "\n",
    "# age / mean_age_by_region_code\n",
    "region_code_mean_age = pd.DataFrame(df02.groupby('region_code')['age'].mean()).reset_index().rename(columns={'age':'mean_age_by_region_code'})\n",
    "df02 = pd.merge(df02, region_code_mean_age, how='left', on='region_code')\n",
    "\n",
    "df02['age_mean_age_by_region_code'] = df02['age'] / df02['mean_age_by_region_code']\n",
    "del region_code_mean_age\n",
    "\n",
    "\n",
    "# age / mean_age_by_policy_sales_channel\n",
    "policy_sales_channel_mean_age = pd.DataFrame(df02.groupby('policy_sales_channel')['age'].mean()).reset_index().rename(columns={'age':'mean_age_by_policy_sales_channel'})\n",
    "df02 = pd.merge(df02, policy_sales_channel_mean_age, how='left', on='policy_sales_channel')\n",
    "\n",
    "df02['age_mean_age_by_policy_sales_channel'] = df02['age'] / df02['mean_age_by_policy_sales_channel']\n",
    "del policy_sales_channel_mean_age\n",
    "\n",
    "\n",
    "# annual_premium / mean_annual_premium_by_region_code\n",
    "region_code_mean_annual_premium = pd.DataFrame(df02.groupby('region_code')['annual_premium'].mean()).reset_index().rename(columns={'annual_premium':'mean_annual_premium_by_region_code'})\n",
    "df02 = pd.merge(df02, region_code_mean_annual_premium, how='left', on='region_code')\n",
    "\n",
    "df02['annual_premium_mean_annual_premium_by_region_code'] = df02['annual_premium'] / df02['mean_annual_premium_by_region_code']\n",
    "del region_code_mean_annual_premium\n",
    "\n",
    "\n",
    "# annual_premium / mean_annual_premium_by_policy_sales_channel\n",
    "policy_sales_channel_mean_annual_premium = pd.DataFrame(df02.groupby('policy_sales_channel')['annual_premium'].mean()).reset_index().rename(columns={'annual_premium':'mean_annual_premium_by_policy_sales_channel'})\n",
    "df02 = pd.merge(df02, policy_sales_channel_mean_annual_premium, how='left', on='policy_sales_channel')\n",
    "\n",
    "df02['annual_premium_mean_annual_premium_by_policy_sales_channel'] = df02['annual_premium'] / df02['mean_annual_premium_by_policy_sales_channel']\n",
    "del policy_sales_channel_mean_annual_premium\n",
    "\n",
    "# age / vintage\n",
    "df02['age_vintage'] = (df02['age']*365) / df02['vintage']"
   ]
  },
  {
   "cell_type": "code",
   "execution_count": 25,
   "metadata": {
    "ExecuteTime": {
     "end_time": "2021-01-10T13:14:06.022684Z",
     "start_time": "2021-01-10T13:14:05.971375Z"
    },
    "hidden": true
   },
   "outputs": [
    {
     "data": {
      "text/html": [
       "<div>\n",
       "<style scoped>\n",
       "    .dataframe tbody tr th:only-of-type {\n",
       "        vertical-align: middle;\n",
       "    }\n",
       "\n",
       "    .dataframe tbody tr th {\n",
       "        vertical-align: top;\n",
       "    }\n",
       "\n",
       "    .dataframe thead th {\n",
       "        text-align: right;\n",
       "    }\n",
       "</style>\n",
       "<table border=\"1\" class=\"dataframe\">\n",
       "  <thead>\n",
       "    <tr style=\"text-align: right;\">\n",
       "      <th></th>\n",
       "      <th>id</th>\n",
       "      <th>gender</th>\n",
       "      <th>age</th>\n",
       "      <th>region_code</th>\n",
       "      <th>policy_sales_channel</th>\n",
       "      <th>driving_license</th>\n",
       "      <th>vehicle_age</th>\n",
       "      <th>vehicle_damage</th>\n",
       "      <th>previously_insured</th>\n",
       "      <th>annual_premium</th>\n",
       "      <th>vintage</th>\n",
       "      <th>response</th>\n",
       "      <th>age_stage</th>\n",
       "      <th>vehicle_damage_license</th>\n",
       "      <th>vehicle_damage_vehicle_age</th>\n",
       "      <th>mean_age_by_region_code</th>\n",
       "      <th>age_mean_age_by_region_code</th>\n",
       "      <th>mean_age_by_policy_sales_channel</th>\n",
       "      <th>age_mean_age_by_policy_sales_channel</th>\n",
       "      <th>mean_annual_premium_by_region_code</th>\n",
       "      <th>annual_premium_mean_annual_premium_by_region_code</th>\n",
       "      <th>mean_annual_premium_by_policy_sales_channel</th>\n",
       "      <th>annual_premium_mean_annual_premium_by_policy_sales_channel</th>\n",
       "      <th>age_vintage</th>\n",
       "    </tr>\n",
       "  </thead>\n",
       "  <tbody>\n",
       "    <tr>\n",
       "      <th>0</th>\n",
       "      <td>274711</td>\n",
       "      <td>Male</td>\n",
       "      <td>22</td>\n",
       "      <td>40.0</td>\n",
       "      <td>152.0</td>\n",
       "      <td>1</td>\n",
       "      <td>0</td>\n",
       "      <td>1</td>\n",
       "      <td>0</td>\n",
       "      <td>25455.0</td>\n",
       "      <td>203</td>\n",
       "      <td>0</td>\n",
       "      <td>Young</td>\n",
       "      <td>4</td>\n",
       "      <td>-1</td>\n",
       "      <td>36.126083</td>\n",
       "      <td>0.608978</td>\n",
       "      <td>26.216985</td>\n",
       "      <td>0.839151</td>\n",
       "      <td>26217.691049</td>\n",
       "      <td>0.970909</td>\n",
       "      <td>30906.365442</td>\n",
       "      <td>0.823617</td>\n",
       "      <td>39.556650</td>\n",
       "    </tr>\n",
       "    <tr>\n",
       "      <th>1</th>\n",
       "      <td>216540</td>\n",
       "      <td>Female</td>\n",
       "      <td>26</td>\n",
       "      <td>8.0</td>\n",
       "      <td>26.0</td>\n",
       "      <td>1</td>\n",
       "      <td>0</td>\n",
       "      <td>0</td>\n",
       "      <td>1</td>\n",
       "      <td>38393.0</td>\n",
       "      <td>45</td>\n",
       "      <td>0</td>\n",
       "      <td>Young</td>\n",
       "      <td>1</td>\n",
       "      <td>0</td>\n",
       "      <td>38.562716</td>\n",
       "      <td>0.674226</td>\n",
       "      <td>50.689887</td>\n",
       "      <td>0.512923</td>\n",
       "      <td>36461.222566</td>\n",
       "      <td>1.052982</td>\n",
       "      <td>33647.867005</td>\n",
       "      <td>1.141023</td>\n",
       "      <td>210.888889</td>\n",
       "    </tr>\n",
       "    <tr>\n",
       "      <th>2</th>\n",
       "      <td>78984</td>\n",
       "      <td>Female</td>\n",
       "      <td>32</td>\n",
       "      <td>28.0</td>\n",
       "      <td>122.0</td>\n",
       "      <td>1</td>\n",
       "      <td>0</td>\n",
       "      <td>1</td>\n",
       "      <td>0</td>\n",
       "      <td>32118.0</td>\n",
       "      <td>35</td>\n",
       "      <td>1</td>\n",
       "      <td>Adult</td>\n",
       "      <td>4</td>\n",
       "      <td>-1</td>\n",
       "      <td>46.280311</td>\n",
       "      <td>0.691439</td>\n",
       "      <td>52.148535</td>\n",
       "      <td>0.613632</td>\n",
       "      <td>38728.647477</td>\n",
       "      <td>0.829309</td>\n",
       "      <td>37184.874104</td>\n",
       "      <td>0.863738</td>\n",
       "      <td>333.714286</td>\n",
       "    </tr>\n",
       "    <tr>\n",
       "      <th>3</th>\n",
       "      <td>218369</td>\n",
       "      <td>Male</td>\n",
       "      <td>32</td>\n",
       "      <td>37.0</td>\n",
       "      <td>152.0</td>\n",
       "      <td>1</td>\n",
       "      <td>0</td>\n",
       "      <td>1</td>\n",
       "      <td>0</td>\n",
       "      <td>37711.0</td>\n",
       "      <td>215</td>\n",
       "      <td>0</td>\n",
       "      <td>Adult</td>\n",
       "      <td>4</td>\n",
       "      <td>-1</td>\n",
       "      <td>32.427888</td>\n",
       "      <td>0.986805</td>\n",
       "      <td>26.216985</td>\n",
       "      <td>1.220583</td>\n",
       "      <td>28400.320346</td>\n",
       "      <td>1.327837</td>\n",
       "      <td>30906.365442</td>\n",
       "      <td>1.220169</td>\n",
       "      <td>54.325581</td>\n",
       "    </tr>\n",
       "    <tr>\n",
       "      <th>4</th>\n",
       "      <td>307216</td>\n",
       "      <td>Female</td>\n",
       "      <td>24</td>\n",
       "      <td>28.0</td>\n",
       "      <td>156.0</td>\n",
       "      <td>1</td>\n",
       "      <td>0</td>\n",
       "      <td>1</td>\n",
       "      <td>0</td>\n",
       "      <td>48706.0</td>\n",
       "      <td>222</td>\n",
       "      <td>0</td>\n",
       "      <td>Young</td>\n",
       "      <td>4</td>\n",
       "      <td>-1</td>\n",
       "      <td>46.280311</td>\n",
       "      <td>0.518579</td>\n",
       "      <td>39.034703</td>\n",
       "      <td>0.614838</td>\n",
       "      <td>38728.647477</td>\n",
       "      <td>1.257622</td>\n",
       "      <td>11436.615911</td>\n",
       "      <td>4.258777</td>\n",
       "      <td>39.459459</td>\n",
       "    </tr>\n",
       "  </tbody>\n",
       "</table>\n",
       "</div>"
      ],
      "text/plain": [
       "       id  gender  age  region_code  policy_sales_channel  driving_license  vehicle_age  vehicle_damage  previously_insured  annual_premium  vintage  response age_stage  vehicle_damage_license  vehicle_damage_vehicle_age  mean_age_by_region_code  age_mean_age_by_region_code  mean_age_by_policy_sales_channel  age_mean_age_by_policy_sales_channel  mean_annual_premium_by_region_code  annual_premium_mean_annual_premium_by_region_code  mean_annual_premium_by_policy_sales_channel  annual_premium_mean_annual_premium_by_policy_sales_channel  age_vintage\n",
       "0  274711    Male   22         40.0                 152.0                1            0               1                   0         25455.0      203         0     Young                       4                          -1                36.126083                     0.608978                         26.216985                              0.839151                        26217.691049                                           0.970909                                 30906.365442                                           0.823617             39.556650\n",
       "1  216540  Female   26          8.0                  26.0                1            0               0                   1         38393.0       45         0     Young                       1                           0                38.562716                     0.674226                         50.689887                              0.512923                        36461.222566                                           1.052982                                 33647.867005                                           1.141023            210.888889\n",
       "2   78984  Female   32         28.0                 122.0                1            0               1                   0         32118.0       35         1     Adult                       4                          -1                46.280311                     0.691439                         52.148535                              0.613632                        38728.647477                                           0.829309                                 37184.874104                                           0.863738            333.714286\n",
       "3  218369    Male   32         37.0                 152.0                1            0               1                   0         37711.0      215         0     Adult                       4                          -1                32.427888                     0.986805                         26.216985                              1.220583                        28400.320346                                           1.327837                                 30906.365442                                           1.220169             54.325581\n",
       "4  307216  Female   24         28.0                 156.0                1            0               1                   0         48706.0      222         0     Young                       4                          -1                46.280311                     0.518579                         39.034703                              0.614838                        38728.647477                                           1.257622                                 11436.615911                                           4.258777             39.459459"
      ]
     },
     "execution_count": 25,
     "metadata": {},
     "output_type": "execute_result"
    }
   ],
   "source": [
    "df02.head()"
   ]
  },
  {
   "cell_type": "markdown",
   "metadata": {
    "heading_collapsed": true
   },
   "source": [
    "# 3.0 Data Filtering"
   ]
  },
  {
   "cell_type": "code",
   "execution_count": 26,
   "metadata": {
    "ExecuteTime": {
     "end_time": "2021-01-10T13:14:06.066043Z",
     "start_time": "2021-01-10T13:14:06.027410Z"
    },
    "hidden": true
   },
   "outputs": [],
   "source": [
    "df03 = df02.copy()"
   ]
  },
  {
   "cell_type": "markdown",
   "metadata": {
    "heading_collapsed": true,
    "hidden": true
   },
   "source": [
    "## 3.1 Filtering Rows"
   ]
  },
  {
   "cell_type": "markdown",
   "metadata": {
    "ExecuteTime": {
     "end_time": "2021-01-08T21:21:12.805194Z",
     "start_time": "2021-01-08T21:21:12.797195Z"
    },
    "heading_collapsed": true,
    "hidden": true
   },
   "source": [
    "## 3.2 Filtering Columns"
   ]
  },
  {
   "cell_type": "code",
   "execution_count": 27,
   "metadata": {
    "ExecuteTime": {
     "end_time": "2021-01-10T13:14:06.201972Z",
     "start_time": "2021-01-10T13:14:06.066989Z"
    },
    "hidden": true
   },
   "outputs": [],
   "source": [
    "cols_drop = ['id', # original data\n",
    "             'mean_age_by_region_code', 'mean_age_by_policy_sales_channel', 'mean_annual_premium_by_region_code', 'mean_annual_premium_by_policy_sales_channel'] # auxiliary features\n",
    "df03 = df03.drop(cols_drop, axis=1)"
   ]
  },
  {
   "cell_type": "markdown",
   "metadata": {
    "heading_collapsed": true
   },
   "source": [
    "# 4.0 Balanced Dataset"
   ]
  },
  {
   "cell_type": "code",
   "execution_count": 28,
   "metadata": {
    "ExecuteTime": {
     "end_time": "2021-01-10T13:14:06.241636Z",
     "start_time": "2021-01-10T13:14:06.201972Z"
    },
    "hidden": true
   },
   "outputs": [],
   "source": [
    "df04 = df03.copy()"
   ]
  },
  {
   "cell_type": "markdown",
   "metadata": {
    "heading_collapsed": true,
    "hidden": true
   },
   "source": [
    "## 4.1 SMOTE + TOMEKLINK"
   ]
  },
  {
   "cell_type": "code",
   "execution_count": 29,
   "metadata": {
    "ExecuteTime": {
     "end_time": "2021-01-10T13:14:06.802334Z",
     "start_time": "2021-01-10T13:14:06.246806Z"
    },
    "hidden": true
   },
   "outputs": [],
   "source": [
    "# Encoder Categorical Variables\n",
    "ohe = OneHotEncoder()\n",
    "\n",
    "# Numerical\n",
    "col_num = df04.select_dtypes(include=['int64', 'float64']).drop('response', axis=1).columns.tolist()\n",
    "\n",
    "# Categorical\n",
    "col_cat = df04.select_dtypes(exclude=['int64', 'float64']).columns.tolist()\n",
    "\n",
    "# Encoding\n",
    "df04_dummy = pd.DataFrame(ohe.fit_transform(df04[col_cat]).toarray(), index=df04.index)\n",
    "\n",
    "# join Numerical and Categorical\n",
    "df04_1 = pd.concat([df04[col_num], df04_dummy], axis=1)"
   ]
  },
  {
   "cell_type": "code",
   "execution_count": 30,
   "metadata": {
    "ExecuteTime": {
     "end_time": "2021-01-10T13:14:06.817653Z",
     "start_time": "2021-01-10T13:14:06.808287Z"
    },
    "hidden": true
   },
   "outputs": [],
   "source": [
    "ratio_balanced = {\n",
    "                    0: 267519,\n",
    "                    1:7*37368\n",
    "                }\n",
    "\n",
    "#ratio_balanced"
   ]
  },
  {
   "cell_type": "code",
   "execution_count": 31,
   "metadata": {
    "ExecuteTime": {
     "end_time": "2021-01-10T13:15:27.425172Z",
     "start_time": "2021-01-10T13:14:06.831481Z"
    },
    "hidden": true
   },
   "outputs": [],
   "source": [
    "# define sampler\n",
    "smt = c.SMOTETomek(sampling_strategy=ratio_balanced, random_state=32, n_jobs=-1)\n",
    "\n",
    "# apply sampler\n",
    "X_smt, y_smt = smt.fit_resample(df04_1, df04['response'])"
   ]
  },
  {
   "cell_type": "code",
   "execution_count": 32,
   "metadata": {
    "ExecuteTime": {
     "end_time": "2021-01-10T13:15:27.806672Z",
     "start_time": "2021-01-10T13:15:27.425172Z"
    },
    "hidden": true
   },
   "outputs": [],
   "source": [
    "# numerical data\n",
    "df04_2 = X_smt[col_num]\n",
    "\n",
    "# categorical data\n",
    "df04_3 = X_smt.drop(col_num, axis=1)\n",
    "df04_4 = pd.DataFrame(ohe.inverse_transform(df04_3), columns=col_cat, index=df04_3.index)\n",
    "\n",
    "# join numerical and categorical\n",
    "df04_5 = pd.concat([df04_2, df04_4], axis=1)\n",
    "df04_5['response'] = y_smt"
   ]
  },
  {
   "cell_type": "markdown",
   "metadata": {
    "heading_collapsed": true
   },
   "source": [
    "# 5.0 Exploratory Data Analysis (EDA)"
   ]
  },
  {
   "cell_type": "code",
   "execution_count": 33,
   "metadata": {
    "ExecuteTime": {
     "end_time": "2021-01-10T13:15:27.906013Z",
     "start_time": "2021-01-10T13:15:27.814036Z"
    },
    "hidden": true
   },
   "outputs": [],
   "source": [
    "df05_u = df04.copy()\n",
    "df05 = df04_5.copy()"
   ]
  },
  {
   "cell_type": "code",
   "execution_count": 34,
   "metadata": {
    "ExecuteTime": {
     "end_time": "2021-01-10T13:15:30.152876Z",
     "start_time": "2021-01-10T13:15:27.911084Z"
    },
    "hidden": true
   },
   "outputs": [
    {
     "data": {
      "image/png": "[encoded data removed]",
      "text/plain": [
       "<IPython.core.display.Image object>"
      ]
     },
     "execution_count": 34,
     "metadata": {},
     "output_type": "execute_result"
    }
   ],
   "source": [
    "Image('../img/insurance_sell.png')"
   ]
  },
  {
   "cell_type": "markdown",
   "metadata": {
    "hidden": true
   },
   "source": [
    "## 5.1 Univariate Analysis - Feature Bahaviour (Balanced Dataset)"
   ]
  },
  {
   "cell_type": "code",
   "execution_count": 35,
   "metadata": {
    "ExecuteTime": {
     "end_time": "2021-01-10T13:15:50.718456Z",
     "start_time": "2021-01-10T13:15:30.155918Z"
    },
    "hidden": true
   },
   "outputs": [
    {
     "data": {
      "application/vnd.jupyter.widget-view+json": {
       "model_id": "de7d5e119aa34161a74eb568c9b9b12b",
       "version_major": 2,
       "version_minor": 0
      },
      "text/plain": [
       "HBox(children=(HTML(value='Summarize dataset'), FloatProgress(value=0.0, max=28.0), HTML(value='')))"
      ]
     },
     "metadata": {},
     "output_type": "display_data"
    },
    {
     "name": "stdout",
     "output_type": "stream",
     "text": [
      "\n"
     ]
    },
    {
     "data": {
      "application/vnd.jupyter.widget-view+json": {
       "model_id": "77582997d27142e580f67c5b845bbf1a",
       "version_major": 2,
       "version_minor": 0
      },
      "text/plain": [
       "HBox(children=(HTML(value='Generate report structure'), FloatProgress(value=0.0, max=1.0), HTML(value='')))"
      ]
     },
     "metadata": {},
     "output_type": "display_data"
    },
    {
     "name": "stdout",
     "output_type": "stream",
     "text": [
      "\n"
     ]
    },
    {
     "data": {
      "application/vnd.jupyter.widget-view+json": {
       "model_id": "07da7ef43bc648c0a64bbbfc834d7ee3",
       "version_major": 2,
       "version_minor": 0
      },
      "text/plain": [
       "HBox(children=(HTML(value='Render HTML'), FloatProgress(value=0.0, max=1.0), HTML(value='')))"
      ]
     },
     "metadata": {},
     "output_type": "display_data"
    },
    {
     "name": "stdout",
     "output_type": "stream",
     "text": [
      "\n"
     ]
    },
    {
     "data": {
      "application/vnd.jupyter.widget-view+json": {
       "model_id": "d4e3e66baaee4a5cbd4a418f3f017a60",
       "version_major": 2,
       "version_minor": 0
      },
      "text/plain": [
       "HBox(children=(HTML(value='Export report to file'), FloatProgress(value=0.0, max=1.0), HTML(value='')))"
      ]
     },
     "metadata": {},
     "output_type": "display_data"
    },
    {
     "name": "stdout",
     "output_type": "stream",
     "text": [
      "\n"
     ]
    }
   ],
   "source": [
    "profile = ProfileReport(df05, title=\"Insurance Cross Sell\", html={'style': {'full_width':True}}, minimal=True)\n",
    "\n",
    "profile.to_file(output_file='insurance_cross_sell.html')"
   ]
  },
  {
   "cell_type": "markdown",
   "metadata": {
    "hidden": true
   },
   "source": [
    "## 5.2 Bivariate Analysis - Hypothesis Validation (Unbalanced dataset)"
   ]
  },
  {
   "cell_type": "markdown",
   "metadata": {
    "hidden": true
   },
   "source": [
    "### 5.2.1 Hypothesis"
   ]
  },
  {
   "cell_type": "markdown",
   "metadata": {
    "hidden": true
   },
   "source": [
    "> - **H01** - "
   ]
  },
  {
   "cell_type": "markdown",
   "metadata": {
    "hidden": true
   },
   "source": [
    "#### 5.2.1.1 Final List of Hypothesis"
   ]
  },
  {
   "cell_type": "markdown",
   "metadata": {
    "hidden": true
   },
   "source": [
    "## 5.3 Multivariable analysis (Balanced Dataset)"
   ]
  },
  {
   "cell_type": "code",
   "execution_count": 36,
   "metadata": {
    "ExecuteTime": {
     "end_time": "2021-01-10T13:15:50.903128Z",
     "start_time": "2021-01-10T13:15:50.724537Z"
    },
    "hidden": true
   },
   "outputs": [],
   "source": [
    "num_attributes = df05.select_dtypes(include=['int64', 'float64'])\n",
    "cat_attributes = df05.select_dtypes(exclude=['int64', 'float64'])"
   ]
  },
  {
   "cell_type": "markdown",
   "metadata": {
    "hidden": true
   },
   "source": [
    "### 5.3.1 Numerical"
   ]
  },
  {
   "cell_type": "code",
   "execution_count": 37,
   "metadata": {
    "ExecuteTime": {
     "end_time": "2021-01-10T13:15:59.007810Z",
     "start_time": "2021-01-10T13:15:50.909400Z"
    },
    "hidden": true
   },
   "outputs": [
    {
     "data": {
      "image/png": "[encoded data removed]",
      "text/plain": [
       "<Figure size 1512x864 with 2 Axes>"
      ]
     },
     "metadata": {},
     "output_type": "display_data"
    }
   ],
   "source": [
    "correlation = num_attributes.corr(method='pearson')\n",
    "plt.figure(figsize=(21,12))\n",
    "sns.heatmap(correlation, annot=True);"
   ]
  },
  {
   "cell_type": "markdown",
   "metadata": {
    "ExecuteTime": {
     "end_time": "2021-01-08T21:27:23.064311Z",
     "start_time": "2021-01-08T21:27:23.050311Z"
    },
    "hidden": true
   },
   "source": [
    "### 5.3.2 Categorical"
   ]
  },
  {
   "cell_type": "code",
   "execution_count": 38,
   "metadata": {
    "ExecuteTime": {
     "end_time": "2021-01-10T13:16:00.436841Z",
     "start_time": "2021-01-10T13:15:59.007810Z"
    },
    "hidden": true
   },
   "outputs": [
    {
     "data": {
      "image/png": "[encoded data removed]",
      "text/plain": [
       "<Figure size 864x576 with 2 Axes>"
      ]
     },
     "metadata": {},
     "output_type": "display_data"
    }
   ],
   "source": [
    "# list of attributes for Cramer's V correlation\n",
    "cat_attributes_list = cat_attributes.columns.tolist()\n",
    "\n",
    "corr_dict = {}\n",
    "for i in range(len(cat_attributes_list)):\n",
    "    corr_list = []\n",
    "    for j in range(len(cat_attributes_list)):\n",
    "        ref = cat_attributes_list[i]\n",
    "        feat = cat_attributes_list[j]\n",
    "        \n",
    "        # correlation\n",
    "        corr = cramer_v(cat_attributes[ref], cat_attributes[feat])\n",
    "        \n",
    "        # append list\n",
    "        corr_list.append(corr)\n",
    "        \n",
    "    # append correlation list for each ref attributes  \n",
    "    corr_dict[ref] = corr_list\n",
    "    \n",
    "d = pd.DataFrame(corr_dict)\n",
    "d = d.set_index(d.columns)\n",
    "plt.figure(figsize=(12,8))\n",
    "sns.heatmap(d, annot=True);"
   ]
  },
  {
   "cell_type": "markdown",
   "metadata": {
    "heading_collapsed": true
   },
   "source": [
    "# 6.0 Data Filtering (Attributes with High Correlation)"
   ]
  },
  {
   "cell_type": "code",
   "execution_count": 39,
   "metadata": {
    "ExecuteTime": {
     "end_time": "2021-01-10T13:16:00.495938Z",
     "start_time": "2021-01-10T13:16:00.441957Z"
    },
    "hidden": true
   },
   "outputs": [],
   "source": [
    "# cols_drop = ['']\n",
    "# df06 = df05.drop(cols_drop, axis=1)\n",
    "\n",
    "df06 = df05.copy() ### will be changed"
   ]
  },
  {
   "cell_type": "markdown",
   "metadata": {
    "heading_collapsed": true
   },
   "source": [
    "# 7.0 Data Preparation"
   ]
  },
  {
   "cell_type": "code",
   "execution_count": 40,
   "metadata": {
    "ExecuteTime": {
     "end_time": "2021-01-10T13:16:00.582576Z",
     "start_time": "2021-01-10T13:16:00.495938Z"
    },
    "hidden": true
   },
   "outputs": [],
   "source": [
    "# Numerical\n",
    "num_attributes = df06.select_dtypes(include=['int64', 'float64'])\n",
    "# Categorical\n",
    "cat_attributes = df06.select_dtypes(exclude=['int64', 'float64'])"
   ]
  },
  {
   "cell_type": "markdown",
   "metadata": {
    "hidden": true
   },
   "source": [
    "## 7.1 Rescaling"
   ]
  },
  {
   "cell_type": "markdown",
   "metadata": {
    "heading_collapsed": true,
    "hidden": true
   },
   "source": [
    "## 7.2 Encoding"
   ]
  },
  {
   "cell_type": "code",
   "execution_count": 41,
   "metadata": {
    "ExecuteTime": {
     "end_time": "2021-01-10T13:16:00.866077Z",
     "start_time": "2021-01-10T13:16:00.587247Z"
    },
    "hidden": true
   },
   "outputs": [],
   "source": [
    "# Dummy variable\n",
    "df07_dummy = pd.get_dummies(cat_attributes)\n",
    "\n",
    "# Join id and country_destination\n",
    "df07 = pd.concat([num_attributes, df07_dummy], axis=1)"
   ]
  },
  {
   "cell_type": "markdown",
   "metadata": {
    "hidden": true
   },
   "source": [
    "## 7.3 Transformation"
   ]
  },
  {
   "cell_type": "markdown",
   "metadata": {
    "heading_collapsed": true
   },
   "source": [
    "# 8.0 Feature Selection"
   ]
  },
  {
   "cell_type": "code",
   "execution_count": 42,
   "metadata": {
    "ExecuteTime": {
     "end_time": "2021-01-10T13:16:00.929253Z",
     "start_time": "2021-01-10T13:16:00.874535Z"
    },
    "hidden": true
   },
   "outputs": [],
   "source": [
    "df08 = df07.copy()"
   ]
  },
  {
   "cell_type": "markdown",
   "metadata": {
    "heading_collapsed": true,
    "hidden": true
   },
   "source": [
    "## 8.1 Boruta as Feature Selector"
   ]
  },
  {
   "cell_type": "code",
   "execution_count": 45,
   "metadata": {
    "ExecuteTime": {
     "end_time": "2021-01-10T13:31:44.490421Z",
     "start_time": "2021-01-10T13:23:42.672678Z"
    },
    "hidden": true
   },
   "outputs": [
    {
     "name": "stdout",
     "output_type": "stream",
     "text": [
      "Iteration: 1 / 100\n",
      "Iteration: 2 / 100\n",
      "Iteration: 3 / 100\n",
      "Iteration: 4 / 100\n",
      "Iteration: 5 / 100\n",
      "Iteration: 6 / 100\n",
      "Iteration: 7 / 100\n",
      "Iteration: 8 / 100\n",
      "\n",
      "\n",
      "BorutaPy finished running.\n",
      "\n",
      "Iteration: \t9 / 100\n",
      "Confirmed: \t14\n",
      "Tentative: \t0\n",
      "Rejected: \t11\n"
     ]
    },
    {
     "data": {
      "text/plain": [
       "BorutaPy(estimator=RandomForestClassifier(n_estimators=70, n_jobs=-1,\n",
       "                                          random_state=RandomState(MT19937) at 0x168B4F82940),\n",
       "         n_estimators='auto',\n",
       "         random_state=RandomState(MT19937) at 0x168B4F82940, verbose=1)"
      ]
     },
     "execution_count": 45,
     "metadata": {},
     "output_type": "execute_result"
    }
   ],
   "source": [
    "X = df08.drop(columns=['response'], axis=1)\n",
    "y = df08['response'].copy()\n",
    "\n",
    "\n",
    "# Training and Validation dataset for Boruta\n",
    "X_train_n = X.to_numpy()\n",
    "y_train_n = y.values.ravel()\n",
    "\n",
    "# define RandomForestClassifier\n",
    "rf = RandomForestClassifier(n_jobs=-1)\n",
    "\n",
    "# define Boruta\n",
    "boruta = BorutaPy(rf, verbose=1, n_estimators='auto', random_state=42)\n",
    "boruta.fit(X_train_n, y_train_n)"
   ]
  },
  {
   "cell_type": "code",
   "execution_count": 46,
   "metadata": {
    "ExecuteTime": {
     "end_time": "2021-01-10T13:31:44.609839Z",
     "start_time": "2021-01-10T13:31:44.498141Z"
    },
    "hidden": true
   },
   "outputs": [
    {
     "data": {
      "text/plain": [
       "['age',\n",
       " 'region_code',\n",
       " 'policy_sales_channel',\n",
       " 'vehicle_damage',\n",
       " 'previously_insured',\n",
       " 'annual_premium',\n",
       " 'vintage',\n",
       " 'vehicle_damage_license',\n",
       " 'vehicle_damage_vehicle_age',\n",
       " 'age_mean_age_by_region_code',\n",
       " 'age_mean_age_by_policy_sales_channel',\n",
       " 'annual_premium_mean_annual_premium_by_region_code',\n",
       " 'annual_premium_mean_annual_premium_by_policy_sales_channel',\n",
       " 'age_vintage']"
      ]
     },
     "execution_count": 46,
     "metadata": {},
     "output_type": "execute_result"
    }
   ],
   "source": [
    "cols_selected = boruta.support_.tolist()\n",
    "\n",
    "# Best Features\n",
    "X_train_fs = X\n",
    "cols_selected_boruta = X_train_fs.iloc[:, cols_selected].columns.tolist()\n",
    "\n",
    "cols_not_select_boruta = list(np.setdiff1d(X_train_fs.columns, cols_selected_boruta))\n",
    "cols_selected_boruta"
   ]
  },
  {
   "cell_type": "markdown",
   "metadata": {
    "heading_collapsed": true,
    "hidden": true
   },
   "source": [
    "## 8.? Split into Train and Validation"
   ]
  },
  {
   "cell_type": "code",
   "execution_count": 47,
   "metadata": {
    "ExecuteTime": {
     "end_time": "2021-01-10T13:31:44.859658Z",
     "start_time": "2021-01-10T13:31:44.612441Z"
    },
    "hidden": true
   },
   "outputs": [],
   "source": [
    "cols_selected = ['age',\n",
    "                 'region_code',\n",
    "                 'policy_sales_channel',\n",
    "                 'vehicle_damage',\n",
    "                 'previously_insured',\n",
    "                 'annual_premium',\n",
    "                 'vintage',\n",
    "                 'vehicle_damage_license',\n",
    "                 'vehicle_damage_vehicle_age',\n",
    "                 'age_mean_age_by_region_code',\n",
    "                 'age_mean_age_by_policy_sales_channel',\n",
    "                 'annual_premium_mean_annual_premium_by_region_code',\n",
    "                 'annual_premium_mean_annual_premium_by_policy_sales_channel',\n",
    "                 'age_vintage']\n",
    "\n",
    "\n",
    "X = df08[cols_selected]\n",
    "y = df08['response'].copy()\n",
    "\n",
    "X_train, X_test, y_train, y_test = train_test_split(X, y, test_size=0.2, random_state=32)"
   ]
  },
  {
   "cell_type": "markdown",
   "metadata": {
    "ExecuteTime": {
     "end_time": "2021-01-08T21:30:24.103727Z",
     "start_time": "2021-01-08T21:30:24.090727Z"
    },
    "heading_collapsed": true
   },
   "source": [
    "# 9.0 Machine Learning Model"
   ]
  },
  {
   "cell_type": "markdown",
   "metadata": {
    "heading_collapsed": true,
    "hidden": true
   },
   "source": [
    "## 9.1 Baseline model"
   ]
  },
  {
   "cell_type": "markdown",
   "metadata": {
    "heading_collapsed": true,
    "hidden": true
   },
   "source": [
    "### 9.1.1 Random Choices"
   ]
  },
  {
   "cell_type": "code",
   "execution_count": 48,
   "metadata": {
    "ExecuteTime": {
     "end_time": "2021-01-10T13:31:44.964719Z",
     "start_time": "2021-01-10T13:31:44.862642Z"
    },
    "hidden": true
   },
   "outputs": [],
   "source": [
    "response_list = y_train.drop_duplicates().sort_values().tolist()\n",
    "response_weights = y_train.value_counts(normalize=True).sort_index().tolist()\n",
    "k_num = y_test.shape[0]\n",
    "\n",
    "# Random Model\n",
    "\n",
    "yhat_random = random.choices(population=response_list,\n",
    "                             weights=response_weights,\n",
    "                             k=k_num)"
   ]
  },
  {
   "cell_type": "markdown",
   "metadata": {
    "heading_collapsed": true,
    "hidden": true
   },
   "source": [
    "### 9.1.2 Random Choices Performance"
   ]
  },
  {
   "cell_type": "code",
   "execution_count": 49,
   "metadata": {
    "ExecuteTime": {
     "end_time": "2021-01-10T13:31:46.720314Z",
     "start_time": "2021-01-10T13:31:44.970526Z"
    },
    "hidden": true
   },
   "outputs": [
    {
     "name": "stdout",
     "output_type": "stream",
     "text": [
      "Accuracy: 0.5008905236666344\n",
      "Balanced Accuracy: 0.500823129837096\n",
      "Kappa Score: 0.001646229265134469\n",
      "              precision    recall  f1-score   support\n",
      "\n",
      "           0       0.51      0.51      0.51     52295\n",
      "           1       0.49      0.50      0.50     51015\n",
      "\n",
      "    accuracy                           0.50    103310\n",
      "   macro avg       0.50      0.50      0.50    103310\n",
      "weighted avg       0.50      0.50      0.50    103310\n",
      "\n"
     ]
    },
    {
     "data": {
      "image/png": "[encoded data removed]",
      "text/plain": [
       "<Figure size 864x864 with 2 Axes>"
      ]
     },
     "metadata": {},
     "output_type": "display_data"
    }
   ],
   "source": [
    "# Accuracy\n",
    "acc_random = accuracy_score(y_test, yhat_random)\n",
    "print('Accuracy: {}'.format(acc_random))\n",
    "\n",
    "# Balanced Accuracy\n",
    "balanced_acc_random = balanced_accuracy_score(y_test, yhat_random)\n",
    "print('Balanced Accuracy: {}'.format(balanced_acc_random))\n",
    "\n",
    "# Kappa Score\n",
    "kappa_random = cohen_kappa_score(y_test, yhat_random)\n",
    "print('Kappa Score: {}'.format(kappa_random))\n",
    "\n",
    "# Classification Report\n",
    "print(classification_report(y_test, yhat_random))\n",
    "\n",
    "# Confusion matrix\n",
    "plot_confusion_matrix(y_test, yhat_random, normalize=False, figsize=(12, 12));"
   ]
  },
  {
   "cell_type": "markdown",
   "metadata": {
    "heading_collapsed": true,
    "hidden": true
   },
   "source": [
    "## 9.2 Machine Learning Model"
   ]
  },
  {
   "cell_type": "markdown",
   "metadata": {
    "heading_collapsed": true,
    "hidden": true
   },
   "source": [
    "### 9.2.1 Random Forest"
   ]
  },
  {
   "cell_type": "code",
   "execution_count": 50,
   "metadata": {
    "ExecuteTime": {
     "end_time": "2021-01-10T13:35:05.833996Z",
     "start_time": "2021-01-10T13:31:46.722160Z"
    },
    "hidden": true
   },
   "outputs": [],
   "source": [
    "# Model\n",
    "rf = RandomForestClassifier(n_estimators=500, n_jobs=-1, random_state=42)\n",
    "rf.fit(X_train, y_train)\n",
    "\n",
    "yhat_rf = rf.predict(X_test)"
   ]
  },
  {
   "cell_type": "markdown",
   "metadata": {
    "heading_collapsed": true,
    "hidden": true
   },
   "source": [
    "### 9.2.2 Random Forest Performance"
   ]
  },
  {
   "cell_type": "code",
   "execution_count": 51,
   "metadata": {
    "ExecuteTime": {
     "end_time": "2021-01-10T13:35:07.353970Z",
     "start_time": "2021-01-10T13:35:05.842014Z"
    },
    "hidden": true,
    "scrolled": true
   },
   "outputs": [
    {
     "name": "stdout",
     "output_type": "stream",
     "text": [
      "Accuracy: 0.9128835543509825\n",
      "Balanced Accuracy: 0.9129255949337916\n",
      "Kappa Score: 0.8257596695414325\n",
      "              precision    recall  f1-score   support\n",
      "\n",
      "           0       0.92      0.91      0.91     52295\n",
      "           1       0.91      0.92      0.91     51015\n",
      "\n",
      "    accuracy                           0.91    103310\n",
      "   macro avg       0.91      0.91      0.91    103310\n",
      "weighted avg       0.91      0.91      0.91    103310\n",
      "\n"
     ]
    },
    {
     "data": {
      "image/png": "[encoded data removed]",
      "text/plain": [
       "<Figure size 864x864 with 2 Axes>"
      ]
     },
     "metadata": {},
     "output_type": "display_data"
    }
   ],
   "source": [
    "# Accuracy\n",
    "acc_rf = accuracy_score(y_test, yhat_rf)\n",
    "print('Accuracy: {}'.format(acc_rf))\n",
    "\n",
    "# Balanced Accuracy\n",
    "balanced_acc_rf = balanced_accuracy_score(y_test, yhat_rf)\n",
    "print('Balanced Accuracy: {}'.format(balanced_acc_rf))\n",
    "\n",
    "# Kappa Score\n",
    "kappa_rf = cohen_kappa_score(y_test, yhat_rf)\n",
    "print('Kappa Score: {}'.format(kappa_rf))\n",
    "\n",
    "# Classification Report\n",
    "print(classification_report(y_test, yhat_rf))\n",
    "\n",
    "# Confusion matrix\n",
    "plot_confusion_matrix(y_test, yhat_rf, normalize=False, figsize=(12, 12));"
   ]
  },
  {
   "cell_type": "markdown",
   "metadata": {
    "heading_collapsed": true,
    "hidden": true
   },
   "source": [
    "### 9.2.3 Random Forest Performance - Cross Validation"
   ]
  },
  {
   "cell_type": "code",
   "execution_count": 196,
   "metadata": {
    "ExecuteTime": {
     "end_time": "2021-01-10T01:26:14.726919Z",
     "start_time": "2021-01-10T01:12:26.193089Z"
    },
    "hidden": true
   },
   "outputs": [
    {
     "name": "stdout",
     "output_type": "stream",
     "text": [
      "Fold Number: 1/5\n",
      "Fold Number: 2/5\n",
      "Fold Number: 3/5\n",
      "Fold Number: 4/5\n",
      "Fold Number: 5/5\n"
     ]
    },
    {
     "data": {
      "text/html": [
       "<div>\n",
       "<style scoped>\n",
       "    .dataframe tbody tr th:only-of-type {\n",
       "        vertical-align: middle;\n",
       "    }\n",
       "\n",
       "    .dataframe tbody tr th {\n",
       "        vertical-align: top;\n",
       "    }\n",
       "\n",
       "    .dataframe thead th {\n",
       "        text-align: right;\n",
       "    }\n",
       "</style>\n",
       "<table border=\"1\" class=\"dataframe\">\n",
       "  <thead>\n",
       "    <tr style=\"text-align: right;\">\n",
       "      <th></th>\n",
       "      <th>Model Name</th>\n",
       "      <th>Precision CV</th>\n",
       "      <th>Recall CV</th>\n",
       "      <th>F1 Score CV</th>\n",
       "      <th>Kappa CV</th>\n",
       "      <th>Balanced Accuracy</th>\n",
       "      <th>Average Precision Score CV</th>\n",
       "      <th>ROC AUC CV</th>\n",
       "    </tr>\n",
       "  </thead>\n",
       "  <tbody>\n",
       "    <tr>\n",
       "      <th>0</th>\n",
       "      <td>Random Forest</td>\n",
       "      <td>0.9053 +/- 0.0011</td>\n",
       "      <td>0.9166 +/- 0.0009</td>\n",
       "      <td>0.9109 +/- 0.0006</td>\n",
       "      <td>0.8228 +/- 0.0012</td>\n",
       "      <td>0.9115 +/- 0.0006</td>\n",
       "      <td>0.9801 +/- 0.0001</td>\n",
       "      <td>0.9782 +/- 0.0001</td>\n",
       "    </tr>\n",
       "  </tbody>\n",
       "</table>\n",
       "</div>"
      ],
      "text/plain": [
       "      Model Name       Precision CV          Recall CV        F1 Score CV           Kappa CV  Balanced Accuracy Average Precision Score CV         ROC AUC CV\n",
       "0  Random Forest  0.9053 +/- 0.0011  0.9166 +/- 0.0009  0.9109 +/- 0.0006  0.8228 +/- 0.0012  0.9115 +/- 0.0006          0.9801 +/- 0.0001  0.9782 +/- 0.0001"
      ]
     },
     "execution_count": 196,
     "metadata": {},
     "output_type": "execute_result"
    }
   ],
   "source": [
    "model = RandomForestClassifier(n_estimators=500, n_jobs=-1, random_state=42)\n",
    "cross_validation(X_train, y_train, 'Random Forest', model, num_folds=5, verbose=True)"
   ]
  }
 ],
 "metadata": {
  "kernelspec": {
   "display_name": "Python 3",
   "language": "python",
   "name": "python3"
  },
  "language_info": {
   "codemirror_mode": {
    "name": "ipython",
    "version": 3
   },
   "file_extension": ".py",
   "mimetype": "text/x-python",
   "name": "python",
   "nbconvert_exporter": "python",
   "pygments_lexer": "ipython3",
   "version": "3.8.3"
  },
  "nbTranslate": {
   "displayLangs": [
    "*"
   ],
   "hotkey": "alt-t",
   "langInMainMenu": true,
   "sourceLang": "en",
   "targetLang": "fr",
   "useGoogleTranslate": true
  },
  "toc": {
   "base_numbering": 1,
   "nav_menu": {},
   "number_sections": true,
   "sideBar": true,
   "skip_h1_title": false,
   "title_cell": "Table of Contents",
   "title_sidebar": "Contents",
   "toc_cell": false,
   "toc_position": {},
   "toc_section_display": true,
   "toc_window_display": false
  }
 },
 "nbformat": 4,
 "nbformat_minor": 4
}
