{
 "cells": [
  {
   "cell_type": "markdown",
   "metadata": {},
   "source": [
    "# Understanding the Situation"
   ]
  },
  {
   "cell_type": "markdown",
   "metadata": {},
   "source": [
    "# 0.0 IMPORTS"
   ]
  },
  {
   "cell_type": "markdown",
   "metadata": {},
   "source": [
    "## 0.1 Libraries"
   ]
  },
  {
   "cell_type": "code",
   "execution_count": null,
   "metadata": {},
   "outputs": [],
   "source": [
    "#!pip install psycopg2"
   ]
  },
  {
   "cell_type": "code",
   "execution_count": 15,
   "metadata": {
    "ExecuteTime": {
     "end_time": "2021-01-09T19:40:19.998557Z",
     "start_time": "2021-01-09T19:40:19.986525Z"
    }
   },
   "outputs": [],
   "source": [
    "import random\n",
    "import warnings\n",
    "\n",
    "import numpy        as np\n",
    "import pandas       as pd\n",
    "import scipy.stats  as ss\n",
    "\n",
    "import seaborn           as sns\n",
    "import matplotlib.pyplot as plt\n",
    "\n",
    "from IPython.display         import Image\n",
    "from IPython.core.display    import HTML\n",
    "\n",
    "\n",
    "from sklearn.metrics         import (accuracy_score, roc_auc_score, average_precision_score, precision_score,\n",
    "                                    recall_score, f1_score, cohen_kappa_score, balanced_accuracy_score, classification_report)\n",
    "from sklearn.ensemble        import RandomForestClassifier\n",
    "from sklearn.model_selection import StratifiedShuffleSplit, train_test_split, StratifiedKFold\n",
    "\n",
    "from scikitplot.metrics      import plot_confusion_matrix\n",
    "\n",
    "\n",
    "import sys\n",
    "sys.path.append('../')\n",
    "## My Functions\n",
    "from modules.postgres import Postgres"
   ]
  },
  {
   "cell_type": "markdown",
   "metadata": {
    "heading_collapsed": true
   },
   "source": [
    "## 0.2 Helper Functions"
   ]
  },
  {
   "cell_type": "markdown",
   "metadata": {
    "heading_collapsed": true,
    "hidden": true
   },
   "source": [
    "### 0.2.1 Notebook Config"
   ]
  },
  {
   "cell_type": "code",
   "execution_count": 16,
   "metadata": {
    "ExecuteTime": {
     "end_time": "2021-01-09T19:40:20.631894Z",
     "start_time": "2021-01-09T19:40:20.617894Z"
    },
    "hidden": true
   },
   "outputs": [],
   "source": [
    "def jupyter_settings():\n",
    "    %matplotlib inline\n",
    "    \n",
    "    plt.style.use('bmh')\n",
    "    plt.rcParams['figure.figsize'] = [25, 12]\n",
    "    plt.rcParams['font.size'] = 24\n",
    "    \n",
    "    display( HTML('<style>.container { width:85% !important; }</style>'))\n",
    "    pd.options.display.max_columns = None\n",
    "    pd.options.display.max_rows = None\n",
    "    pd.set_option('display.expand_frame_repr', False)\n",
    "    \n",
    "    warnings.filterwarnings(\"ignore\")\n",
    "    \n",
    "    sns.set()"
   ]
  },
  {
   "cell_type": "code",
   "execution_count": 17,
   "metadata": {
    "ExecuteTime": {
     "end_time": "2021-01-09T19:40:20.817805Z",
     "start_time": "2021-01-09T19:40:20.795788Z"
    },
    "hidden": true
   },
   "outputs": [
    {
     "data": {
      "text/html": [
       "<style>.container { width:85% !important; }</style>"
      ],
      "text/plain": [
       "<IPython.core.display.HTML object>"
      ]
     },
     "metadata": {},
     "output_type": "display_data"
    }
   ],
   "source": [
    "jupyter_settings()"
   ]
  },
  {
   "cell_type": "markdown",
   "metadata": {
    "heading_collapsed": true,
    "hidden": true
   },
   "source": [
    "### 0.2.2 Functions"
   ]
  },
  {
   "cell_type": "code",
   "execution_count": 18,
   "metadata": {
    "ExecuteTime": {
     "end_time": "2021-01-09T19:40:21.158787Z",
     "start_time": "2021-01-09T19:40:21.146752Z"
    },
    "hidden": true
   },
   "outputs": [],
   "source": [
    "def statistical_summary(num_attributes):\n",
    "    ### Central Tendency -> Mean, Median, Mode\n",
    "    ct1 = pd.DataFrame(num_attributes.apply(np.mean)).T\n",
    "    ct2 = pd.DataFrame(num_attributes.apply(np.median)).T\n",
    "    ct3 = pd.DataFrame(ss.mode(num_attributes)[0])\n",
    "    ct3.columns = ct1.columns\n",
    "\n",
    "    ### Dispersion -> std, min, max, range, skew, kurtosis, rsd\n",
    "    d1 = pd.DataFrame(num_attributes.apply(np.std)).T\n",
    "    d2 = pd.DataFrame(num_attributes.apply(min)).T\n",
    "    d3 = pd.DataFrame(num_attributes.apply(max)).T\n",
    "    d4 = pd.DataFrame(num_attributes.apply(lambda x: x.max() - x.min())).T\n",
    "    d5 = pd.DataFrame(num_attributes.apply(lambda x: x.skew())).T\n",
    "    d6 = pd.DataFrame(num_attributes.apply(lambda x: x.kurtosis())).T\n",
    "    d7 = d1 / ct1\n",
    "    \n",
    "    # Quantile\n",
    "    q05 = pd.DataFrame(num_attributes.quantile(0.05)).T\n",
    "    q10 = pd.DataFrame(num_attributes.quantile(0.10)).T\n",
    "    q25 = pd.DataFrame(num_attributes.quantile(0.25)).T\n",
    "    q75 = pd.DataFrame(num_attributes.quantile(0.75)).T\n",
    "    q90 = pd.DataFrame(num_attributes.quantile(0.90)).T\n",
    "    q95 = pd.DataFrame(num_attributes.quantile(0.95)).T\n",
    "\n",
    "    # Concatenate\n",
    "    m = pd.concat([d2, d3, d4, ct3, ct1, ct2, q05, q10, q25, q75, q90, q95, d1, d7, d5, d6]).T.reset_index()\n",
    "    m.columns = ['Attributes', 'Mni', 'Max', 'Range', 'Mode', 'Mean', 'Median', '5%', '10%', '25%', '75%', '90%', '95%', 'Std','Relative Std', 'Skew', 'Kurtosis']\n",
    "    \n",
    "    return m\n",
    "\n",
    "\n",
    "\n",
    "def ml_scores(model_name, y, yhat, yhat_proba):\n",
    "    precision = precision_score(y, yhat)\n",
    "    recall = recall_score(y, yhat)\n",
    "    f1 = f1_score(y, yhat)\n",
    "    kappa = cohen_kappa_score(y, yhat)\n",
    "    balanced_accuracy = balanced_accuracy_score(y, yhat)\n",
    "    ap = average_precision_score(y, yhat_proba)\n",
    "    roc_auc = roc_auc_score(y, yhat_proba)\n",
    "    \n",
    "    return pd.DataFrame({ 'Model Name': model_name, \n",
    "                       'Precision': precision, \n",
    "                       'Recall': recall,\n",
    "                       'F1 Score': f1,\n",
    "                       'Kappa': kappa,\n",
    "                       'Balanced Accuracy': balanced_accuracy,\n",
    "                       'Average Precision Score': ap,\n",
    "                       'ROC AUC': roc_auc}, index=[0])\n",
    "    \n",
    "\n",
    "    \n",
    "def cross_validation(X_train, y_train, model_name, model, num_folds=5, verbose=True):\n",
    "    # k-fold generate\n",
    "    num_folds = num_folds\n",
    "    kfold = StratifiedKFold(n_splits=num_folds, shuffle=True, random_state=42)\n",
    "    \n",
    "    precision_acc_list = []\n",
    "    recall_acc_list = []\n",
    "    f1_acc_list = []\n",
    "    kappa_acc_list = []\n",
    "    balanced_acc_list = []\n",
    "    ap_acc_list = []\n",
    "    roc_auc_acc_list = []\n",
    "\n",
    "    i = 1\n",
    "    for train_ix, val_ix in kfold.split(X_train, y_train):\n",
    "        if verbose:\n",
    "            print('Fold Number: {}/{}'.format(i, num_folds))\n",
    "        # get fold\n",
    "        X_train_fold = X_train.iloc[train_ix]\n",
    "        y_train_fold = y_train.iloc[train_ix]\n",
    "\n",
    "        X_val_fold = X_train.iloc[val_ix]\n",
    "        y_val_fold = y_train.iloc[val_ix]\n",
    "\n",
    "        # training model\n",
    "        model.fit(X_train_fold, y_train_fold)\n",
    "\n",
    "        # prediction\n",
    "        yhat = model.predict(X_val_fold)\n",
    "        yhat_proba = model.predict_proba(X_val_fold)[:,1]\n",
    "\n",
    "        # metrics\n",
    "        model_result = ml_scores(model_name, y_val_fold, yhat, yhat_proba)\n",
    "        \n",
    "        #Store Performance of each KFold iteration\n",
    "        precision_acc_list.append(model_result['Precision'].tolist())\n",
    "        recall_acc_list.append(model_result['Recall'].tolist())\n",
    "        f1_acc_list.append(model_result['F1 Score'].tolist())\n",
    "        kappa_acc_list.append(model_result['Kappa'].tolist())\n",
    "        balanced_acc_list.append(model_result['Balanced Accuracy'].tolist())\n",
    "        ap_acc_list.append(model_result['Average Precision Score'].tolist())\n",
    "        roc_auc_acc_list.append(model_result['ROC AUC'].tolist())\n",
    "        \n",
    "        i += 1\n",
    "        \n",
    "    dict_result = {\n",
    "                    'Model Name': [model_name],\n",
    "                    'Precision CV': [np.round(np.mean(precision_acc_list),4).astype(str) + ' +/- ' + np.round(np.std(precision_acc_list),4).astype(str)],\n",
    "                    'Recall CV': [np.round(np.mean(recall_acc_list),4).astype(str) + ' +/- ' + np.round(np.std(recall_acc_list),4).astype(str)],\n",
    "                    'F1 Score CV': [np.round(np.mean(f1_acc_list),4).astype(str) + ' +/- ' + np.round(np.std(f1_acc_list),4).astype(str)],\n",
    "                    'Kappa CV': [np.round(np.mean(kappa_acc_list),4).astype(str) + ' +/- ' + np.round(np.std(kappa_acc_list),4).astype(str)],\n",
    "                    'Balanced Accuracy': [np.round(np.mean(balanced_acc_list),4).astype(str) + ' +/- ' + np.round(np.std(balanced_acc_list),4).astype(str)],\n",
    "                    'Average Precision Score CV': [np.round(np.mean(ap_acc_list),4).astype(str) + ' +/- ' + np.round(np.std(ap_acc_list),4).astype(str)],\n",
    "                    'ROC AUC CV': [np.round(np.mean(roc_auc_acc_list),4).astype(str) + ' +/- ' + np.round(np.std(roc_auc_acc_list),4).astype(str)]\n",
    "                }\n",
    "\n",
    "    return pd.DataFrame(dict_result)"
   ]
  },
  {
   "cell_type": "markdown",
   "metadata": {
    "heading_collapsed": true
   },
   "source": [
    "## 0.3 Loading data"
   ]
  },
  {
   "cell_type": "code",
   "execution_count": 19,
   "metadata": {
    "ExecuteTime": {
     "end_time": "2021-01-09T19:40:26.127778Z",
     "start_time": "2021-01-09T19:40:21.563489Z"
    },
    "cell_style": "center",
    "hidden": true
   },
   "outputs": [
    {
     "data": {
      "text/plain": [
       "{'pa004': ['users', 'vehicle', 'insurance']}"
      ]
     },
     "execution_count": 19,
     "metadata": {},
     "output_type": "execute_result"
    }
   ],
   "source": [
    "# class instantiation\n",
    "pg = Postgres()\n",
    "\n",
    "# schemas and tables\n",
    "schema = pg.inspect_schema()\n",
    "schema"
   ]
  },
  {
   "cell_type": "code",
   "execution_count": 21,
   "metadata": {
    "ExecuteTime": {
     "end_time": "2021-01-09T19:42:56.493218Z",
     "start_time": "2021-01-09T19:40:26.146291Z"
    },
    "cell_style": "center",
    "hidden": true
   },
   "outputs": [],
   "source": [
    "# query table\n",
    "dict_tables = pg.get_data()"
   ]
  },
  {
   "cell_type": "markdown",
   "metadata": {
    "heading_collapsed": true,
    "hidden": true
   },
   "source": [
    "### 0.3.1 Table Users"
   ]
  },
  {
   "cell_type": "code",
   "execution_count": 23,
   "metadata": {
    "ExecuteTime": {
     "end_time": "2021-01-09T19:42:56.524798Z",
     "start_time": "2021-01-09T19:42:56.509799Z"
    },
    "hidden": true
   },
   "outputs": [
    {
     "data": {
      "text/html": [
       "<div>\n",
       "<style scoped>\n",
       "    .dataframe tbody tr th:only-of-type {\n",
       "        vertical-align: middle;\n",
       "    }\n",
       "\n",
       "    .dataframe tbody tr th {\n",
       "        vertical-align: top;\n",
       "    }\n",
       "\n",
       "    .dataframe thead th {\n",
       "        text-align: right;\n",
       "    }\n",
       "</style>\n",
       "<table border=\"1\" class=\"dataframe\">\n",
       "  <thead>\n",
       "    <tr style=\"text-align: right;\">\n",
       "      <th></th>\n",
       "      <th>id</th>\n",
       "      <th>gender</th>\n",
       "      <th>age</th>\n",
       "      <th>region_code</th>\n",
       "      <th>policy_sales_channel</th>\n",
       "    </tr>\n",
       "  </thead>\n",
       "  <tbody>\n",
       "    <tr>\n",
       "      <th>0</th>\n",
       "      <td>1</td>\n",
       "      <td>Male</td>\n",
       "      <td>44</td>\n",
       "      <td>28.0</td>\n",
       "      <td>26.0</td>\n",
       "    </tr>\n",
       "    <tr>\n",
       "      <th>1</th>\n",
       "      <td>2</td>\n",
       "      <td>Male</td>\n",
       "      <td>76</td>\n",
       "      <td>3.0</td>\n",
       "      <td>26.0</td>\n",
       "    </tr>\n",
       "    <tr>\n",
       "      <th>2</th>\n",
       "      <td>3</td>\n",
       "      <td>Male</td>\n",
       "      <td>47</td>\n",
       "      <td>28.0</td>\n",
       "      <td>26.0</td>\n",
       "    </tr>\n",
       "    <tr>\n",
       "      <th>3</th>\n",
       "      <td>4</td>\n",
       "      <td>Male</td>\n",
       "      <td>21</td>\n",
       "      <td>11.0</td>\n",
       "      <td>152.0</td>\n",
       "    </tr>\n",
       "    <tr>\n",
       "      <th>4</th>\n",
       "      <td>5</td>\n",
       "      <td>Female</td>\n",
       "      <td>29</td>\n",
       "      <td>41.0</td>\n",
       "      <td>152.0</td>\n",
       "    </tr>\n",
       "  </tbody>\n",
       "</table>\n",
       "</div>"
      ],
      "text/plain": [
       "   id  gender  age  region_code  policy_sales_channel\n",
       "0   1    Male   44         28.0                  26.0\n",
       "1   2    Male   76          3.0                  26.0\n",
       "2   3    Male   47         28.0                  26.0\n",
       "3   4    Male   21         11.0                 152.0\n",
       "4   5  Female   29         41.0                 152.0"
      ]
     },
     "execution_count": 23,
     "metadata": {},
     "output_type": "execute_result"
    }
   ],
   "source": [
    "users = dict_tables['users']\n",
    "users.head()"
   ]
  },
  {
   "cell_type": "markdown",
   "metadata": {
    "heading_collapsed": true,
    "hidden": true
   },
   "source": [
    "### 0.3.2 Table Vehicle"
   ]
  },
  {
   "cell_type": "code",
   "execution_count": 24,
   "metadata": {
    "ExecuteTime": {
     "end_time": "2021-01-09T19:42:56.539832Z",
     "start_time": "2021-01-09T19:42:56.526834Z"
    },
    "hidden": true
   },
   "outputs": [
    {
     "data": {
      "text/html": [
       "<div>\n",
       "<style scoped>\n",
       "    .dataframe tbody tr th:only-of-type {\n",
       "        vertical-align: middle;\n",
       "    }\n",
       "\n",
       "    .dataframe tbody tr th {\n",
       "        vertical-align: top;\n",
       "    }\n",
       "\n",
       "    .dataframe thead th {\n",
       "        text-align: right;\n",
       "    }\n",
       "</style>\n",
       "<table border=\"1\" class=\"dataframe\">\n",
       "  <thead>\n",
       "    <tr style=\"text-align: right;\">\n",
       "      <th></th>\n",
       "      <th>id</th>\n",
       "      <th>driving_license</th>\n",
       "      <th>vehicle_age</th>\n",
       "      <th>vehicle_damage</th>\n",
       "    </tr>\n",
       "  </thead>\n",
       "  <tbody>\n",
       "    <tr>\n",
       "      <th>0</th>\n",
       "      <td>1</td>\n",
       "      <td>1</td>\n",
       "      <td>&gt; 2 Years</td>\n",
       "      <td>Yes</td>\n",
       "    </tr>\n",
       "    <tr>\n",
       "      <th>1</th>\n",
       "      <td>2</td>\n",
       "      <td>1</td>\n",
       "      <td>1-2 Year</td>\n",
       "      <td>No</td>\n",
       "    </tr>\n",
       "    <tr>\n",
       "      <th>2</th>\n",
       "      <td>3</td>\n",
       "      <td>1</td>\n",
       "      <td>&gt; 2 Years</td>\n",
       "      <td>Yes</td>\n",
       "    </tr>\n",
       "    <tr>\n",
       "      <th>3</th>\n",
       "      <td>4</td>\n",
       "      <td>1</td>\n",
       "      <td>&lt; 1 Year</td>\n",
       "      <td>No</td>\n",
       "    </tr>\n",
       "    <tr>\n",
       "      <th>4</th>\n",
       "      <td>5</td>\n",
       "      <td>1</td>\n",
       "      <td>&lt; 1 Year</td>\n",
       "      <td>No</td>\n",
       "    </tr>\n",
       "  </tbody>\n",
       "</table>\n",
       "</div>"
      ],
      "text/plain": [
       "   id  driving_license vehicle_age vehicle_damage\n",
       "0   1                1   > 2 Years            Yes\n",
       "1   2                1    1-2 Year             No\n",
       "2   3                1   > 2 Years            Yes\n",
       "3   4                1    < 1 Year             No\n",
       "4   5                1    < 1 Year             No"
      ]
     },
     "execution_count": 24,
     "metadata": {},
     "output_type": "execute_result"
    }
   ],
   "source": [
    "vehicle = dict_tables['vehicle']\n",
    "vehicle.head()"
   ]
  },
  {
   "cell_type": "markdown",
   "metadata": {
    "heading_collapsed": true,
    "hidden": true
   },
   "source": [
    "### 0.3.3 Table Insurance"
   ]
  },
  {
   "cell_type": "code",
   "execution_count": 25,
   "metadata": {
    "ExecuteTime": {
     "end_time": "2021-01-09T19:42:56.555832Z",
     "start_time": "2021-01-09T19:42:56.541800Z"
    },
    "hidden": true
   },
   "outputs": [
    {
     "data": {
      "text/html": [
       "<div>\n",
       "<style scoped>\n",
       "    .dataframe tbody tr th:only-of-type {\n",
       "        vertical-align: middle;\n",
       "    }\n",
       "\n",
       "    .dataframe tbody tr th {\n",
       "        vertical-align: top;\n",
       "    }\n",
       "\n",
       "    .dataframe thead th {\n",
       "        text-align: right;\n",
       "    }\n",
       "</style>\n",
       "<table border=\"1\" class=\"dataframe\">\n",
       "  <thead>\n",
       "    <tr style=\"text-align: right;\">\n",
       "      <th></th>\n",
       "      <th>id</th>\n",
       "      <th>previously_insured</th>\n",
       "      <th>annual_premium</th>\n",
       "      <th>vintage</th>\n",
       "      <th>response</th>\n",
       "    </tr>\n",
       "  </thead>\n",
       "  <tbody>\n",
       "    <tr>\n",
       "      <th>0</th>\n",
       "      <td>1</td>\n",
       "      <td>0</td>\n",
       "      <td>40454.0</td>\n",
       "      <td>217</td>\n",
       "      <td>1</td>\n",
       "    </tr>\n",
       "    <tr>\n",
       "      <th>1</th>\n",
       "      <td>2</td>\n",
       "      <td>0</td>\n",
       "      <td>33536.0</td>\n",
       "      <td>183</td>\n",
       "      <td>0</td>\n",
       "    </tr>\n",
       "    <tr>\n",
       "      <th>2</th>\n",
       "      <td>3</td>\n",
       "      <td>0</td>\n",
       "      <td>38294.0</td>\n",
       "      <td>27</td>\n",
       "      <td>1</td>\n",
       "    </tr>\n",
       "    <tr>\n",
       "      <th>3</th>\n",
       "      <td>4</td>\n",
       "      <td>1</td>\n",
       "      <td>28619.0</td>\n",
       "      <td>203</td>\n",
       "      <td>0</td>\n",
       "    </tr>\n",
       "    <tr>\n",
       "      <th>4</th>\n",
       "      <td>5</td>\n",
       "      <td>1</td>\n",
       "      <td>27496.0</td>\n",
       "      <td>39</td>\n",
       "      <td>0</td>\n",
       "    </tr>\n",
       "  </tbody>\n",
       "</table>\n",
       "</div>"
      ],
      "text/plain": [
       "   id  previously_insured  annual_premium  vintage  response\n",
       "0   1                   0         40454.0      217         1\n",
       "1   2                   0         33536.0      183         0\n",
       "2   3                   0         38294.0       27         1\n",
       "3   4                   1         28619.0      203         0\n",
       "4   5                   1         27496.0       39         0"
      ]
     },
     "execution_count": 25,
     "metadata": {},
     "output_type": "execute_result"
    }
   ],
   "source": [
    "insurance = dict_tables['insurance']\n",
    "insurance.head()"
   ]
  },
  {
   "cell_type": "markdown",
   "metadata": {
    "heading_collapsed": true,
    "hidden": true
   },
   "source": [
    "### 0.3.4 Merge Dataset"
   ]
  },
  {
   "cell_type": "code",
   "execution_count": 29,
   "metadata": {
    "ExecuteTime": {
     "end_time": "2021-01-09T19:44:19.267981Z",
     "start_time": "2021-01-09T19:44:18.984291Z"
    },
    "hidden": true
   },
   "outputs": [],
   "source": [
    "df_raw = pd.merge(users, vehicle, how=\"inner\", on=\"id\")\n",
    "df_raw = pd.merge(df_raw, insurance, how=\"inner\", on=\"id\")"
   ]
  },
  {
   "cell_type": "code",
   "execution_count": 30,
   "metadata": {
    "ExecuteTime": {
     "end_time": "2021-01-09T19:44:20.072597Z",
     "start_time": "2021-01-09T19:44:20.065601Z"
    },
    "hidden": true
   },
   "outputs": [
    {
     "data": {
      "text/plain": [
       "Index(['id', 'gender', 'age', 'region_code', 'policy_sales_channel',\n",
       "       'driving_license', 'vehicle_age', 'vehicle_damage',\n",
       "       'previously_insured', 'annual_premium', 'vintage', 'response'],\n",
       "      dtype='object')"
      ]
     },
     "execution_count": 30,
     "metadata": {},
     "output_type": "execute_result"
    }
   ],
   "source": [
    "df_raw.columns"
   ]
  },
  {
   "cell_type": "markdown",
   "metadata": {
    "heading_collapsed": true,
    "hidden": true
   },
   "source": [
    "### 0.3.5 Saving Test Data"
   ]
  },
  {
   "cell_type": "code",
   "execution_count": 31,
   "metadata": {
    "ExecuteTime": {
     "end_time": "2021-01-09T19:44:29.535559Z",
     "start_time": "2021-01-09T19:44:28.248401Z"
    },
    "hidden": true
   },
   "outputs": [],
   "source": [
    "# Apply stratified sampling in order to keep target variable proportion in the train and test datasets\n",
    "split = StratifiedShuffleSplit(n_splits=1, test_size=0.2, random_state=42)\n",
    "for train_index, test_index in split.split(df_raw, df_raw['response']):\n",
    "    train_dataset = df_raw.loc[train_index].reset_index(drop=True)\n",
    "    test_dataset = df_raw.loc[test_index].reset_index(drop=True)\n",
    "    \n",
    "# Convert to .Feather Data\n",
    "train_dataset.to_feather('../00-Data/train_dataset.feather')\n",
    "test_dataset.to_feather('../00-Data/test_dataset.feather')"
   ]
  },
  {
   "cell_type": "markdown",
   "metadata": {
    "heading_collapsed": true,
    "hidden": true
   },
   "source": [
    "### 0.3.6 Read Training Dataset"
   ]
  },
  {
   "cell_type": "code",
   "execution_count": 33,
   "metadata": {
    "ExecuteTime": {
     "end_time": "2021-01-09T19:44:42.280984Z",
     "start_time": "2021-01-09T19:44:42.200330Z"
    },
    "hidden": true
   },
   "outputs": [],
   "source": [
    "df_train = pd.read_feather('../00-Data/train_dataset.feather')"
   ]
  },
  {
   "cell_type": "markdown",
   "metadata": {
    "heading_collapsed": true
   },
   "source": [
    "# 1.0 DATA DESCRIPTION"
   ]
  },
  {
   "cell_type": "code",
   "execution_count": 34,
   "metadata": {
    "ExecuteTime": {
     "end_time": "2021-01-09T19:44:44.164639Z",
     "start_time": "2021-01-09T19:44:44.133437Z"
    },
    "hidden": true
   },
   "outputs": [
    {
     "data": {
      "text/html": [
       "<div>\n",
       "<style scoped>\n",
       "    .dataframe tbody tr th:only-of-type {\n",
       "        vertical-align: middle;\n",
       "    }\n",
       "\n",
       "    .dataframe tbody tr th {\n",
       "        vertical-align: top;\n",
       "    }\n",
       "\n",
       "    .dataframe thead th {\n",
       "        text-align: right;\n",
       "    }\n",
       "</style>\n",
       "<table border=\"1\" class=\"dataframe\">\n",
       "  <thead>\n",
       "    <tr style=\"text-align: right;\">\n",
       "      <th></th>\n",
       "      <th>id</th>\n",
       "      <th>gender</th>\n",
       "      <th>age</th>\n",
       "      <th>region_code</th>\n",
       "      <th>policy_sales_channel</th>\n",
       "      <th>driving_license</th>\n",
       "      <th>vehicle_age</th>\n",
       "      <th>vehicle_damage</th>\n",
       "      <th>previously_insured</th>\n",
       "      <th>annual_premium</th>\n",
       "      <th>vintage</th>\n",
       "      <th>response</th>\n",
       "    </tr>\n",
       "  </thead>\n",
       "  <tbody>\n",
       "    <tr>\n",
       "      <th>0</th>\n",
       "      <td>274711</td>\n",
       "      <td>Male</td>\n",
       "      <td>22</td>\n",
       "      <td>40.0</td>\n",
       "      <td>152.0</td>\n",
       "      <td>1</td>\n",
       "      <td>&lt; 1 Year</td>\n",
       "      <td>Yes</td>\n",
       "      <td>0</td>\n",
       "      <td>25455.0</td>\n",
       "      <td>203</td>\n",
       "      <td>0</td>\n",
       "    </tr>\n",
       "    <tr>\n",
       "      <th>1</th>\n",
       "      <td>216540</td>\n",
       "      <td>Female</td>\n",
       "      <td>26</td>\n",
       "      <td>8.0</td>\n",
       "      <td>26.0</td>\n",
       "      <td>1</td>\n",
       "      <td>&lt; 1 Year</td>\n",
       "      <td>No</td>\n",
       "      <td>1</td>\n",
       "      <td>38393.0</td>\n",
       "      <td>45</td>\n",
       "      <td>0</td>\n",
       "    </tr>\n",
       "    <tr>\n",
       "      <th>2</th>\n",
       "      <td>78984</td>\n",
       "      <td>Female</td>\n",
       "      <td>32</td>\n",
       "      <td>28.0</td>\n",
       "      <td>122.0</td>\n",
       "      <td>1</td>\n",
       "      <td>&lt; 1 Year</td>\n",
       "      <td>Yes</td>\n",
       "      <td>0</td>\n",
       "      <td>32118.0</td>\n",
       "      <td>35</td>\n",
       "      <td>1</td>\n",
       "    </tr>\n",
       "    <tr>\n",
       "      <th>3</th>\n",
       "      <td>218369</td>\n",
       "      <td>Male</td>\n",
       "      <td>32</td>\n",
       "      <td>37.0</td>\n",
       "      <td>152.0</td>\n",
       "      <td>1</td>\n",
       "      <td>&lt; 1 Year</td>\n",
       "      <td>Yes</td>\n",
       "      <td>0</td>\n",
       "      <td>37711.0</td>\n",
       "      <td>215</td>\n",
       "      <td>0</td>\n",
       "    </tr>\n",
       "    <tr>\n",
       "      <th>4</th>\n",
       "      <td>307216</td>\n",
       "      <td>Female</td>\n",
       "      <td>24</td>\n",
       "      <td>28.0</td>\n",
       "      <td>156.0</td>\n",
       "      <td>1</td>\n",
       "      <td>&lt; 1 Year</td>\n",
       "      <td>Yes</td>\n",
       "      <td>0</td>\n",
       "      <td>48706.0</td>\n",
       "      <td>222</td>\n",
       "      <td>0</td>\n",
       "    </tr>\n",
       "  </tbody>\n",
       "</table>\n",
       "</div>"
      ],
      "text/plain": [
       "       id  gender  age  region_code  policy_sales_channel  driving_license vehicle_age vehicle_damage  previously_insured  annual_premium  vintage  response\n",
       "0  274711    Male   22         40.0                 152.0                1    < 1 Year            Yes                   0         25455.0      203         0\n",
       "1  216540  Female   26          8.0                  26.0                1    < 1 Year             No                   1         38393.0       45         0\n",
       "2   78984  Female   32         28.0                 122.0                1    < 1 Year            Yes                   0         32118.0       35         1\n",
       "3  218369    Male   32         37.0                 152.0                1    < 1 Year            Yes                   0         37711.0      215         0\n",
       "4  307216  Female   24         28.0                 156.0                1    < 1 Year            Yes                   0         48706.0      222         0"
      ]
     },
     "execution_count": 34,
     "metadata": {},
     "output_type": "execute_result"
    }
   ],
   "source": [
    "df01 = df_train.copy()\n",
    "df01.head()"
   ]
  },
  {
   "cell_type": "markdown",
   "metadata": {
    "heading_collapsed": true,
    "hidden": true
   },
   "source": [
    "## 1.1 Data Dimensions"
   ]
  },
  {
   "cell_type": "code",
   "execution_count": 35,
   "metadata": {
    "ExecuteTime": {
     "end_time": "2021-01-09T19:44:45.663495Z",
     "start_time": "2021-01-09T19:44:45.651497Z"
    },
    "hidden": true
   },
   "outputs": [
    {
     "name": "stdout",
     "output_type": "stream",
     "text": [
      "Number of Rows: 304887\n",
      "Number of Columns: 12\n"
     ]
    }
   ],
   "source": [
    "print(f'Number of Rows: {df01.shape[0]}')\n",
    "print(f'Number of Columns: {df01.shape[1]}')"
   ]
  },
  {
   "cell_type": "markdown",
   "metadata": {
    "heading_collapsed": true,
    "hidden": true
   },
   "source": [
    "## 1.2 Data Type"
   ]
  },
  {
   "cell_type": "code",
   "execution_count": 36,
   "metadata": {
    "ExecuteTime": {
     "end_time": "2021-01-09T19:45:02.193104Z",
     "start_time": "2021-01-09T19:45:02.187132Z"
    },
    "hidden": true
   },
   "outputs": [
    {
     "data": {
      "text/plain": [
       "id                        int64\n",
       "gender                   object\n",
       "age                       int64\n",
       "region_code             float64\n",
       "policy_sales_channel    float64\n",
       "driving_license           int64\n",
       "vehicle_age              object\n",
       "vehicle_damage           object\n",
       "previously_insured        int64\n",
       "annual_premium          float64\n",
       "vintage                   int64\n",
       "response                  int64\n",
       "dtype: object"
      ]
     },
     "execution_count": 36,
     "metadata": {},
     "output_type": "execute_result"
    }
   ],
   "source": [
    "df01.dtypes"
   ]
  },
  {
   "cell_type": "markdown",
   "metadata": {
    "heading_collapsed": true,
    "hidden": true
   },
   "source": [
    "## 1.3 NA Check"
   ]
  },
  {
   "cell_type": "code",
   "execution_count": 37,
   "metadata": {
    "ExecuteTime": {
     "end_time": "2021-01-09T19:45:03.640222Z",
     "start_time": "2021-01-09T19:45:03.583024Z"
    },
    "hidden": true
   },
   "outputs": [
    {
     "data": {
      "text/plain": [
       "id                      0\n",
       "gender                  0\n",
       "age                     0\n",
       "region_code             0\n",
       "policy_sales_channel    0\n",
       "driving_license         0\n",
       "vehicle_age             0\n",
       "vehicle_damage          0\n",
       "previously_insured      0\n",
       "annual_premium          0\n",
       "vintage                 0\n",
       "response                0\n",
       "dtype: int64"
      ]
     },
     "execution_count": 37,
     "metadata": {},
     "output_type": "execute_result"
    }
   ],
   "source": [
    "df01.isnull().sum()"
   ]
  },
  {
   "cell_type": "markdown",
   "metadata": {
    "heading_collapsed": true,
    "hidden": true
   },
   "source": [
    "## ~~1.4 Change Data type~~"
   ]
  },
  {
   "cell_type": "markdown",
   "metadata": {
    "heading_collapsed": true,
    "hidden": true
   },
   "source": [
    "## 1.5 Check Balanced Data"
   ]
  },
  {
   "cell_type": "code",
   "execution_count": 38,
   "metadata": {
    "ExecuteTime": {
     "end_time": "2021-01-09T19:45:05.318058Z",
     "start_time": "2021-01-09T19:45:05.292015Z"
    },
    "hidden": true
   },
   "outputs": [
    {
     "data": {
      "text/plain": [
       "0    0.877437\n",
       "1    0.122563\n",
       "Name: response, dtype: float64"
      ]
     },
     "execution_count": 38,
     "metadata": {},
     "output_type": "execute_result"
    }
   ],
   "source": [
    "df01['response'].value_counts(normalize=True)"
   ]
  },
  {
   "cell_type": "markdown",
   "metadata": {
    "heading_collapsed": true,
    "hidden": true
   },
   "source": [
    "## 1.6 Descriptive Analysis"
   ]
  },
  {
   "cell_type": "code",
   "execution_count": 39,
   "metadata": {
    "ExecuteTime": {
     "end_time": "2021-01-09T19:45:08.293952Z",
     "start_time": "2021-01-09T19:45:08.262750Z"
    },
    "hidden": true
   },
   "outputs": [],
   "source": [
    "# numerical\n",
    "num_attributes = df01.select_dtypes(include=['int64', 'float64'])\n",
    "# categorical\n",
    "cat_attributes = df01.select_dtypes(exclude=['int64', 'float64'])"
   ]
  },
  {
   "cell_type": "markdown",
   "metadata": {
    "ExecuteTime": {
     "end_time": "2021-01-07T01:04:44.255388Z",
     "start_time": "2021-01-07T01:04:44.237388Z"
    },
    "hidden": true
   },
   "source": [
    "### 1.6.1 Numerical Attributes"
   ]
  },
  {
   "cell_type": "code",
   "execution_count": 40,
   "metadata": {
    "ExecuteTime": {
     "end_time": "2021-01-09T19:45:10.033417Z",
     "start_time": "2021-01-09T19:45:09.300629Z"
    },
    "hidden": true
   },
   "outputs": [
    {
     "data": {
      "text/html": [
       "<div>\n",
       "<style scoped>\n",
       "    .dataframe tbody tr th:only-of-type {\n",
       "        vertical-align: middle;\n",
       "    }\n",
       "\n",
       "    .dataframe tbody tr th {\n",
       "        vertical-align: top;\n",
       "    }\n",
       "\n",
       "    .dataframe thead th {\n",
       "        text-align: right;\n",
       "    }\n",
       "</style>\n",
       "<table border=\"1\" class=\"dataframe\">\n",
       "  <thead>\n",
       "    <tr style=\"text-align: right;\">\n",
       "      <th></th>\n",
       "      <th>Attributes</th>\n",
       "      <th>Mni</th>\n",
       "      <th>Max</th>\n",
       "      <th>Range</th>\n",
       "      <th>Mode</th>\n",
       "      <th>Mean</th>\n",
       "      <th>Median</th>\n",
       "      <th>5%</th>\n",
       "      <th>10%</th>\n",
       "      <th>25%</th>\n",
       "      <th>75%</th>\n",
       "      <th>90%</th>\n",
       "      <th>95%</th>\n",
       "      <th>Std</th>\n",
       "      <th>Relative Std</th>\n",
       "      <th>Skew</th>\n",
       "      <th>Kurtosis</th>\n",
       "    </tr>\n",
       "  </thead>\n",
       "  <tbody>\n",
       "    <tr>\n",
       "      <th>0</th>\n",
       "      <td>age</td>\n",
       "      <td>20.0</td>\n",
       "      <td>85.0</td>\n",
       "      <td>65.0</td>\n",
       "      <td>24.0</td>\n",
       "      <td>38.826897</td>\n",
       "      <td>36.0</td>\n",
       "      <td>21.0</td>\n",
       "      <td>22.0</td>\n",
       "      <td>25.0</td>\n",
       "      <td>49.0</td>\n",
       "      <td>62.0</td>\n",
       "      <td>69.0</td>\n",
       "      <td>15.515274</td>\n",
       "      <td>0.399601</td>\n",
       "      <td>0.671710</td>\n",
       "      <td>-0.568526</td>\n",
       "    </tr>\n",
       "    <tr>\n",
       "      <th>1</th>\n",
       "      <td>region_code</td>\n",
       "      <td>0.0</td>\n",
       "      <td>52.0</td>\n",
       "      <td>52.0</td>\n",
       "      <td>28.0</td>\n",
       "      <td>26.396239</td>\n",
       "      <td>28.0</td>\n",
       "      <td>5.0</td>\n",
       "      <td>8.0</td>\n",
       "      <td>15.0</td>\n",
       "      <td>35.0</td>\n",
       "      <td>46.0</td>\n",
       "      <td>47.0</td>\n",
       "      <td>13.228728</td>\n",
       "      <td>0.501160</td>\n",
       "      <td>-0.115538</td>\n",
       "      <td>-0.866961</td>\n",
       "    </tr>\n",
       "    <tr>\n",
       "      <th>2</th>\n",
       "      <td>policy_sales_channel</td>\n",
       "      <td>1.0</td>\n",
       "      <td>163.0</td>\n",
       "      <td>162.0</td>\n",
       "      <td>152.0</td>\n",
       "      <td>112.053859</td>\n",
       "      <td>134.0</td>\n",
       "      <td>26.0</td>\n",
       "      <td>26.0</td>\n",
       "      <td>29.0</td>\n",
       "      <td>152.0</td>\n",
       "      <td>156.0</td>\n",
       "      <td>160.0</td>\n",
       "      <td>54.189199</td>\n",
       "      <td>0.483600</td>\n",
       "      <td>-0.900677</td>\n",
       "      <td>-0.969360</td>\n",
       "    </tr>\n",
       "    <tr>\n",
       "      <th>3</th>\n",
       "      <td>driving_license</td>\n",
       "      <td>0.0</td>\n",
       "      <td>1.0</td>\n",
       "      <td>1.0</td>\n",
       "      <td>1.0</td>\n",
       "      <td>0.997855</td>\n",
       "      <td>1.0</td>\n",
       "      <td>1.0</td>\n",
       "      <td>1.0</td>\n",
       "      <td>1.0</td>\n",
       "      <td>1.0</td>\n",
       "      <td>1.0</td>\n",
       "      <td>1.0</td>\n",
       "      <td>0.046265</td>\n",
       "      <td>0.046365</td>\n",
       "      <td>-21.521960</td>\n",
       "      <td>461.197806</td>\n",
       "    </tr>\n",
       "    <tr>\n",
       "      <th>4</th>\n",
       "      <td>previously_insured</td>\n",
       "      <td>0.0</td>\n",
       "      <td>1.0</td>\n",
       "      <td>1.0</td>\n",
       "      <td>0.0</td>\n",
       "      <td>0.458127</td>\n",
       "      <td>0.0</td>\n",
       "      <td>0.0</td>\n",
       "      <td>0.0</td>\n",
       "      <td>0.0</td>\n",
       "      <td>1.0</td>\n",
       "      <td>1.0</td>\n",
       "      <td>1.0</td>\n",
       "      <td>0.498244</td>\n",
       "      <td>1.087566</td>\n",
       "      <td>0.168083</td>\n",
       "      <td>-1.971761</td>\n",
       "    </tr>\n",
       "    <tr>\n",
       "      <th>5</th>\n",
       "      <td>annual_premium</td>\n",
       "      <td>2630.0</td>\n",
       "      <td>540165.0</td>\n",
       "      <td>537535.0</td>\n",
       "      <td>2630.0</td>\n",
       "      <td>30591.308311</td>\n",
       "      <td>31697.0</td>\n",
       "      <td>2630.0</td>\n",
       "      <td>2630.0</td>\n",
       "      <td>24403.0</td>\n",
       "      <td>39443.0</td>\n",
       "      <td>48483.0</td>\n",
       "      <td>55292.0</td>\n",
       "      <td>17239.257418</td>\n",
       "      <td>0.563534</td>\n",
       "      <td>1.721299</td>\n",
       "      <td>32.191697</td>\n",
       "    </tr>\n",
       "    <tr>\n",
       "      <th>6</th>\n",
       "      <td>vintage</td>\n",
       "      <td>10.0</td>\n",
       "      <td>299.0</td>\n",
       "      <td>289.0</td>\n",
       "      <td>73.0</td>\n",
       "      <td>154.392214</td>\n",
       "      <td>154.0</td>\n",
       "      <td>24.0</td>\n",
       "      <td>38.0</td>\n",
       "      <td>82.0</td>\n",
       "      <td>227.0</td>\n",
       "      <td>270.0</td>\n",
       "      <td>285.0</td>\n",
       "      <td>83.670175</td>\n",
       "      <td>0.541933</td>\n",
       "      <td>0.002134</td>\n",
       "      <td>-1.200642</td>\n",
       "    </tr>\n",
       "    <tr>\n",
       "      <th>7</th>\n",
       "      <td>response</td>\n",
       "      <td>0.0</td>\n",
       "      <td>1.0</td>\n",
       "      <td>1.0</td>\n",
       "      <td>0.0</td>\n",
       "      <td>0.122563</td>\n",
       "      <td>0.0</td>\n",
       "      <td>0.0</td>\n",
       "      <td>0.0</td>\n",
       "      <td>0.0</td>\n",
       "      <td>0.0</td>\n",
       "      <td>1.0</td>\n",
       "      <td>1.0</td>\n",
       "      <td>0.327935</td>\n",
       "      <td>2.675638</td>\n",
       "      <td>2.301907</td>\n",
       "      <td>3.298797</td>\n",
       "    </tr>\n",
       "  </tbody>\n",
       "</table>\n",
       "</div>"
      ],
      "text/plain": [
       "             Attributes     Mni       Max     Range    Mode          Mean   Median      5%     10%      25%      75%      90%      95%           Std  Relative Std       Skew    Kurtosis\n",
       "0                   age    20.0      85.0      65.0    24.0     38.826897     36.0    21.0    22.0     25.0     49.0     62.0     69.0     15.515274      0.399601   0.671710   -0.568526\n",
       "1           region_code     0.0      52.0      52.0    28.0     26.396239     28.0     5.0     8.0     15.0     35.0     46.0     47.0     13.228728      0.501160  -0.115538   -0.866961\n",
       "2  policy_sales_channel     1.0     163.0     162.0   152.0    112.053859    134.0    26.0    26.0     29.0    152.0    156.0    160.0     54.189199      0.483600  -0.900677   -0.969360\n",
       "3       driving_license     0.0       1.0       1.0     1.0      0.997855      1.0     1.0     1.0      1.0      1.0      1.0      1.0      0.046265      0.046365 -21.521960  461.197806\n",
       "4    previously_insured     0.0       1.0       1.0     0.0      0.458127      0.0     0.0     0.0      0.0      1.0      1.0      1.0      0.498244      1.087566   0.168083   -1.971761\n",
       "5        annual_premium  2630.0  540165.0  537535.0  2630.0  30591.308311  31697.0  2630.0  2630.0  24403.0  39443.0  48483.0  55292.0  17239.257418      0.563534   1.721299   32.191697\n",
       "6               vintage    10.0     299.0     289.0    73.0    154.392214    154.0    24.0    38.0     82.0    227.0    270.0    285.0     83.670175      0.541933   0.002134   -1.200642\n",
       "7              response     0.0       1.0       1.0     0.0      0.122563      0.0     0.0     0.0      0.0      0.0      1.0      1.0      0.327935      2.675638   2.301907    3.298797"
      ]
     },
     "execution_count": 40,
     "metadata": {},
     "output_type": "execute_result"
    }
   ],
   "source": [
    "statistical_summary(num_attributes.drop('id', axis=1))"
   ]
  },
  {
   "cell_type": "markdown",
   "metadata": {
    "hidden": true
   },
   "source": [
    " Most 50% of customer don't have vehicles insurance\n",
    " \n",
    " Mean value of Health Insurance is about 30k\n",
    " All customers have less 1 year on Insurance All, being 75% had 227 days\n",
    " Most 75% of customers don't have interest to buy a vehicle insurance\n",
    " Most customer are between 25 and 49 years old\n",
    " Most 75% of customer have driver license\n",
    " \n",
    " \n",
    " Most customer are Male\n",
    " Most customers vehicles age is less 2 years\n",
    " About 50% of customer has vehicles damage on past"
   ]
  },
  {
   "cell_type": "markdown",
   "metadata": {
    "hidden": true
   },
   "source": [
    "### 1.6.2 Categorical Attributes"
   ]
  },
  {
   "cell_type": "code",
   "execution_count": 41,
   "metadata": {
    "ExecuteTime": {
     "end_time": "2021-01-09T19:45:14.253492Z",
     "start_time": "2021-01-09T19:45:14.147748Z"
    },
    "hidden": true
   },
   "outputs": [
    {
     "data": {
      "text/html": [
       "<div>\n",
       "<style scoped>\n",
       "    .dataframe tbody tr th:only-of-type {\n",
       "        vertical-align: middle;\n",
       "    }\n",
       "\n",
       "    .dataframe tbody tr th {\n",
       "        vertical-align: top;\n",
       "    }\n",
       "\n",
       "    .dataframe thead th {\n",
       "        text-align: right;\n",
       "    }\n",
       "</style>\n",
       "<table border=\"1\" class=\"dataframe\">\n",
       "  <thead>\n",
       "    <tr style=\"text-align: right;\">\n",
       "      <th></th>\n",
       "      <th>gender</th>\n",
       "      <th>vehicle_age</th>\n",
       "      <th>vehicle_damage</th>\n",
       "    </tr>\n",
       "  </thead>\n",
       "  <tbody>\n",
       "    <tr>\n",
       "      <th>count</th>\n",
       "      <td>304887</td>\n",
       "      <td>304887</td>\n",
       "      <td>304887</td>\n",
       "    </tr>\n",
       "    <tr>\n",
       "      <th>unique</th>\n",
       "      <td>2</td>\n",
       "      <td>3</td>\n",
       "      <td>2</td>\n",
       "    </tr>\n",
       "    <tr>\n",
       "      <th>top</th>\n",
       "      <td>Male</td>\n",
       "      <td>1-2 Year</td>\n",
       "      <td>Yes</td>\n",
       "    </tr>\n",
       "    <tr>\n",
       "      <th>freq</th>\n",
       "      <td>164780</td>\n",
       "      <td>160195</td>\n",
       "      <td>153959</td>\n",
       "    </tr>\n",
       "  </tbody>\n",
       "</table>\n",
       "</div>"
      ],
      "text/plain": [
       "        gender vehicle_age vehicle_damage\n",
       "count   304887      304887         304887\n",
       "unique       2           3              2\n",
       "top       Male    1-2 Year            Yes\n",
       "freq    164780      160195         153959"
      ]
     },
     "execution_count": 41,
     "metadata": {},
     "output_type": "execute_result"
    }
   ],
   "source": [
    "cat_attributes.describe()"
   ]
  },
  {
   "cell_type": "markdown",
   "metadata": {
    "heading_collapsed": true
   },
   "source": [
    "# 2.0 Feature Engineering"
   ]
  },
  {
   "cell_type": "code",
   "execution_count": 42,
   "metadata": {
    "ExecuteTime": {
     "end_time": "2021-01-09T19:45:17.925777Z",
     "start_time": "2021-01-09T19:45:17.902741Z"
    },
    "hidden": true
   },
   "outputs": [],
   "source": [
    "df02 = df01.copy()"
   ]
  },
  {
   "cell_type": "markdown",
   "metadata": {
    "heading_collapsed": true
   },
   "source": [
    "# 3.0 Data Filtering"
   ]
  },
  {
   "cell_type": "code",
   "execution_count": 43,
   "metadata": {
    "ExecuteTime": {
     "end_time": "2021-01-09T19:45:19.124968Z",
     "start_time": "2021-01-09T19:45:19.110937Z"
    },
    "hidden": true
   },
   "outputs": [],
   "source": [
    "df03 = df02.copy()"
   ]
  },
  {
   "cell_type": "markdown",
   "metadata": {
    "hidden": true
   },
   "source": [
    "## 3.1 Filtering Rows"
   ]
  },
  {
   "cell_type": "markdown",
   "metadata": {
    "ExecuteTime": {
     "end_time": "2021-01-08T21:21:12.805194Z",
     "start_time": "2021-01-08T21:21:12.797195Z"
    },
    "heading_collapsed": true,
    "hidden": true
   },
   "source": [
    "## 3.2 Filtering Columns"
   ]
  },
  {
   "cell_type": "code",
   "execution_count": 44,
   "metadata": {
    "ExecuteTime": {
     "end_time": "2021-01-09T19:45:20.237806Z",
     "start_time": "2021-01-09T19:45:20.209779Z"
    },
    "hidden": true
   },
   "outputs": [],
   "source": [
    "cols_drop = ['id']\n",
    "df03 = df03.drop(cols_drop, axis=1)"
   ]
  },
  {
   "cell_type": "markdown",
   "metadata": {
    "heading_collapsed": true
   },
   "source": [
    "# 4.0 Balanced Dataset"
   ]
  },
  {
   "cell_type": "code",
   "execution_count": 45,
   "metadata": {
    "ExecuteTime": {
     "end_time": "2021-01-09T19:45:20.858420Z",
     "start_time": "2021-01-09T19:45:20.845420Z"
    },
    "hidden": true
   },
   "outputs": [],
   "source": [
    "df04 = df03.copy()"
   ]
  },
  {
   "cell_type": "markdown",
   "metadata": {
    "heading_collapsed": true,
    "hidden": true
   },
   "source": [
    "## 4.1 SMOTE + TOMEKLINK"
   ]
  },
  {
   "cell_type": "code",
   "execution_count": 74,
   "metadata": {
    "ExecuteTime": {
     "end_time": "2021-01-09T22:20:05.055053Z",
     "start_time": "2021-01-09T22:20:04.508590Z"
    },
    "hidden": true
   },
   "outputs": [],
   "source": [
    "from sklearn.preprocessing   import OneHotEncoder\n",
    "from imblearn                import combine        as c"
   ]
  },
  {
   "cell_type": "code",
   "execution_count": 75,
   "metadata": {
    "ExecuteTime": {
     "end_time": "2021-01-09T22:22:03.130179Z",
     "start_time": "2021-01-09T22:20:06.695632Z"
    },
    "hidden": true
   },
   "outputs": [],
   "source": [
    "# Encoder Categorical Variables\n",
    "ohe = OneHotEncoder()\n",
    "\n",
    "# Numerical\n",
    "col_num = df04.select_dtypes(include=['int64', 'float64']).drop('response', axis=1).columns.tolist()\n",
    "\n",
    "# Categorical\n",
    "col_cat = df04.select_dtypes(exclude=['int64', 'float64']).columns.tolist()\n",
    "\n",
    "# Encoding\n",
    "df04_dummy = pd.DataFrame(ohe.fit_transform(df04[col_cat]).toarray(), index=df04.index)\n",
    "\n",
    "# join Numerical and Categorical\n",
    "df04_1 = pd.concat([df04[col_num], df04_dummy], axis=1)"
   ]
  },
  {
   "cell_type": "code",
   "execution_count": 76,
   "metadata": {
    "ExecuteTime": {
     "end_time": "2021-01-09T22:22:11.467991Z",
     "start_time": "2021-01-09T22:22:11.453997Z"
    },
    "hidden": true
   },
   "outputs": [],
   "source": [
    "ratio_balanced = {\n",
    "                    0: 267519,\n",
    "                    1:7*37368\n",
    "                }\n",
    "\n",
    "#ratio_balanced"
   ]
  },
  {
   "cell_type": "code",
   "execution_count": 77,
   "metadata": {
    "ExecuteTime": {
     "end_time": "2021-01-09T22:23:07.600926Z",
     "start_time": "2021-01-09T22:22:34.451456Z"
    },
    "hidden": true
   },
   "outputs": [],
   "source": [
    "# define sampler\n",
    "smt = c.SMOTETomek(sampling_strategy=ratio_balanced, random_state=32, n_jobs=-1)\n",
    "\n",
    "# apply sampler\n",
    "X_smt, y_smt = smt.fit_resample(df04_1, df04['response'])"
   ]
  },
  {
   "cell_type": "code",
   "execution_count": 78,
   "metadata": {
    "ExecuteTime": {
     "end_time": "2021-01-09T22:24:00.962785Z",
     "start_time": "2021-01-09T22:24:00.808780Z"
    },
    "hidden": true
   },
   "outputs": [],
   "source": [
    "# numerical data\n",
    "df04_2 = X_smt[col_num]\n",
    "\n",
    "# categorical data\n",
    "df04_3 = X_smt.drop(col_num, axis=1)\n",
    "df04_4 = pd.DataFrame(ohe.inverse_transform(df04_3), columns=col_cat, index=df04_3.index)\n",
    "\n",
    "# join numerical and categorical\n",
    "df04_5 = pd.concat([df04_2, df04_4], axis=1)\n",
    "df04_5['response'] = y_smt"
   ]
  },
  {
   "cell_type": "markdown",
   "metadata": {
    "heading_collapsed": true
   },
   "source": [
    "# 5.0 Exploratory Data Analysis (EDA)"
   ]
  },
  {
   "cell_type": "code",
   "execution_count": 79,
   "metadata": {
    "ExecuteTime": {
     "end_time": "2021-01-09T22:24:14.672234Z",
     "start_time": "2021-01-09T22:24:14.617966Z"
    },
    "hidden": true
   },
   "outputs": [],
   "source": [
    "df05_u = df04.copy()\n",
    "df05 = df04_5.copy() ### Will be changed"
   ]
  },
  {
   "cell_type": "markdown",
   "metadata": {
    "heading_collapsed": true,
    "hidden": true
   },
   "source": [
    "## 5.1 Univariate Analysis - Feature Bahaviour (Balanced Dataset)"
   ]
  },
  {
   "cell_type": "markdown",
   "metadata": {
    "heading_collapsed": true,
    "hidden": true
   },
   "source": [
    "## 5.2 Bivariate Analysis - Hypothesis Validation (Unbalanced dataset)"
   ]
  },
  {
   "cell_type": "markdown",
   "metadata": {
    "hidden": true
   },
   "source": [
    "## 5.3 Multivariable analysis (Balanced Dataset)"
   ]
  },
  {
   "cell_type": "markdown",
   "metadata": {
    "heading_collapsed": true,
    "hidden": true
   },
   "source": [
    "### 5.3.1 Numerical"
   ]
  },
  {
   "cell_type": "markdown",
   "metadata": {
    "ExecuteTime": {
     "end_time": "2021-01-08T21:27:23.064311Z",
     "start_time": "2021-01-08T21:27:23.050311Z"
    },
    "hidden": true
   },
   "source": [
    "### 5.3.2 Categorical"
   ]
  },
  {
   "cell_type": "markdown",
   "metadata": {
    "heading_collapsed": true
   },
   "source": [
    "# 6.0 Data Filtering (Attributes with High Correlation)"
   ]
  },
  {
   "cell_type": "code",
   "execution_count": 80,
   "metadata": {
    "ExecuteTime": {
     "end_time": "2021-01-09T22:24:16.748813Z",
     "start_time": "2021-01-09T22:24:16.721810Z"
    },
    "hidden": true
   },
   "outputs": [],
   "source": [
    "# cols_drop = ['']\n",
    "# df06 = df05.drop(cols_drop, axis=1)\n",
    "\n",
    "df06 = df05.copy() ### will be changed"
   ]
  },
  {
   "cell_type": "markdown",
   "metadata": {
    "heading_collapsed": true
   },
   "source": [
    "# 7.0 Data Preparation"
   ]
  },
  {
   "cell_type": "code",
   "execution_count": 81,
   "metadata": {
    "ExecuteTime": {
     "end_time": "2021-01-09T22:24:17.104743Z",
     "start_time": "2021-01-09T22:24:17.008740Z"
    },
    "hidden": true
   },
   "outputs": [],
   "source": [
    "# Numerical\n",
    "num_attributes = df06.select_dtypes(include=['int64', 'float64'])\n",
    "# Categorical\n",
    "cat_attributes = df06.select_dtypes(exclude=['int64', 'float64'])"
   ]
  },
  {
   "cell_type": "markdown",
   "metadata": {
    "hidden": true
   },
   "source": [
    "## 7.1 Rescaling"
   ]
  },
  {
   "cell_type": "markdown",
   "metadata": {
    "heading_collapsed": true,
    "hidden": true
   },
   "source": [
    "## 7.2 Encoding"
   ]
  },
  {
   "cell_type": "code",
   "execution_count": 82,
   "metadata": {
    "ExecuteTime": {
     "end_time": "2021-01-09T22:24:17.604064Z",
     "start_time": "2021-01-09T22:24:17.403043Z"
    },
    "hidden": true
   },
   "outputs": [],
   "source": [
    "# Dummy variable\n",
    "df07_dummy = pd.get_dummies(cat_attributes)\n",
    "\n",
    "# Join id and country_destination\n",
    "df07 = pd.concat([num_attributes, df07_dummy], axis=1)"
   ]
  },
  {
   "cell_type": "markdown",
   "metadata": {
    "hidden": true
   },
   "source": [
    "## 7.3 Transformation"
   ]
  },
  {
   "cell_type": "markdown",
   "metadata": {
    "heading_collapsed": true
   },
   "source": [
    "# 8.0 Feature Selection"
   ]
  },
  {
   "cell_type": "code",
   "execution_count": 83,
   "metadata": {
    "ExecuteTime": {
     "end_time": "2021-01-09T22:24:17.821104Z",
     "start_time": "2021-01-09T22:24:17.790106Z"
    },
    "hidden": true
   },
   "outputs": [],
   "source": [
    "df08 = df07.copy()"
   ]
  },
  {
   "cell_type": "markdown",
   "metadata": {
    "heading_collapsed": true,
    "hidden": true
   },
   "source": [
    "## 8.? Split into Train and Validation"
   ]
  },
  {
   "cell_type": "code",
   "execution_count": 84,
   "metadata": {
    "ExecuteTime": {
     "end_time": "2021-01-09T22:24:18.254109Z",
     "start_time": "2021-01-09T22:24:18.062106Z"
    },
    "hidden": true
   },
   "outputs": [],
   "source": [
    "X = df08.drop('response', axis=1)\n",
    "y = df08['response'].copy()\n",
    "\n",
    "X_train, X_test, y_train, y_test = train_test_split(X, y, test_size=0.2, random_state=32)"
   ]
  },
  {
   "cell_type": "markdown",
   "metadata": {
    "ExecuteTime": {
     "end_time": "2021-01-08T21:30:24.103727Z",
     "start_time": "2021-01-08T21:30:24.090727Z"
    }
   },
   "source": [
    "# 9.0 Machine Learning Model"
   ]
  },
  {
   "cell_type": "markdown",
   "metadata": {
    "heading_collapsed": true
   },
   "source": [
    "## 9.1 Baseline model"
   ]
  },
  {
   "cell_type": "markdown",
   "metadata": {
    "heading_collapsed": true,
    "hidden": true
   },
   "source": [
    "### 9.1.1 Random Choices"
   ]
  },
  {
   "cell_type": "code",
   "execution_count": 85,
   "metadata": {
    "ExecuteTime": {
     "end_time": "2021-01-09T22:24:18.688706Z",
     "start_time": "2021-01-09T22:24:18.625709Z"
    },
    "hidden": true
   },
   "outputs": [],
   "source": [
    "response_list = y_train.drop_duplicates().sort_values().tolist()\n",
    "response_weights = y_train.value_counts(normalize=True).sort_index().tolist()\n",
    "k_num = y_test.shape[0]\n",
    "\n",
    "# Random Model\n",
    "\n",
    "yhat_random = random.choices(population=response_list,\n",
    "                             weights=response_weights,\n",
    "                             k=k_num)"
   ]
  },
  {
   "cell_type": "markdown",
   "metadata": {
    "heading_collapsed": true,
    "hidden": true
   },
   "source": [
    "### 9.1.2 Random Choices Performance"
   ]
  },
  {
   "cell_type": "code",
   "execution_count": 86,
   "metadata": {
    "ExecuteTime": {
     "end_time": "2021-01-09T22:24:21.424697Z",
     "start_time": "2021-01-09T22:24:20.530696Z"
    },
    "hidden": true
   },
   "outputs": [
    {
     "name": "stdout",
     "output_type": "stream",
     "text": [
      "Accuracy: 0.5001841192317383\n",
      "Balanced Accuracy: 0.5000921087785253\n",
      "Kappa Score: 0.0001842175570506699\n",
      "              precision    recall  f1-score   support\n",
      "\n",
      "           0       0.51      0.51      0.51     52297\n",
      "           1       0.49      0.49      0.49     50897\n",
      "\n",
      "    accuracy                           0.50    103194\n",
      "   macro avg       0.50      0.50      0.50    103194\n",
      "weighted avg       0.50      0.50      0.50    103194\n",
      "\n"
     ]
    },
    {
     "data": {
      "image/png": "[encoded data removed]",
      "text/plain": [
       "<Figure size 864x864 with 2 Axes>"
      ]
     },
     "metadata": {},
     "output_type": "display_data"
    }
   ],
   "source": [
    "# Accuracy\n",
    "acc_random = accuracy_score(y_test, yhat_random)\n",
    "print('Accuracy: {}'.format(acc_random))\n",
    "\n",
    "# Balanced Accuracy\n",
    "balanced_acc_random = balanced_accuracy_score(y_test, yhat_random)\n",
    "print('Balanced Accuracy: {}'.format(balanced_acc_random))\n",
    "\n",
    "# Kappa Score\n",
    "kappa_random = cohen_kappa_score(y_test, yhat_random)\n",
    "print('Kappa Score: {}'.format(kappa_random))\n",
    "\n",
    "# Classification Report\n",
    "print(classification_report(y_test, yhat_random))\n",
    "\n",
    "# Confusion matrix\n",
    "plot_confusion_matrix(y_test, yhat_random, normalize=False, figsize=(12, 12));"
   ]
  },
  {
   "cell_type": "markdown",
   "metadata": {},
   "source": [
    "## 9.2 Machine Learning Model"
   ]
  },
  {
   "cell_type": "markdown",
   "metadata": {},
   "source": [
    "### 9.2.1 Random Forest"
   ]
  },
  {
   "cell_type": "code",
   "execution_count": 87,
   "metadata": {
    "ExecuteTime": {
     "end_time": "2021-01-09T22:25:44.829266Z",
     "start_time": "2021-01-09T22:24:21.550433Z"
    }
   },
   "outputs": [],
   "source": [
    "# Model\n",
    "rf = RandomForestClassifier(n_estimators=500, n_jobs=-1, random_state=42)\n",
    "rf.fit(X_train, y_train)\n",
    "\n",
    "yhat_rf = rf.predict(X_test)"
   ]
  },
  {
   "cell_type": "markdown",
   "metadata": {},
   "source": [
    "### 9.2.2 Random Forest Performance"
   ]
  },
  {
   "cell_type": "code",
   "execution_count": 88,
   "metadata": {
    "ExecuteTime": {
     "end_time": "2021-01-09T22:25:45.594264Z",
     "start_time": "2021-01-09T22:25:44.835266Z"
    },
    "scrolled": true
   },
   "outputs": [
    {
     "name": "stdout",
     "output_type": "stream",
     "text": [
      "Accuracy: 0.8907397716921527\n",
      "Balanced Accuracy: 0.8912407606179854\n",
      "Kappa Score: 0.7816668641239204\n",
      "              precision    recall  f1-score   support\n",
      "\n",
      "           0       0.92      0.85      0.89     52297\n",
      "           1       0.86      0.93      0.89     50897\n",
      "\n",
      "    accuracy                           0.89    103194\n",
      "   macro avg       0.89      0.89      0.89    103194\n",
      "weighted avg       0.89      0.89      0.89    103194\n",
      "\n"
     ]
    },
    {
     "data": {
      "image/png": "[encoded data removed]",
      "text/plain": [
       "<Figure size 864x864 with 2 Axes>"
      ]
     },
     "metadata": {},
     "output_type": "display_data"
    }
   ],
   "source": [
    "# Accuracy\n",
    "acc_rf = accuracy_score(y_test, yhat_rf)\n",
    "print('Accuracy: {}'.format(acc_rf))\n",
    "\n",
    "# Balanced Accuracy\n",
    "balanced_acc_rf = balanced_accuracy_score(y_test, yhat_rf)\n",
    "print('Balanced Accuracy: {}'.format(balanced_acc_rf))\n",
    "\n",
    "# Kappa Score\n",
    "kappa_rf = cohen_kappa_score(y_test, yhat_rf)\n",
    "print('Kappa Score: {}'.format(kappa_rf))\n",
    "\n",
    "# Classification Report\n",
    "print(classification_report(y_test, yhat_rf))\n",
    "\n",
    "# Confusion matrix\n",
    "plot_confusion_matrix(y_test, yhat_rf, normalize=False, figsize=(12, 12));"
   ]
  },
  {
   "cell_type": "markdown",
   "metadata": {},
   "source": [
    "### 9.2.3 Random Forest Performance - Cross Validation"
   ]
  },
  {
   "cell_type": "code",
   "execution_count": 89,
   "metadata": {
    "ExecuteTime": {
     "end_time": "2021-01-09T22:30:47.743547Z",
     "start_time": "2021-01-09T22:25:45.597263Z"
    }
   },
   "outputs": [
    {
     "name": "stdout",
     "output_type": "stream",
     "text": [
      "Fold Number: 1/5\n",
      "Fold Number: 2/5\n",
      "Fold Number: 3/5\n",
      "Fold Number: 4/5\n",
      "Fold Number: 5/5\n"
     ]
    },
    {
     "data": {
      "text/html": [
       "<div>\n",
       "<style scoped>\n",
       "    .dataframe tbody tr th:only-of-type {\n",
       "        vertical-align: middle;\n",
       "    }\n",
       "\n",
       "    .dataframe tbody tr th {\n",
       "        vertical-align: top;\n",
       "    }\n",
       "\n",
       "    .dataframe thead th {\n",
       "        text-align: right;\n",
       "    }\n",
       "</style>\n",
       "<table border=\"1\" class=\"dataframe\">\n",
       "  <thead>\n",
       "    <tr style=\"text-align: right;\">\n",
       "      <th></th>\n",
       "      <th>Model Name</th>\n",
       "      <th>Precision CV</th>\n",
       "      <th>Recall CV</th>\n",
       "      <th>F1 Score CV</th>\n",
       "      <th>Kappa CV</th>\n",
       "      <th>Balanced Accuracy</th>\n",
       "      <th>Average Precision Score CV</th>\n",
       "      <th>ROC AUC CV</th>\n",
       "    </tr>\n",
       "  </thead>\n",
       "  <tbody>\n",
       "    <tr>\n",
       "      <th>0</th>\n",
       "      <td>Random Forest</td>\n",
       "      <td>0.8527 +/- 0.0015</td>\n",
       "      <td>0.9253 +/- 0.0014</td>\n",
       "      <td>0.8875 +/- 0.0013</td>\n",
       "      <td>0.7682 +/- 0.0027</td>\n",
       "      <td>0.8845 +/- 0.0013</td>\n",
       "      <td>0.9606 +/- 0.001</td>\n",
       "      <td>0.9625 +/- 0.0008</td>\n",
       "    </tr>\n",
       "  </tbody>\n",
       "</table>\n",
       "</div>"
      ],
      "text/plain": [
       "      Model Name       Precision CV          Recall CV        F1 Score CV           Kappa CV  Balanced Accuracy Average Precision Score CV         ROC AUC CV\n",
       "0  Random Forest  0.8527 +/- 0.0015  0.9253 +/- 0.0014  0.8875 +/- 0.0013  0.7682 +/- 0.0027  0.8845 +/- 0.0013           0.9606 +/- 0.001  0.9625 +/- 0.0008"
      ]
     },
     "execution_count": 89,
     "metadata": {},
     "output_type": "execute_result"
    }
   ],
   "source": [
    "model = RandomForestClassifier(n_estimators=500, n_jobs=-1, random_state=42)\n",
    "cross_validation(X_train, y_train, 'Random Forest', model, num_folds=5, verbose=True)"
   ]
  },
  {
   "cell_type": "code",
   "execution_count": null,
   "metadata": {},
   "outputs": [],
   "source": []
  }
 ],
 "metadata": {
  "kernelspec": {
   "display_name": "Python 3",
   "language": "python",
   "name": "python3"
  },
  "language_info": {
   "codemirror_mode": {
    "name": "ipython",
    "version": 3
   },
   "file_extension": ".py",
   "mimetype": "text/x-python",
   "name": "python",
   "nbconvert_exporter": "python",
   "pygments_lexer": "ipython3",
   "version": "3.8.3"
  },
  "nbTranslate": {
   "displayLangs": [
    "*"
   ],
   "hotkey": "alt-t",
   "langInMainMenu": true,
   "sourceLang": "en",
   "targetLang": "fr",
   "useGoogleTranslate": true
  },
  "toc": {
   "base_numbering": 1,
   "nav_menu": {},
   "number_sections": true,
   "sideBar": true,
   "skip_h1_title": false,
   "title_cell": "Table of Contents",
   "title_sidebar": "Contents",
   "toc_cell": false,
   "toc_position": {},
   "toc_section_display": true,
   "toc_window_display": false
  }
 },
 "nbformat": 4,
 "nbformat_minor": 4
}
