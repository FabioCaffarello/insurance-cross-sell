{
 "cells": [
  {
   "cell_type": "markdown",
   "metadata": {},
   "source": [
    "# 0.0 IMPORTS"
   ]
  },
  {
   "cell_type": "markdown",
   "metadata": {},
   "source": [
    "## 0.1 Libraries"
   ]
  },
  {
   "cell_type": "code",
   "execution_count": 26,
   "metadata": {
    "ExecuteTime": {
     "end_time": "2021-01-23T22:13:19.097749Z",
     "start_time": "2021-01-23T22:13:19.091751Z"
    }
   },
   "outputs": [],
   "source": [
    "import zipfile\n",
    "\n",
    "import joblib as jb\n",
    "import pandas as pd\n",
    "\n",
    "from kaggle.api.kaggle_api_extended import KaggleApi\n",
    "\n",
    "import sys\n",
    "sys.path.append('../')\n",
    "from webapp.pipeline.Pipeline import insuranse_cross_sell"
   ]
  },
  {
   "cell_type": "markdown",
   "metadata": {},
   "source": [
    "## 0.2 Getting test dataset from Kaggle"
   ]
  },
  {
   "cell_type": "code",
   "execution_count": 2,
   "metadata": {
    "ExecuteTime": {
     "end_time": "2021-01-23T22:06:28.345615Z",
     "start_time": "2021-01-23T22:06:28.328611Z"
    }
   },
   "outputs": [],
   "source": [
    "api = KaggleApi()\n",
    "api.authenticate()"
   ]
  },
  {
   "cell_type": "code",
   "execution_count": 3,
   "metadata": {
    "ExecuteTime": {
     "end_time": "2021-01-23T22:06:30.820642Z",
     "start_time": "2021-01-23T22:06:28.881068Z"
    }
   },
   "outputs": [
    {
     "data": {
      "text/plain": [
       "True"
      ]
     },
     "execution_count": 3,
     "metadata": {},
     "output_type": "execute_result"
    }
   ],
   "source": [
    "api.dataset_download_file(dataset='anmolkumar/health-insurance-cross-sell-prediction',\n",
    "                         file_name='test.csv', path='../zip')"
   ]
  },
  {
   "cell_type": "code",
   "execution_count": 4,
   "metadata": {
    "ExecuteTime": {
     "end_time": "2021-01-23T22:06:30.989955Z",
     "start_time": "2021-01-23T22:06:30.822643Z"
    }
   },
   "outputs": [],
   "source": [
    "with zipfile.ZipFile('../zip/test.csv.zip','r') as zipref:\n",
    "    zipref.extractall(path='../00-Data')"
   ]
  },
  {
   "cell_type": "markdown",
   "metadata": {},
   "source": [
    "## 0.3 Load Dataset"
   ]
  },
  {
   "cell_type": "code",
   "execution_count": 27,
   "metadata": {
    "ExecuteTime": {
     "end_time": "2021-01-23T22:13:23.008127Z",
     "start_time": "2021-01-23T22:13:22.907121Z"
    }
   },
   "outputs": [],
   "source": [
    "df_teste = pd.read_csv('../00-Data/test.csv')"
   ]
  },
  {
   "cell_type": "markdown",
   "metadata": {},
   "source": [
    "## 0.4 Load Model"
   ]
  },
  {
   "cell_type": "code",
   "execution_count": 28,
   "metadata": {
    "ExecuteTime": {
     "end_time": "2021-01-23T22:13:24.032661Z",
     "start_time": "2021-01-23T22:13:23.994513Z"
    }
   },
   "outputs": [],
   "source": [
    "home_path          = 'D:/01-DataScience/04-Projetos/00-Git/insurance-cross-sell/'\n",
    "model = jb.load(open(home_path + '04-Model/model_xgb.pkl', 'rb'))"
   ]
  },
  {
   "cell_type": "markdown",
   "metadata": {},
   "source": [
    "## 1.0 Class Test"
   ]
  },
  {
   "cell_type": "code",
   "execution_count": 29,
   "metadata": {
    "ExecuteTime": {
     "end_time": "2021-01-23T22:13:25.120691Z",
     "start_time": "2021-01-23T22:13:25.107692Z"
    }
   },
   "outputs": [],
   "source": [
    "pipeline = insuranse_cross_sell()"
   ]
  },
  {
   "cell_type": "code",
   "execution_count": 30,
   "metadata": {
    "ExecuteTime": {
     "end_time": "2021-01-23T22:13:29.572396Z",
     "start_time": "2021-01-23T22:13:25.804926Z"
    }
   },
   "outputs": [],
   "source": [
    "df01 = pipeline.data_cleaning(df_teste)\n",
    "df02 = pipeline.feature_engineering(df01)\n",
    "df03 = pipeline.data_preparation(df02)\n",
    "df04 = pipeline.get_prediction(model, df03, df_teste)"
   ]
  },
  {
   "cell_type": "code",
   "execution_count": 33,
   "metadata": {
    "ExecuteTime": {
     "end_time": "2021-01-23T22:13:47.245492Z",
     "start_time": "2021-01-23T22:13:47.227492Z"
    }
   },
   "outputs": [
    {
     "data": {
      "text/plain": [
       "'[{\"id\":439630,\"gender\":\"Female\",\"age\":34,\"driving_license\":1,\"region_code\":10.0,\"previously_insured\":0,\"vehicle_age\":1,\"vehicle_damage\":1,\"annual_premium\":27596.0,\"policy_sales_channel\":150.0,\"vintage\":270,\"age_stage\":\"Adult\",\"vehicle_damage_license\":4,\"vehicle_damage_vehicle_age\":-4,\"prediction\":1,\"prediction_probality\":0.7159475088}'"
      ]
     },
     "execution_count": 33,
     "metadata": {},
     "output_type": "execute_result"
    }
   ],
   "source": [
    "df04[:336]"
   ]
  }
 ],
 "metadata": {
  "kernelspec": {
   "display_name": "Python 3",
   "language": "python",
   "name": "python3"
  },
  "language_info": {
   "codemirror_mode": {
    "name": "ipython",
    "version": 3
   },
   "file_extension": ".py",
   "mimetype": "text/x-python",
   "name": "python",
   "nbconvert_exporter": "python",
   "pygments_lexer": "ipython3",
   "version": "3.8.5"
  },
  "toc": {
   "base_numbering": 1,
   "nav_menu": {},
   "number_sections": true,
   "sideBar": true,
   "skip_h1_title": false,
   "title_cell": "Table of Contents",
   "title_sidebar": "Contents",
   "toc_cell": false,
   "toc_position": {},
   "toc_section_display": true,
   "toc_window_display": false
  }
 },
 "nbformat": 4,
 "nbformat_minor": 4
}
