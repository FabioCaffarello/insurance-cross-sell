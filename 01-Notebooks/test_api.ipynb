{
 "cells": [
  {
   "cell_type": "markdown",
   "metadata": {},
   "source": [
    "# 0.0 IMPRTS"
   ]
  },
  {
   "cell_type": "markdown",
   "metadata": {},
   "source": [
    "## 0.1 Librariesm"
   ]
  },
  {
   "cell_type": "code",
   "execution_count": 1,
   "metadata": {
    "ExecuteTime": {
     "end_time": "2021-01-23T22:00:53.361874Z",
     "start_time": "2021-01-23T22:00:52.941866Z"
    }
   },
   "outputs": [],
   "source": [
    "import json\n",
    "import requests\n",
    "\n",
    "import pandas as pd"
   ]
  },
  {
   "cell_type": "markdown",
   "metadata": {},
   "source": [
    "## 0.2 Load Dataset"
   ]
  },
  {
   "cell_type": "code",
   "execution_count": 2,
   "metadata": {
    "ExecuteTime": {
     "end_time": "2021-01-23T22:00:53.485873Z",
     "start_time": "2021-01-23T22:00:53.362867Z"
    }
   },
   "outputs": [],
   "source": [
    "df_teste = pd.read_csv('../00-Data/test.csv')"
   ]
  },
  {
   "cell_type": "markdown",
   "metadata": {},
   "source": [
    "## 0.3 Dataset convert to JSON"
   ]
  },
  {
   "cell_type": "code",
   "execution_count": 3,
   "metadata": {
    "ExecuteTime": {
     "end_time": "2021-01-23T22:00:55.340674Z",
     "start_time": "2021-01-23T22:00:53.717053Z"
    }
   },
   "outputs": [],
   "source": [
    "# Convert DataFrame to JSON\n",
    "data = json.dumps(df_teste.to_dict(orient='records'))"
   ]
  },
  {
   "cell_type": "markdown",
   "metadata": {},
   "source": [
    "# 1.0 Localhost"
   ]
  },
  {
   "cell_type": "code",
   "execution_count": 4,
   "metadata": {
    "ExecuteTime": {
     "end_time": "2021-01-23T22:01:02.223508Z",
     "start_time": "2021-01-23T22:00:55.346673Z"
    }
   },
   "outputs": [
    {
     "name": "stdout",
     "output_type": "stream",
     "text": [
      "Status Code 200\n"
     ]
    }
   ],
   "source": [
    "## API Call\n",
    "url = 'http://localhost:5000/predict'\n",
    "header = {'Content-Type': 'application/json'}\n",
    "data = data\n",
    "\n",
    "r = requests.post(url, data=data, headers=header)\n",
    "print('Status Code {}'.format(r.status_code))"
   ]
  },
  {
   "cell_type": "code",
   "execution_count": 5,
   "metadata": {
    "ExecuteTime": {
     "end_time": "2021-01-23T22:01:03.743506Z",
     "start_time": "2021-01-23T22:01:02.225512Z"
    }
   },
   "outputs": [],
   "source": [
    "df_response = pd.DataFrame(r.json(), columns=r.json()[0].keys())"
   ]
  },
  {
   "cell_type": "code",
   "execution_count": 6,
   "metadata": {
    "ExecuteTime": {
     "end_time": "2021-01-23T22:01:03.774513Z",
     "start_time": "2021-01-23T22:01:03.744507Z"
    }
   },
   "outputs": [
    {
     "data": {
      "text/html": [
       "<div>\n",
       "<style scoped>\n",
       "    .dataframe tbody tr th:only-of-type {\n",
       "        vertical-align: middle;\n",
       "    }\n",
       "\n",
       "    .dataframe tbody tr th {\n",
       "        vertical-align: top;\n",
       "    }\n",
       "\n",
       "    .dataframe thead th {\n",
       "        text-align: right;\n",
       "    }\n",
       "</style>\n",
       "<table border=\"1\" class=\"dataframe\">\n",
       "  <thead>\n",
       "    <tr style=\"text-align: right;\">\n",
       "      <th></th>\n",
       "      <th>id</th>\n",
       "      <th>gender</th>\n",
       "      <th>age</th>\n",
       "      <th>driving_license</th>\n",
       "      <th>region_code</th>\n",
       "      <th>previously_insured</th>\n",
       "      <th>vehicle_age</th>\n",
       "      <th>vehicle_damage</th>\n",
       "      <th>annual_premium</th>\n",
       "      <th>policy_sales_channel</th>\n",
       "      <th>vintage</th>\n",
       "      <th>age_stage</th>\n",
       "      <th>vehicle_damage_license</th>\n",
       "      <th>vehicle_damage_vehicle_age</th>\n",
       "      <th>prediction</th>\n",
       "      <th>prediction_probality</th>\n",
       "    </tr>\n",
       "  </thead>\n",
       "  <tbody>\n",
       "    <tr>\n",
       "      <th>0</th>\n",
       "      <td>439630</td>\n",
       "      <td>Female</td>\n",
       "      <td>34</td>\n",
       "      <td>1</td>\n",
       "      <td>10.0</td>\n",
       "      <td>0</td>\n",
       "      <td>1</td>\n",
       "      <td>1</td>\n",
       "      <td>27596.0</td>\n",
       "      <td>150.0</td>\n",
       "      <td>270</td>\n",
       "      <td>Adult</td>\n",
       "      <td>4</td>\n",
       "      <td>-4</td>\n",
       "      <td>1</td>\n",
       "      <td>0.715948</td>\n",
       "    </tr>\n",
       "    <tr>\n",
       "      <th>1</th>\n",
       "      <td>431610</td>\n",
       "      <td>Male</td>\n",
       "      <td>41</td>\n",
       "      <td>1</td>\n",
       "      <td>29.0</td>\n",
       "      <td>0</td>\n",
       "      <td>1</td>\n",
       "      <td>1</td>\n",
       "      <td>42464.0</td>\n",
       "      <td>135.0</td>\n",
       "      <td>58</td>\n",
       "      <td>Adult</td>\n",
       "      <td>4</td>\n",
       "      <td>-4</td>\n",
       "      <td>1</td>\n",
       "      <td>0.715948</td>\n",
       "    </tr>\n",
       "    <tr>\n",
       "      <th>2</th>\n",
       "      <td>470717</td>\n",
       "      <td>Female</td>\n",
       "      <td>41</td>\n",
       "      <td>1</td>\n",
       "      <td>11.0</td>\n",
       "      <td>0</td>\n",
       "      <td>1</td>\n",
       "      <td>1</td>\n",
       "      <td>37841.0</td>\n",
       "      <td>131.0</td>\n",
       "      <td>145</td>\n",
       "      <td>Adult</td>\n",
       "      <td>4</td>\n",
       "      <td>-4</td>\n",
       "      <td>1</td>\n",
       "      <td>0.715948</td>\n",
       "    </tr>\n",
       "    <tr>\n",
       "      <th>3</th>\n",
       "      <td>443424</td>\n",
       "      <td>Female</td>\n",
       "      <td>44</td>\n",
       "      <td>1</td>\n",
       "      <td>24.0</td>\n",
       "      <td>0</td>\n",
       "      <td>1</td>\n",
       "      <td>1</td>\n",
       "      <td>31140.0</td>\n",
       "      <td>145.0</td>\n",
       "      <td>146</td>\n",
       "      <td>Adult</td>\n",
       "      <td>4</td>\n",
       "      <td>-4</td>\n",
       "      <td>1</td>\n",
       "      <td>0.715948</td>\n",
       "    </tr>\n",
       "    <tr>\n",
       "      <th>4</th>\n",
       "      <td>400385</td>\n",
       "      <td>Male</td>\n",
       "      <td>42</td>\n",
       "      <td>1</td>\n",
       "      <td>29.0</td>\n",
       "      <td>0</td>\n",
       "      <td>1</td>\n",
       "      <td>1</td>\n",
       "      <td>29553.0</td>\n",
       "      <td>139.0</td>\n",
       "      <td>186</td>\n",
       "      <td>Adult</td>\n",
       "      <td>4</td>\n",
       "      <td>-4</td>\n",
       "      <td>1</td>\n",
       "      <td>0.715948</td>\n",
       "    </tr>\n",
       "  </tbody>\n",
       "</table>\n",
       "</div>"
      ],
      "text/plain": [
       "       id  gender  age  driving_license  region_code  previously_insured  \\\n",
       "0  439630  Female   34                1         10.0                   0   \n",
       "1  431610    Male   41                1         29.0                   0   \n",
       "2  470717  Female   41                1         11.0                   0   \n",
       "3  443424  Female   44                1         24.0                   0   \n",
       "4  400385    Male   42                1         29.0                   0   \n",
       "\n",
       "   vehicle_age  vehicle_damage  annual_premium  policy_sales_channel  vintage  \\\n",
       "0            1               1         27596.0                 150.0      270   \n",
       "1            1               1         42464.0                 135.0       58   \n",
       "2            1               1         37841.0                 131.0      145   \n",
       "3            1               1         31140.0                 145.0      146   \n",
       "4            1               1         29553.0                 139.0      186   \n",
       "\n",
       "  age_stage  vehicle_damage_license  vehicle_damage_vehicle_age  prediction  \\\n",
       "0     Adult                       4                          -4           1   \n",
       "1     Adult                       4                          -4           1   \n",
       "2     Adult                       4                          -4           1   \n",
       "3     Adult                       4                          -4           1   \n",
       "4     Adult                       4                          -4           1   \n",
       "\n",
       "   prediction_probality  \n",
       "0              0.715948  \n",
       "1              0.715948  \n",
       "2              0.715948  \n",
       "3              0.715948  \n",
       "4              0.715948  "
      ]
     },
     "execution_count": 6,
     "metadata": {},
     "output_type": "execute_result"
    }
   ],
   "source": [
    "df_response.head()"
   ]
  },
  {
   "cell_type": "markdown",
   "metadata": {},
   "source": [
    "# 2.0 Heroku"
   ]
  },
  {
   "cell_type": "code",
   "execution_count": 9,
   "metadata": {
    "ExecuteTime": {
     "end_time": "2021-01-24T00:24:14.564751Z",
     "start_time": "2021-01-24T00:23:51.962097Z"
    }
   },
   "outputs": [
    {
     "name": "stdout",
     "output_type": "stream",
     "text": [
      "Status Code 200\n"
     ]
    }
   ],
   "source": [
    "## API Call\n",
    "url = ' https://insurance-predict.herokuapp.com/predict'\n",
    "header = {'Content-Type': 'application/json'}\n",
    "data = data\n",
    "\n",
    "r = requests.post(url, data=data, headers=header)\n",
    "print('Status Code {}'.format(r.status_code))"
   ]
  },
  {
   "cell_type": "code",
   "execution_count": 10,
   "metadata": {
    "ExecuteTime": {
     "end_time": "2021-01-24T00:24:21.156377Z",
     "start_time": "2021-01-24T00:24:17.377444Z"
    }
   },
   "outputs": [],
   "source": [
    "df_response = pd.DataFrame(r.json(), columns=r.json()[0].keys())"
   ]
  },
  {
   "cell_type": "code",
   "execution_count": 11,
   "metadata": {
    "ExecuteTime": {
     "end_time": "2021-01-24T00:24:21.916890Z",
     "start_time": "2021-01-24T00:24:21.860472Z"
    }
   },
   "outputs": [
    {
     "data": {
      "text/html": [
       "<div>\n",
       "<style scoped>\n",
       "    .dataframe tbody tr th:only-of-type {\n",
       "        vertical-align: middle;\n",
       "    }\n",
       "\n",
       "    .dataframe tbody tr th {\n",
       "        vertical-align: top;\n",
       "    }\n",
       "\n",
       "    .dataframe thead th {\n",
       "        text-align: right;\n",
       "    }\n",
       "</style>\n",
       "<table border=\"1\" class=\"dataframe\">\n",
       "  <thead>\n",
       "    <tr style=\"text-align: right;\">\n",
       "      <th></th>\n",
       "      <th>id</th>\n",
       "      <th>gender</th>\n",
       "      <th>age</th>\n",
       "      <th>driving_license</th>\n",
       "      <th>region_code</th>\n",
       "      <th>previously_insured</th>\n",
       "      <th>vehicle_age</th>\n",
       "      <th>vehicle_damage</th>\n",
       "      <th>annual_premium</th>\n",
       "      <th>policy_sales_channel</th>\n",
       "      <th>vintage</th>\n",
       "      <th>age_stage</th>\n",
       "      <th>vehicle_damage_license</th>\n",
       "      <th>vehicle_damage_vehicle_age</th>\n",
       "      <th>prediction</th>\n",
       "      <th>prediction_probality</th>\n",
       "    </tr>\n",
       "  </thead>\n",
       "  <tbody>\n",
       "    <tr>\n",
       "      <th>0</th>\n",
       "      <td>439630</td>\n",
       "      <td>Female</td>\n",
       "      <td>34</td>\n",
       "      <td>1</td>\n",
       "      <td>10.0</td>\n",
       "      <td>0</td>\n",
       "      <td>1</td>\n",
       "      <td>1</td>\n",
       "      <td>27596.0</td>\n",
       "      <td>150.0</td>\n",
       "      <td>270</td>\n",
       "      <td>Adult</td>\n",
       "      <td>4</td>\n",
       "      <td>-4</td>\n",
       "      <td>1</td>\n",
       "      <td>0.715948</td>\n",
       "    </tr>\n",
       "    <tr>\n",
       "      <th>1</th>\n",
       "      <td>431610</td>\n",
       "      <td>Male</td>\n",
       "      <td>41</td>\n",
       "      <td>1</td>\n",
       "      <td>29.0</td>\n",
       "      <td>0</td>\n",
       "      <td>1</td>\n",
       "      <td>1</td>\n",
       "      <td>42464.0</td>\n",
       "      <td>135.0</td>\n",
       "      <td>58</td>\n",
       "      <td>Adult</td>\n",
       "      <td>4</td>\n",
       "      <td>-4</td>\n",
       "      <td>1</td>\n",
       "      <td>0.715948</td>\n",
       "    </tr>\n",
       "    <tr>\n",
       "      <th>2</th>\n",
       "      <td>470717</td>\n",
       "      <td>Female</td>\n",
       "      <td>41</td>\n",
       "      <td>1</td>\n",
       "      <td>11.0</td>\n",
       "      <td>0</td>\n",
       "      <td>1</td>\n",
       "      <td>1</td>\n",
       "      <td>37841.0</td>\n",
       "      <td>131.0</td>\n",
       "      <td>145</td>\n",
       "      <td>Adult</td>\n",
       "      <td>4</td>\n",
       "      <td>-4</td>\n",
       "      <td>1</td>\n",
       "      <td>0.715948</td>\n",
       "    </tr>\n",
       "    <tr>\n",
       "      <th>3</th>\n",
       "      <td>443424</td>\n",
       "      <td>Female</td>\n",
       "      <td>44</td>\n",
       "      <td>1</td>\n",
       "      <td>24.0</td>\n",
       "      <td>0</td>\n",
       "      <td>1</td>\n",
       "      <td>1</td>\n",
       "      <td>31140.0</td>\n",
       "      <td>145.0</td>\n",
       "      <td>146</td>\n",
       "      <td>Adult</td>\n",
       "      <td>4</td>\n",
       "      <td>-4</td>\n",
       "      <td>1</td>\n",
       "      <td>0.715948</td>\n",
       "    </tr>\n",
       "    <tr>\n",
       "      <th>4</th>\n",
       "      <td>400385</td>\n",
       "      <td>Male</td>\n",
       "      <td>42</td>\n",
       "      <td>1</td>\n",
       "      <td>29.0</td>\n",
       "      <td>0</td>\n",
       "      <td>1</td>\n",
       "      <td>1</td>\n",
       "      <td>29553.0</td>\n",
       "      <td>139.0</td>\n",
       "      <td>186</td>\n",
       "      <td>Adult</td>\n",
       "      <td>4</td>\n",
       "      <td>-4</td>\n",
       "      <td>1</td>\n",
       "      <td>0.715948</td>\n",
       "    </tr>\n",
       "  </tbody>\n",
       "</table>\n",
       "</div>"
      ],
      "text/plain": [
       "       id  gender  age  driving_license  region_code  previously_insured  \\\n",
       "0  439630  Female   34                1         10.0                   0   \n",
       "1  431610    Male   41                1         29.0                   0   \n",
       "2  470717  Female   41                1         11.0                   0   \n",
       "3  443424  Female   44                1         24.0                   0   \n",
       "4  400385    Male   42                1         29.0                   0   \n",
       "\n",
       "   vehicle_age  vehicle_damage  annual_premium  policy_sales_channel  vintage  \\\n",
       "0            1               1         27596.0                 150.0      270   \n",
       "1            1               1         42464.0                 135.0       58   \n",
       "2            1               1         37841.0                 131.0      145   \n",
       "3            1               1         31140.0                 145.0      146   \n",
       "4            1               1         29553.0                 139.0      186   \n",
       "\n",
       "  age_stage  vehicle_damage_license  vehicle_damage_vehicle_age  prediction  \\\n",
       "0     Adult                       4                          -4           1   \n",
       "1     Adult                       4                          -4           1   \n",
       "2     Adult                       4                          -4           1   \n",
       "3     Adult                       4                          -4           1   \n",
       "4     Adult                       4                          -4           1   \n",
       "\n",
       "   prediction_probality  \n",
       "0              0.715948  \n",
       "1              0.715948  \n",
       "2              0.715948  \n",
       "3              0.715948  \n",
       "4              0.715948  "
      ]
     },
     "execution_count": 11,
     "metadata": {},
     "output_type": "execute_result"
    }
   ],
   "source": [
    "df_response.head()"
   ]
  }
 ],
 "metadata": {
  "kernelspec": {
   "display_name": "Python 3",
   "language": "python",
   "name": "python3"
  },
  "language_info": {
   "codemirror_mode": {
    "name": "ipython",
    "version": 3
   },
   "file_extension": ".py",
   "mimetype": "text/x-python",
   "name": "python",
   "nbconvert_exporter": "python",
   "pygments_lexer": "ipython3",
   "version": "3.8.5"
  },
  "toc": {
   "base_numbering": 1,
   "nav_menu": {},
   "number_sections": true,
   "sideBar": true,
   "skip_h1_title": false,
   "title_cell": "Table of Contents",
   "title_sidebar": "Contents",
   "toc_cell": false,
   "toc_position": {},
   "toc_section_display": true,
   "toc_window_display": false
  }
 },
 "nbformat": 4,
 "nbformat_minor": 4
}
