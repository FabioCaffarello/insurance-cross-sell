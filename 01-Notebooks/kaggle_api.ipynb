{
 "cells": [
  {
   "cell_type": "code",
   "execution_count": 1,
   "metadata": {
    "ExecuteTime": {
     "end_time": "2021-01-23T17:48:07.218234Z",
     "start_time": "2021-01-23T17:48:07.087963Z"
    }
   },
   "outputs": [],
   "source": [
    "import pandas as pd\n",
    "import zipfile\n",
    "from kaggle.api.kaggle_api_extended import KaggleApi"
   ]
  },
  {
   "cell_type": "code",
   "execution_count": 2,
   "metadata": {
    "ExecuteTime": {
     "end_time": "2021-01-23T17:48:07.698221Z",
     "start_time": "2021-01-23T17:48:07.676148Z"
    }
   },
   "outputs": [],
   "source": [
    "api = KaggleApi()\n",
    "api.authenticate()"
   ]
  },
  {
   "cell_type": "code",
   "execution_count": 3,
   "metadata": {
    "ExecuteTime": {
     "end_time": "2021-01-23T17:48:12.311919Z",
     "start_time": "2021-01-23T17:48:08.181517Z"
    }
   },
   "outputs": [
    {
     "data": {
      "text/plain": [
       "True"
      ]
     },
     "execution_count": 3,
     "metadata": {},
     "output_type": "execute_result"
    }
   ],
   "source": [
    "api.dataset_download_file(dataset='anmolkumar/health-insurance-cross-sell-prediction',\n",
    "                         file_name='test.csv', path='../zip')"
   ]
  },
  {
   "cell_type": "code",
   "execution_count": 4,
   "metadata": {
    "ExecuteTime": {
     "end_time": "2021-01-23T17:48:12.468628Z",
     "start_time": "2021-01-23T17:48:12.313919Z"
    }
   },
   "outputs": [],
   "source": [
    "with zipfile.ZipFile('../zip/test.csv.zip','r') as zipref:\n",
    "    zipref.extractall(path='../00-Data')"
   ]
  },
  {
   "cell_type": "code",
   "execution_count": 5,
   "metadata": {
    "ExecuteTime": {
     "end_time": "2021-01-23T17:49:04.682058Z",
     "start_time": "2021-01-23T17:49:04.170009Z"
    }
   },
   "outputs": [],
   "source": [
    "df_teste = pd.read_csv('../00-Data/test.csv')"
   ]
  },
  {
   "cell_type": "code",
   "execution_count": null,
   "metadata": {},
   "outputs": [],
   "source": [
    "import inflection\n",
    "import bisect\n",
    "import pandas as pd"
   ]
  },
  {
   "cell_type": "code",
   "execution_count": 25,
   "metadata": {
    "ExecuteTime": {
     "end_time": "2021-01-23T18:05:27.391326Z",
     "start_time": "2021-01-23T18:05:27.374326Z"
    }
   },
   "outputs": [],
   "source": [
    "class insuranse_cross_sell(object):\n",
    "    def __init__(self):\n",
    "        pass\n",
    "    \n",
    "    def data_cleaning(self, df):\n",
    "        # snakecase\n",
    "        snakecase = lambda col: inflection.underscore(col)\n",
    "        new_columns = list(map(snakecase, df.columns))\n",
    "\n",
    "        # rename\n",
    "        df.columns = new_columns\n",
    "\n",
    "        return df\n",
    "    \n",
    "    def age_stage(self, num, breakpoints=[10, 20, 30, 45, 60, 70, 80, 120], result='01234567'):\n",
    "        i = bisect.bisect(breakpoints, num-1)\n",
    "        age_mapping = {\n",
    "            0: 'Child',\n",
    "            1: 'Teenager',\n",
    "            2: 'Young',\n",
    "            3: 'Adult',\n",
    "            4: 'Midlife',\n",
    "            5: 'Senior',\n",
    "            6: 'Mature Adulthood',\n",
    "            7: 'Late Adulthood'\n",
    "        }\n",
    "        return age_mapping[i]\n",
    "\n",
    "    \n",
    "    def feature_engineering(self, df):\n",
    "        # Age Stage\n",
    "        df['age_stage'] = df['age'].apply(lambda row: insuranse_cross_sell.age_stage(self,row))\n",
    "        \n",
    "        # vehicle age\n",
    "        vehicle_age_mapping = {'< 1 Year':0,\n",
    "                               '1-2 Year':1,\n",
    "                               '> 2 Years':2}\n",
    "\n",
    "        df['vehicle_age'] = df['vehicle_age'].map(vehicle_age_mapping)\n",
    "        \n",
    "        # vehicle demage versus license\n",
    "        vehicle_damage_mapping = {'No':0,\n",
    "                                  'Yes':1}\n",
    "\n",
    "        df['vehicle_damage'] = df['vehicle_damage'].map(vehicle_damage_mapping)\n",
    "        df['vehicle_damage_license'] = df.apply(lambda row: -(row['vehicle_damage'] + row['driving_license'])**2\\\n",
    "                                                 if row['driving_license'] == 0\\\n",
    "                                                 else (row['vehicle_damage'] + row['driving_license'])**2, axis=1)\n",
    "        \n",
    "        # vehicle_damage_vehicle_age\n",
    "        df['vehicle_damage_vehicle_age'] = df.apply(lambda row: -(row['vehicle_damage'] + row['vehicle_age'])**2\\\n",
    "                                                    if row['vehicle_damage'] == 1\\\n",
    "                                                    else (row['vehicle_damage'] + row['vehicle_age'])**2, axis=1)\n",
    "\n",
    "        # age / mean_age_by_region_code\n",
    "        region_code_mean_age = pd.DataFrame(df.groupby('region_code')['age'].mean()).\\\n",
    "                                                    reset_index().rename(columns={'age':'mean_age_by_region_code'})\n",
    "        \n",
    "        df = pd.merge(df, region_code_mean_age, how='left', on='region_code')\n",
    "        df['age_mean_age_by_region_code'] = df['age'] / df['mean_age_by_region_code']\n",
    "        #del region_code_mean_age\n",
    "\n",
    "        # age / mean_age_by_policy_sales_channel\n",
    "        policy_sales_channel_mean_age = pd.DataFrame(df.groupby('policy_sales_channel')['age'].mean()).\\\n",
    "                                                    reset_index().rename(columns={'age':'mean_age_by_policy_sales_channel'})\n",
    "        \n",
    "        df = pd.merge(df, policy_sales_channel_mean_age, how='left', on='policy_sales_channel')\n",
    "        df['age_mean_age_by_policy_sales_channel'] = df['age'] / df['mean_age_by_policy_sales_channel']\n",
    "        #del policy_sales_channel_mean_age\n",
    "\n",
    "        # annual_premium / mean_annual_premium_by_region_code\n",
    "        region_code_mean_annual_premium = pd.DataFrame(df.groupby('region_code')['annual_premium'].mean()).\\\n",
    "                                                    reset_index().rename(columns={'annual_premium':'mean_annual_premium_by_region_code'})\n",
    "        \n",
    "        df = pd.merge(df, region_code_mean_annual_premium, how='left', on='region_code')\n",
    "        df['annual_premium_mean_annual_premium_by_region_code'] = df['annual_premium'] / df['mean_annual_premium_by_region_code']\n",
    "        #del region_code_mean_annual_premium\n",
    "\n",
    "        # annual_premium / mean_annual_premium_by_policy_sales_channel\n",
    "        policy_sales_channel_mean_annual_premium = pd.DataFrame(df.groupby('policy_sales_channel')['annual_premium'].mean()).\\\n",
    "                                                    reset_index().rename(columns={'annual_premium':'mean_annual_premium_by_policy_sales_channel'})\n",
    "        \n",
    "        df = pd.merge(df, policy_sales_channel_mean_annual_premium, how='left', on='policy_sales_channel')\n",
    "        df['annual_premium_mean_annual_premium_by_policy_sales_channel'] = df['annual_premium'] / df['mean_annual_premium_by_policy_sales_channel']\n",
    "        #del policy_sales_channel_mean_annual_premium\n",
    "\n",
    "        # age / vintage\n",
    "        df['age_vintage'] = (df['age']*365) / df['vintage']\n",
    "\n",
    "        \n",
    "        return df"
   ]
  },
  {
   "cell_type": "code",
   "execution_count": 26,
   "metadata": {
    "ExecuteTime": {
     "end_time": "2021-01-23T18:05:27.816363Z",
     "start_time": "2021-01-23T18:05:27.801366Z"
    }
   },
   "outputs": [],
   "source": [
    "pipeline = insuranse_cross_sell()"
   ]
  },
  {
   "cell_type": "code",
   "execution_count": 29,
   "metadata": {
    "ExecuteTime": {
     "end_time": "2021-01-23T18:05:46.431907Z",
     "start_time": "2021-01-23T18:05:43.215266Z"
    }
   },
   "outputs": [],
   "source": [
    "df01 = pipeline.data_cleaning(df_teste)\n",
    "df02 = pipeline.feature_engineering(df01)"
   ]
  },
  {
   "cell_type": "code",
   "execution_count": 30,
   "metadata": {
    "ExecuteTime": {
     "end_time": "2021-01-23T18:05:50.289051Z",
     "start_time": "2021-01-23T18:05:50.255052Z"
    }
   },
   "outputs": [
    {
     "data": {
      "text/html": [
       "<div>\n",
       "<style scoped>\n",
       "    .dataframe tbody tr th:only-of-type {\n",
       "        vertical-align: middle;\n",
       "    }\n",
       "\n",
       "    .dataframe tbody tr th {\n",
       "        vertical-align: top;\n",
       "    }\n",
       "\n",
       "    .dataframe thead th {\n",
       "        text-align: right;\n",
       "    }\n",
       "</style>\n",
       "<table border=\"1\" class=\"dataframe\">\n",
       "  <thead>\n",
       "    <tr style=\"text-align: right;\">\n",
       "      <th></th>\n",
       "      <th>id</th>\n",
       "      <th>gender</th>\n",
       "      <th>age</th>\n",
       "      <th>driving_license</th>\n",
       "      <th>region_code</th>\n",
       "      <th>previously_insured</th>\n",
       "      <th>vehicle_age</th>\n",
       "      <th>vehicle_damage</th>\n",
       "      <th>annual_premium</th>\n",
       "      <th>policy_sales_channel</th>\n",
       "      <th>...</th>\n",
       "      <th>vehicle_damage_vehicle_age</th>\n",
       "      <th>mean_age_by_region_code</th>\n",
       "      <th>age_mean_age_by_region_code</th>\n",
       "      <th>mean_age_by_policy_sales_channel</th>\n",
       "      <th>age_mean_age_by_policy_sales_channel</th>\n",
       "      <th>mean_annual_premium_by_region_code</th>\n",
       "      <th>annual_premium_mean_annual_premium_by_region_code</th>\n",
       "      <th>mean_annual_premium_by_policy_sales_channel</th>\n",
       "      <th>annual_premium_mean_annual_premium_by_policy_sales_channel</th>\n",
       "      <th>age_vintage</th>\n",
       "    </tr>\n",
       "  </thead>\n",
       "  <tbody>\n",
       "    <tr>\n",
       "      <th>0</th>\n",
       "      <td>381110</td>\n",
       "      <td>Male</td>\n",
       "      <td>25</td>\n",
       "      <td>1</td>\n",
       "      <td>11.0</td>\n",
       "      <td>1</td>\n",
       "      <td>0</td>\n",
       "      <td>0</td>\n",
       "      <td>35786.0</td>\n",
       "      <td>152.0</td>\n",
       "      <td>...</td>\n",
       "      <td>0</td>\n",
       "      <td>33.820736</td>\n",
       "      <td>0.739191</td>\n",
       "      <td>26.203022</td>\n",
       "      <td>0.954088</td>\n",
       "      <td>27798.016796</td>\n",
       "      <td>1.287358</td>\n",
       "      <td>30927.284874</td>\n",
       "      <td>1.157101</td>\n",
       "      <td>172.169811</td>\n",
       "    </tr>\n",
       "    <tr>\n",
       "      <th>1</th>\n",
       "      <td>381111</td>\n",
       "      <td>Male</td>\n",
       "      <td>40</td>\n",
       "      <td>1</td>\n",
       "      <td>28.0</td>\n",
       "      <td>0</td>\n",
       "      <td>1</td>\n",
       "      <td>1</td>\n",
       "      <td>33762.0</td>\n",
       "      <td>7.0</td>\n",
       "      <td>...</td>\n",
       "      <td>-4</td>\n",
       "      <td>46.123726</td>\n",
       "      <td>0.867233</td>\n",
       "      <td>55.296959</td>\n",
       "      <td>0.723367</td>\n",
       "      <td>38593.000028</td>\n",
       "      <td>0.874822</td>\n",
       "      <td>37980.703041</td>\n",
       "      <td>0.888925</td>\n",
       "      <td>131.531532</td>\n",
       "    </tr>\n",
       "    <tr>\n",
       "      <th>2</th>\n",
       "      <td>381112</td>\n",
       "      <td>Male</td>\n",
       "      <td>47</td>\n",
       "      <td>1</td>\n",
       "      <td>28.0</td>\n",
       "      <td>0</td>\n",
       "      <td>1</td>\n",
       "      <td>1</td>\n",
       "      <td>40050.0</td>\n",
       "      <td>124.0</td>\n",
       "      <td>...</td>\n",
       "      <td>-4</td>\n",
       "      <td>46.123726</td>\n",
       "      <td>1.018998</td>\n",
       "      <td>46.806081</td>\n",
       "      <td>1.004143</td>\n",
       "      <td>38593.000028</td>\n",
       "      <td>1.037753</td>\n",
       "      <td>31588.901745</td>\n",
       "      <td>1.267850</td>\n",
       "      <td>86.206030</td>\n",
       "    </tr>\n",
       "    <tr>\n",
       "      <th>3</th>\n",
       "      <td>381113</td>\n",
       "      <td>Male</td>\n",
       "      <td>24</td>\n",
       "      <td>1</td>\n",
       "      <td>27.0</td>\n",
       "      <td>1</td>\n",
       "      <td>0</td>\n",
       "      <td>1</td>\n",
       "      <td>37356.0</td>\n",
       "      <td>152.0</td>\n",
       "      <td>...</td>\n",
       "      <td>-1</td>\n",
       "      <td>30.045045</td>\n",
       "      <td>0.798801</td>\n",
       "      <td>26.203022</td>\n",
       "      <td>0.915925</td>\n",
       "      <td>22209.755631</td>\n",
       "      <td>1.681964</td>\n",
       "      <td>30927.284874</td>\n",
       "      <td>1.207865</td>\n",
       "      <td>46.844920</td>\n",
       "    </tr>\n",
       "    <tr>\n",
       "      <th>4</th>\n",
       "      <td>381114</td>\n",
       "      <td>Male</td>\n",
       "      <td>27</td>\n",
       "      <td>1</td>\n",
       "      <td>28.0</td>\n",
       "      <td>1</td>\n",
       "      <td>0</td>\n",
       "      <td>0</td>\n",
       "      <td>59097.0</td>\n",
       "      <td>152.0</td>\n",
       "      <td>...</td>\n",
       "      <td>0</td>\n",
       "      <td>46.123726</td>\n",
       "      <td>0.585382</td>\n",
       "      <td>26.203022</td>\n",
       "      <td>1.030416</td>\n",
       "      <td>38593.000028</td>\n",
       "      <td>1.531288</td>\n",
       "      <td>30927.284874</td>\n",
       "      <td>1.910837</td>\n",
       "      <td>33.181818</td>\n",
       "    </tr>\n",
       "  </tbody>\n",
       "</table>\n",
       "<p>5 rows × 23 columns</p>\n",
       "</div>"
      ],
      "text/plain": [
       "       id gender  age  driving_license  region_code  previously_insured  \\\n",
       "0  381110   Male   25                1         11.0                   1   \n",
       "1  381111   Male   40                1         28.0                   0   \n",
       "2  381112   Male   47                1         28.0                   0   \n",
       "3  381113   Male   24                1         27.0                   1   \n",
       "4  381114   Male   27                1         28.0                   1   \n",
       "\n",
       "   vehicle_age  vehicle_damage  annual_premium  policy_sales_channel  ...  \\\n",
       "0            0               0         35786.0                 152.0  ...   \n",
       "1            1               1         33762.0                   7.0  ...   \n",
       "2            1               1         40050.0                 124.0  ...   \n",
       "3            0               1         37356.0                 152.0  ...   \n",
       "4            0               0         59097.0                 152.0  ...   \n",
       "\n",
       "   vehicle_damage_vehicle_age mean_age_by_region_code  \\\n",
       "0                           0               33.820736   \n",
       "1                          -4               46.123726   \n",
       "2                          -4               46.123726   \n",
       "3                          -1               30.045045   \n",
       "4                           0               46.123726   \n",
       "\n",
       "   age_mean_age_by_region_code  mean_age_by_policy_sales_channel  \\\n",
       "0                     0.739191                         26.203022   \n",
       "1                     0.867233                         55.296959   \n",
       "2                     1.018998                         46.806081   \n",
       "3                     0.798801                         26.203022   \n",
       "4                     0.585382                         26.203022   \n",
       "\n",
       "   age_mean_age_by_policy_sales_channel  mean_annual_premium_by_region_code  \\\n",
       "0                              0.954088                        27798.016796   \n",
       "1                              0.723367                        38593.000028   \n",
       "2                              1.004143                        38593.000028   \n",
       "3                              0.915925                        22209.755631   \n",
       "4                              1.030416                        38593.000028   \n",
       "\n",
       "   annual_premium_mean_annual_premium_by_region_code  \\\n",
       "0                                           1.287358   \n",
       "1                                           0.874822   \n",
       "2                                           1.037753   \n",
       "3                                           1.681964   \n",
       "4                                           1.531288   \n",
       "\n",
       "   mean_annual_premium_by_policy_sales_channel  \\\n",
       "0                                 30927.284874   \n",
       "1                                 37980.703041   \n",
       "2                                 31588.901745   \n",
       "3                                 30927.284874   \n",
       "4                                 30927.284874   \n",
       "\n",
       "   annual_premium_mean_annual_premium_by_policy_sales_channel  age_vintage  \n",
       "0                                           1.157101            172.169811  \n",
       "1                                           0.888925            131.531532  \n",
       "2                                           1.267850             86.206030  \n",
       "3                                           1.207865             46.844920  \n",
       "4                                           1.910837             33.181818  \n",
       "\n",
       "[5 rows x 23 columns]"
      ]
     },
     "execution_count": 30,
     "metadata": {},
     "output_type": "execute_result"
    }
   ],
   "source": [
    "df02.head()"
   ]
  },
  {
   "cell_type": "code",
   "execution_count": 28,
   "metadata": {
    "ExecuteTime": {
     "end_time": "2021-01-23T18:05:40.269970Z",
     "start_time": "2021-01-23T18:05:40.260972Z"
    }
   },
   "outputs": [],
   "source": [
    "import inflection\n",
    "import bisect"
   ]
  },
  {
   "cell_type": "code",
   "execution_count": null,
   "metadata": {},
   "outputs": [],
   "source": []
  }
 ],
 "metadata": {
  "kernelspec": {
   "display_name": "Python 3",
   "language": "python",
   "name": "python3"
  },
  "language_info": {
   "codemirror_mode": {
    "name": "ipython",
    "version": 3
   },
   "file_extension": ".py",
   "mimetype": "text/x-python",
   "name": "python",
   "nbconvert_exporter": "python",
   "pygments_lexer": "ipython3",
   "version": "3.8.5"
  },
  "toc": {
   "base_numbering": 1,
   "nav_menu": {},
   "number_sections": true,
   "sideBar": true,
   "skip_h1_title": false,
   "title_cell": "Table of Contents",
   "title_sidebar": "Contents",
   "toc_cell": false,
   "toc_position": {},
   "toc_section_display": true,
   "toc_window_display": false
  }
 },
 "nbformat": 4,
 "nbformat_minor": 4
}
