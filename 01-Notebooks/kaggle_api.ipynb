{
 "cells": [
  {
   "cell_type": "code",
   "execution_count": 1,
   "metadata": {
    "ExecuteTime": {
     "end_time": "2021-01-23T17:48:07.218234Z",
     "start_time": "2021-01-23T17:48:07.087963Z"
    }
   },
   "outputs": [],
   "source": [
    "import pandas as pd\n",
    "import zipfile\n",
    "from kaggle.api.kaggle_api_extended import KaggleApi"
   ]
  },
  {
   "cell_type": "code",
   "execution_count": 2,
   "metadata": {
    "ExecuteTime": {
     "end_time": "2021-01-23T17:48:07.698221Z",
     "start_time": "2021-01-23T17:48:07.676148Z"
    }
   },
   "outputs": [],
   "source": [
    "api = KaggleApi()\n",
    "api.authenticate()"
   ]
  },
  {
   "cell_type": "code",
   "execution_count": 3,
   "metadata": {
    "ExecuteTime": {
     "end_time": "2021-01-23T17:48:12.311919Z",
     "start_time": "2021-01-23T17:48:08.181517Z"
    }
   },
   "outputs": [
    {
     "data": {
      "text/plain": [
       "True"
      ]
     },
     "execution_count": 3,
     "metadata": {},
     "output_type": "execute_result"
    }
   ],
   "source": [
    "api.dataset_download_file(dataset='anmolkumar/health-insurance-cross-sell-prediction',\n",
    "                         file_name='test.csv', path='../zip')"
   ]
  },
  {
   "cell_type": "code",
   "execution_count": 4,
   "metadata": {
    "ExecuteTime": {
     "end_time": "2021-01-23T17:48:12.468628Z",
     "start_time": "2021-01-23T17:48:12.313919Z"
    }
   },
   "outputs": [],
   "source": [
    "with zipfile.ZipFile('../zip/test.csv.zip','r') as zipref:\n",
    "    zipref.extractall(path='../00-Data')"
   ]
  },
  {
   "cell_type": "code",
   "execution_count": 46,
   "metadata": {
    "ExecuteTime": {
     "end_time": "2021-01-23T21:19:46.238889Z",
     "start_time": "2021-01-23T21:19:46.124372Z"
    }
   },
   "outputs": [],
   "source": [
    "df_teste = pd.read_csv('../00-Data/test.csv')"
   ]
  },
  {
   "cell_type": "code",
   "execution_count": 47,
   "metadata": {
    "ExecuteTime": {
     "end_time": "2021-01-23T21:19:46.629544Z",
     "start_time": "2021-01-23T21:19:46.623547Z"
    }
   },
   "outputs": [],
   "source": [
    "import inflection\n",
    "import bisect\n",
    "import pandas as pd\n",
    "import joblib as jb\n",
    "import inflection\n",
    "import bisect"
   ]
  },
  {
   "cell_type": "code",
   "execution_count": 48,
   "metadata": {
    "ExecuteTime": {
     "end_time": "2021-01-23T21:19:47.129482Z",
     "start_time": "2021-01-23T21:19:47.107483Z"
    }
   },
   "outputs": [],
   "source": [
    "class insuranse_cross_sell(object):\n",
    "    def __init__(self):\n",
    "        self.home_path          = 'D:/01-DataScience/04-Projetos/00-Git/insurance-cross-sell/'\n",
    "        self.age_stage_encoder  = jb.load(open(self.home_path + '03-Parameter/age_stage.pkl.z', 'rb'))\n",
    "    \n",
    "    def data_cleaning(self, df):\n",
    "        # snakecase\n",
    "        snakecase = lambda col: inflection.underscore(col)\n",
    "        new_columns = list(map(snakecase, df.columns))\n",
    "\n",
    "        # rename\n",
    "        df.columns = new_columns\n",
    "\n",
    "        return df\n",
    "    \n",
    "    def age_stage(self, num, breakpoints=[10, 20, 30, 45, 60, 70, 80, 120], result='01234567'):\n",
    "        i = bisect.bisect(breakpoints, num-1)\n",
    "        age_mapping = {\n",
    "            0: 'Child',\n",
    "            1: 'Teenager',\n",
    "            2: 'Young',\n",
    "            3: 'Adult',\n",
    "            4: 'Midlife',\n",
    "            5: 'Senior',\n",
    "            6: 'Mature Adulthood',\n",
    "            7: 'Late Adulthood'\n",
    "        }\n",
    "        return age_mapping[i]\n",
    "\n",
    "    \n",
    "    def feature_engineering(self, df):\n",
    "        # Age Stage\n",
    "        df['age_stage'] = df['age'].apply(lambda row: insuranse_cross_sell.age_stage(self,row))\n",
    "        \n",
    "        # vehicle age\n",
    "        vehicle_age_mapping = {'< 1 Year':0,\n",
    "                               '1-2 Year':1,\n",
    "                               '> 2 Years':2}\n",
    "\n",
    "        df['vehicle_age'] = df['vehicle_age'].map(vehicle_age_mapping)\n",
    "        \n",
    "        # vehicle demage versus license\n",
    "        vehicle_damage_mapping = {'No':0,\n",
    "                                  'Yes':1}\n",
    "\n",
    "        df['vehicle_damage'] = df['vehicle_damage'].map(vehicle_damage_mapping)\n",
    "        df['vehicle_damage_license'] = df.apply(lambda row: -(row['vehicle_damage'] + row['driving_license'])**2\\\n",
    "                                                 if row['driving_license'] == 0\\\n",
    "                                                 else (row['vehicle_damage'] + row['driving_license'])**2, axis=1)\n",
    "        \n",
    "        # vehicle_damage_vehicle_age\n",
    "        df['vehicle_damage_vehicle_age'] = df.apply(lambda row: -(row['vehicle_damage'] + row['vehicle_age'])**2\\\n",
    "                                                    if row['vehicle_damage'] == 1\\\n",
    "                                                    else (row['vehicle_damage'] + row['vehicle_age'])**2, axis=1)\n",
    "\n",
    "        # age / mean_age_by_region_code\n",
    "        region_code_mean_age = pd.DataFrame(df.groupby('region_code')['age'].mean()).\\\n",
    "                                                    reset_index().rename(columns={'age':'mean_age_by_region_code'})\n",
    "        \n",
    "        df = pd.merge(df, region_code_mean_age, how='left', on='region_code')\n",
    "        df['age_mean_age_by_region_code'] = df['age'] / df['mean_age_by_region_code']\n",
    "        #del region_code_mean_age\n",
    "\n",
    "        # age / mean_age_by_policy_sales_channel\n",
    "        policy_sales_channel_mean_age = pd.DataFrame(df.groupby('policy_sales_channel')['age'].mean()).\\\n",
    "                                                    reset_index().rename(columns={'age':'mean_age_by_policy_sales_channel'})\n",
    "        \n",
    "        df = pd.merge(df, policy_sales_channel_mean_age, how='left', on='policy_sales_channel')\n",
    "        df['age_mean_age_by_policy_sales_channel'] = df['age'] / df['mean_age_by_policy_sales_channel']\n",
    "        #del policy_sales_channel_mean_age\n",
    "\n",
    "        # annual_premium / mean_annual_premium_by_region_code\n",
    "        region_code_mean_annual_premium = pd.DataFrame(df.groupby('region_code')['annual_premium'].mean()).\\\n",
    "                                                    reset_index().rename(columns={'annual_premium':'mean_annual_premium_by_region_code'})\n",
    "        \n",
    "        df = pd.merge(df, region_code_mean_annual_premium, how='left', on='region_code')\n",
    "        df['annual_premium_mean_annual_premium_by_region_code'] = df['annual_premium'] / df['mean_annual_premium_by_region_code']\n",
    "        #del region_code_mean_annual_premium\n",
    "\n",
    "        # annual_premium / mean_annual_premium_by_policy_sales_channel\n",
    "        policy_sales_channel_mean_annual_premium = pd.DataFrame(df.groupby('policy_sales_channel')['annual_premium'].mean()).\\\n",
    "                                                    reset_index().rename(columns={'annual_premium':'mean_annual_premium_by_policy_sales_channel'})\n",
    "        \n",
    "        df = pd.merge(df, policy_sales_channel_mean_annual_premium, how='left', on='policy_sales_channel')\n",
    "        df['annual_premium_mean_annual_premium_by_policy_sales_channel'] = df['annual_premium'] / df['mean_annual_premium_by_policy_sales_channel']\n",
    "        #del policy_sales_channel_mean_annual_premium\n",
    "\n",
    "        # age / vintage\n",
    "        df['age_vintage'] = (df['age']*365) / df['vintage']\n",
    "\n",
    "        \n",
    "        return df\n",
    "    \n",
    "    def data_preparation(self, df):\n",
    "        # age_stage encoder\n",
    "        df['age_stage'] = self.age_stage_encoder.fit_transform(df['age_stage'])\n",
    "        \n",
    "        # gender encoder\n",
    "        df['gender'] = df['gender'].apply(lambda row: 0 if row == 'Male' else 1)\n",
    "        \n",
    "        columns = ['previously_insured',\n",
    "                   'vehicle_damage_license',\n",
    "                   'vehicle_damage_vehicle_age',\n",
    "                   'policy_sales_channel',\n",
    "                   'region_code',\n",
    "                   'vehicle_age',\n",
    "                   'age_mean_age_by_region_code',\n",
    "                   'age_mean_age_by_policy_sales_channel',\n",
    "                   'annual_premium_mean_annual_premium_by_region_code',\n",
    "                   'annual_premium_mean_annual_premium_by_policy_sales_channel',\n",
    "                   'age_stage',\n",
    "                   'vintage']\n",
    "        \n",
    "        return df[columns]\n",
    "    \n",
    "    \n",
    "    def get_prediction(self, model, df, original_dataset):\n",
    "        # Prediction\n",
    "        yhat = model.predict(df)\n",
    "        # Prediction Proba\n",
    "        yhat_proba = model.predict_proba(df)[:,1]\n",
    "        \n",
    "        # Original dataset with predictions\n",
    "        original_dataset['prediction'] = yhat\n",
    "        original_dataset['prediction_probality'] = yhat_proba\n",
    "        \n",
    "        #sort original dataset by prediction_probality\n",
    "        original_dataset = original_dataset.sort_values('prediction_probality', ascending=False)\n",
    "        \n",
    "        return original_dataset"
   ]
  },
  {
   "cell_type": "code",
   "execution_count": 49,
   "metadata": {
    "ExecuteTime": {
     "end_time": "2021-01-23T21:19:47.884439Z",
     "start_time": "2021-01-23T21:19:47.879438Z"
    }
   },
   "outputs": [],
   "source": [
    "pipeline = insuranse_cross_sell()"
   ]
  },
  {
   "cell_type": "code",
   "execution_count": 50,
   "metadata": {
    "ExecuteTime": {
     "end_time": "2021-01-23T21:19:48.712626Z",
     "start_time": "2021-01-23T21:19:48.681606Z"
    }
   },
   "outputs": [],
   "source": [
    "home_path          = 'D:/01-DataScience/04-Projetos/00-Git/insurance-cross-sell/'\n",
    "model = jb.load(open(home_path + '04-Model/model_xgb.pkl.z', 'rb'))"
   ]
  },
  {
   "cell_type": "code",
   "execution_count": 51,
   "metadata": {
    "ExecuteTime": {
     "end_time": "2021-01-23T21:19:52.917402Z",
     "start_time": "2021-01-23T21:19:49.371532Z"
    }
   },
   "outputs": [],
   "source": [
    "df01 = pipeline.data_cleaning(df_teste)\n",
    "df02 = pipeline.feature_engineering(df01)\n",
    "df03 = pipeline.data_preparation(df02)\n",
    "df04 = pipeline.get_prediction(model, df03, df_teste)"
   ]
  }
 ],
 "metadata": {
  "kernelspec": {
   "display_name": "Python 3",
   "language": "python",
   "name": "python3"
  },
  "language_info": {
   "codemirror_mode": {
    "name": "ipython",
    "version": 3
   },
   "file_extension": ".py",
   "mimetype": "text/x-python",
   "name": "python",
   "nbconvert_exporter": "python",
   "pygments_lexer": "ipython3",
   "version": "3.8.5"
  },
  "toc": {
   "base_numbering": 1,
   "nav_menu": {},
   "number_sections": true,
   "sideBar": true,
   "skip_h1_title": false,
   "title_cell": "Table of Contents",
   "title_sidebar": "Contents",
   "toc_cell": false,
   "toc_position": {},
   "toc_section_display": true,
   "toc_window_display": false
  }
 },
 "nbformat": 4,
 "nbformat_minor": 4
}
